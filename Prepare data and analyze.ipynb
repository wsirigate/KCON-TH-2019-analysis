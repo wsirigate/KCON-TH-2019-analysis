{
 "cells": [
  {
   "cell_type": "markdown",
   "metadata": {},
   "source": [
    "![an artist who join \"KCON Thailand 2019\"](img\\kcon.jpg)"
   ]
  },
  {
   "cell_type": "markdown",
   "metadata": {},
   "source": [
    "# Import necessary library"
   ]
  },
  {
   "cell_type": "code",
   "execution_count": 2,
   "metadata": {},
   "outputs": [],
   "source": [
    "import json\n",
    "import pandas as pd\n",
    "import matplotlib.pyplot as plt"
   ]
  },
  {
   "cell_type": "markdown",
   "metadata": {},
   "source": [
    "# Read data 01/09/2019"
   ]
  },
  {
   "cell_type": "code",
   "execution_count": 3,
   "metadata": {},
   "outputs": [
    {
     "name": "stdout",
     "output_type": "stream",
     "text": [
      "7884\n"
     ]
    }
   ],
   "source": [
    "tweets_data = []\n",
    "tweets_data_path = 'new_data.txt'\n",
    "\n",
    "tweets_file = open(tweets_data_path, \"r\")\n",
    "for line in tweets_file:\n",
    "    try:\n",
    "        tweet = json.loads(line)\n",
    "        tweets_data.append(tweet)\n",
    "    except:\n",
    "        continue\n",
    "        \n",
    "print(len(tweets_data))"
   ]
  },
  {
   "cell_type": "markdown",
   "metadata": {},
   "source": [
    "# Reformat time and convert UTC To THAI time zone"
   ]
  },
  {
   "cell_type": "code",
   "execution_count": 4,
   "metadata": {},
   "outputs": [],
   "source": [
    "from datetime import datetime, timezone\n",
    "import pytz"
   ]
  },
  {
   "cell_type": "code",
   "execution_count": 5,
   "metadata": {},
   "outputs": [],
   "source": [
    "thai_tz = pytz.timezone('Asia/Bangkok') # thai time zone"
   ]
  },
  {
   "cell_type": "code",
   "execution_count": 6,
   "metadata": {},
   "outputs": [],
   "source": [
    "# find error\n",
    "lst_error = []\n",
    "for i in range(len(tweets_data)):\n",
    "    try:\n",
    "        tweets_data[i]['created_at'].split(' ')\n",
    "    except:\n",
    "        lst_error.append(i)"
   ]
  },
  {
   "cell_type": "code",
   "execution_count": 7,
   "metadata": {},
   "outputs": [
    {
     "name": "stdout",
     "output_type": "stream",
     "text": [
      "[]\n"
     ]
    }
   ],
   "source": [
    "print(lst_error)"
   ]
  },
  {
   "cell_type": "code",
   "execution_count": 8,
   "metadata": {
    "scrolled": true
   },
   "outputs": [],
   "source": [
    "day = []\n",
    "for i in range(len(tweets_data)):\n",
    "    if i not in lst_error:\n",
    "        lst = tweets_data[i]['created_at'].split(' ')\n",
    "        tweets_data[i]['id'] = lst[0] # เก็บวันไวเในช่อง id\n",
    "        date = (lst[5]+'.'+lst[1]+'.'+lst[2]+' '+lst[3])\n",
    "        date_time = datetime.strptime(date, '%Y.%b.%d %H:%M:%S')\n",
    "        tweets_data[i]['created_at'] =  date_time.replace(tzinfo=timezone.utc).astimezone(thai_tz) # reset info and convert to thai timezone\n",
    "#         thai_time.strftime('%Y-%m-%d %H:%M:%S') # return time format yyyy-mm-dd hh:mm:ss\n",
    "#         print(tweets_data[i]['created_at'])\n",
    "#     else:\n",
    "#         print(i)"
   ]
  },
  {
   "cell_type": "markdown",
   "metadata": {},
   "source": [
    "# Test area"
   ]
  },
  {
   "cell_type": "code",
   "execution_count": 9,
   "metadata": {},
   "outputs": [],
   "source": [
    "for i in range(len(tweets_data)):\n",
    "    try:\n",
    "        check = tweets_data[i]['created_at']\n",
    "    except:\n",
    "        print(i)"
   ]
  },
  {
   "cell_type": "code",
   "execution_count": 10,
   "metadata": {
    "scrolled": true
   },
   "outputs": [],
   "source": [
    "time = [tweets_data[i]['created_at'] for i in range(len(tweets_data)) if i not in lst_error]\n",
    "language = [tweets_data[i]['lang'] for i in range(len(tweets_data)) if i not in lst_error]\n",
    "text =[tweets_data[i]['text'] for i in range(len(tweets_data)) if i not in lst_error]\n",
    "day = [tweets_data[i]['id'] for i in range(len(tweets_data)) if i not in lst_error]"
   ]
  },
  {
   "cell_type": "code",
   "execution_count": 11,
   "metadata": {},
   "outputs": [],
   "source": [
    "df = pd.DataFrame({'time':time, 'day':day, 'language':language, 'text':text})"
   ]
  },
  {
   "cell_type": "code",
   "execution_count": 47,
   "metadata": {
    "scrolled": true
   },
   "outputs": [
    {
     "data": {
      "text/plain": [
       "{'created_at': datetime.datetime(2019, 9, 1, 0, 58, 2, tzinfo=<DstTzInfo 'Asia/Bangkok' +07+7:00:00 STD>),\n",
       " 'id': 'Sat',\n",
       " 'id_str': '1167859102652846080',\n",
       " 'text': 'RT @KCONThailand: [#KCON2019THAILAND]\\n@ATEEZofficial came by to give future Cover Stars some tips! Check out what they have prepared for yo…',\n",
       " 'source': '<a href=\"http://twitter.com/download/iphone\" rel=\"nofollow\">Twitter for iPhone</a>',\n",
       " 'truncated': False,\n",
       " 'in_reply_to_status_id': None,\n",
       " 'in_reply_to_status_id_str': None,\n",
       " 'in_reply_to_user_id': None,\n",
       " 'in_reply_to_user_id_str': None,\n",
       " 'in_reply_to_screen_name': None,\n",
       " 'user': {'id': 2888664328,\n",
       "  'id_str': '2888664328',\n",
       "  'name': 'Marie🇨🇦',\n",
       "  'screen_name': 'LemieuxEve',\n",
       "  'location': 'Canada',\n",
       "  'url': None,\n",
       "  'description': 'I am myself💜',\n",
       "  'translator_type': 'none',\n",
       "  'protected': False,\n",
       "  'verified': False,\n",
       "  'followers_count': 98,\n",
       "  'friends_count': 1422,\n",
       "  'listed_count': 0,\n",
       "  'favourites_count': 9388,\n",
       "  'statuses_count': 489,\n",
       "  'created_at': 'Sun Nov 23 01:07:33 +0000 2014',\n",
       "  'utc_offset': None,\n",
       "  'time_zone': None,\n",
       "  'geo_enabled': False,\n",
       "  'lang': None,\n",
       "  'contributors_enabled': False,\n",
       "  'is_translator': False,\n",
       "  'profile_background_color': '000000',\n",
       "  'profile_background_image_url': 'http://abs.twimg.com/images/themes/theme1/bg.png',\n",
       "  'profile_background_image_url_https': 'https://abs.twimg.com/images/themes/theme1/bg.png',\n",
       "  'profile_background_tile': False,\n",
       "  'profile_link_color': '981CEB',\n",
       "  'profile_sidebar_border_color': '000000',\n",
       "  'profile_sidebar_fill_color': '000000',\n",
       "  'profile_text_color': '000000',\n",
       "  'profile_use_background_image': False,\n",
       "  'profile_image_url': 'http://pbs.twimg.com/profile_images/1164866874330550274/7Vp2U3Rg_normal.jpg',\n",
       "  'profile_image_url_https': 'https://pbs.twimg.com/profile_images/1164866874330550274/7Vp2U3Rg_normal.jpg',\n",
       "  'profile_banner_url': 'https://pbs.twimg.com/profile_banners/2888664328/1566562359',\n",
       "  'default_profile': False,\n",
       "  'default_profile_image': False,\n",
       "  'following': None,\n",
       "  'follow_request_sent': None,\n",
       "  'notifications': None},\n",
       " 'geo': None,\n",
       " 'coordinates': None,\n",
       " 'place': None,\n",
       " 'contributors': None,\n",
       " 'retweeted_status': {'created_at': 'Wed Aug 28 15:00:01 +0000 2019',\n",
       "  'id': 1166727140814905351,\n",
       "  'id_str': '1166727140814905351',\n",
       "  'text': '[#KCON2019THAILAND]\\n@ATEEZofficial came by to give future Cover Stars some tips! Check out what they have prepared… https://t.co/4olrdZ53Ex',\n",
       "  'display_text_range': [0, 140],\n",
       "  'source': '<a href=\"https://studio.twitter.com\" rel=\"nofollow\">Twitter Media Studio</a>',\n",
       "  'truncated': True,\n",
       "  'in_reply_to_status_id': None,\n",
       "  'in_reply_to_status_id_str': None,\n",
       "  'in_reply_to_user_id': None,\n",
       "  'in_reply_to_user_id_str': None,\n",
       "  'in_reply_to_screen_name': None,\n",
       "  'user': {'id': 1016915237151203328,\n",
       "   'id_str': '1016915237151203328',\n",
       "   'name': 'KCON THAILAND',\n",
       "   'screen_name': 'KCONThailand',\n",
       "   'location': 'Bangkok, Thailand',\n",
       "   'url': None,\n",
       "   'description': 'KCON 2019 THAILAND OFFICIAL TWITTER',\n",
       "   'translator_type': 'none',\n",
       "   'protected': False,\n",
       "   'verified': True,\n",
       "   'followers_count': 58657,\n",
       "   'friends_count': 8,\n",
       "   'listed_count': 36,\n",
       "   'favourites_count': 211,\n",
       "   'statuses_count': 231,\n",
       "   'created_at': 'Wed Jul 11 05:21:00 +0000 2018',\n",
       "   'utc_offset': None,\n",
       "   'time_zone': None,\n",
       "   'geo_enabled': False,\n",
       "   'lang': None,\n",
       "   'contributors_enabled': False,\n",
       "   'is_translator': False,\n",
       "   'profile_background_color': '000000',\n",
       "   'profile_background_image_url': 'http://abs.twimg.com/images/themes/theme1/bg.png',\n",
       "   'profile_background_image_url_https': 'https://abs.twimg.com/images/themes/theme1/bg.png',\n",
       "   'profile_background_tile': False,\n",
       "   'profile_link_color': 'FF691F',\n",
       "   'profile_sidebar_border_color': '000000',\n",
       "   'profile_sidebar_fill_color': '000000',\n",
       "   'profile_text_color': '000000',\n",
       "   'profile_use_background_image': False,\n",
       "   'profile_image_url': 'http://pbs.twimg.com/profile_images/1117699659244298240/60SOkoyW_normal.png',\n",
       "   'profile_image_url_https': 'https://pbs.twimg.com/profile_images/1117699659244298240/60SOkoyW_normal.png',\n",
       "   'profile_banner_url': 'https://pbs.twimg.com/profile_banners/1016915237151203328/1555290212',\n",
       "   'default_profile': False,\n",
       "   'default_profile_image': False,\n",
       "   'following': None,\n",
       "   'follow_request_sent': None,\n",
       "   'notifications': None},\n",
       "  'geo': None,\n",
       "  'coordinates': None,\n",
       "  'place': None,\n",
       "  'contributors': None,\n",
       "  'is_quote_status': False,\n",
       "  'extended_tweet': {'full_text': '[#KCON2019THAILAND]\\n@ATEEZofficial came by to give future Cover Stars some tips! Check out what they have prepared for you:)\\n\\nAPPLY NOW to become the next #CoverStarK!\\n➤ https://t.co/06k8oP8gbG\\n\\nAPPLICATION PERIOD: 8/26-9/6\\nFINALIST VOTING: 9/7-9/11\\nFINALISTS VIDEO RELEASE: 9/20 https://t.co/EYSu7mQ04V',\n",
       "   'display_text_range': [0, 279],\n",
       "   'entities': {'hashtags': [{'text': 'KCON2019THAILAND', 'indices': [1, 18]},\n",
       "     {'text': 'CoverStarK', 'indices': [155, 166]}],\n",
       "    'urls': [{'url': 'https://t.co/06k8oP8gbG',\n",
       "      'expanded_url': 'http://bit.ly/2PoAcQW',\n",
       "      'display_url': 'bit.ly/2PoAcQW',\n",
       "      'indices': [170, 193]}],\n",
       "    'user_mentions': [{'screen_name': 'ATEEZofficial',\n",
       "      'name': 'ATEEZ(에이티즈)',\n",
       "      'id': 923415570522914819,\n",
       "      'id_str': '923415570522914819',\n",
       "      'indices': [20, 34]}],\n",
       "    'symbols': [],\n",
       "    'media': [{'id': 1166674938134024192,\n",
       "      'id_str': '1166674938134024192',\n",
       "      'indices': [280, 303],\n",
       "      'additional_media_info': {'title': '',\n",
       "       'description': '',\n",
       "       'embeddable': True,\n",
       "       'monetizable': False},\n",
       "      'media_url': 'http://pbs.twimg.com/amplify_video_thumb/1166674938134024192/img/bebz6tw5bEtL4IqX.jpg',\n",
       "      'media_url_https': 'https://pbs.twimg.com/amplify_video_thumb/1166674938134024192/img/bebz6tw5bEtL4IqX.jpg',\n",
       "      'url': 'https://t.co/EYSu7mQ04V',\n",
       "      'display_url': 'pic.twitter.com/EYSu7mQ04V',\n",
       "      'expanded_url': 'https://twitter.com/KCONThailand/status/1166727140814905351/video/1',\n",
       "      'type': 'video',\n",
       "      'video_info': {'aspect_ratio': [16, 9],\n",
       "       'duration_millis': 114281,\n",
       "       'variants': [{'bitrate': 288000,\n",
       "         'content_type': 'video/mp4',\n",
       "         'url': 'https://video.twimg.com/amplify_video/1166674938134024192/vid/480x270/vnc5TTaS8rQLSIS6.mp4?tag=13'},\n",
       "        {'bitrate': 2176000,\n",
       "         'content_type': 'video/mp4',\n",
       "         'url': 'https://video.twimg.com/amplify_video/1166674938134024192/vid/1280x720/BqMuOPOGlFYOat3-.mp4?tag=13'},\n",
       "        {'content_type': 'application/x-mpegURL',\n",
       "         'url': 'https://video.twimg.com/amplify_video/1166674938134024192/pl/tRbSGZk2g4Oybi36.m3u8?tag=13'},\n",
       "        {'bitrate': 832000,\n",
       "         'content_type': 'video/mp4',\n",
       "         'url': 'https://video.twimg.com/amplify_video/1166674938134024192/vid/640x360/PxiXZRdlebl5Rcb3.mp4?tag=13'}]},\n",
       "      'sizes': {'thumb': {'w': 150, 'h': 150, 'resize': 'crop'},\n",
       "       'medium': {'w': 1200, 'h': 675, 'resize': 'fit'},\n",
       "       'small': {'w': 680, 'h': 383, 'resize': 'fit'},\n",
       "       'large': {'w': 1280, 'h': 720, 'resize': 'fit'}}}]},\n",
       "   'extended_entities': {'media': [{'id': 1166674938134024192,\n",
       "      'id_str': '1166674938134024192',\n",
       "      'indices': [280, 303],\n",
       "      'additional_media_info': {'title': '',\n",
       "       'description': '',\n",
       "       'embeddable': True,\n",
       "       'monetizable': False},\n",
       "      'media_url': 'http://pbs.twimg.com/amplify_video_thumb/1166674938134024192/img/bebz6tw5bEtL4IqX.jpg',\n",
       "      'media_url_https': 'https://pbs.twimg.com/amplify_video_thumb/1166674938134024192/img/bebz6tw5bEtL4IqX.jpg',\n",
       "      'url': 'https://t.co/EYSu7mQ04V',\n",
       "      'display_url': 'pic.twitter.com/EYSu7mQ04V',\n",
       "      'expanded_url': 'https://twitter.com/KCONThailand/status/1166727140814905351/video/1',\n",
       "      'type': 'video',\n",
       "      'video_info': {'aspect_ratio': [16, 9],\n",
       "       'duration_millis': 114281,\n",
       "       'variants': [{'bitrate': 288000,\n",
       "         'content_type': 'video/mp4',\n",
       "         'url': 'https://video.twimg.com/amplify_video/1166674938134024192/vid/480x270/vnc5TTaS8rQLSIS6.mp4?tag=13'},\n",
       "        {'bitrate': 2176000,\n",
       "         'content_type': 'video/mp4',\n",
       "         'url': 'https://video.twimg.com/amplify_video/1166674938134024192/vid/1280x720/BqMuOPOGlFYOat3-.mp4?tag=13'},\n",
       "        {'content_type': 'application/x-mpegURL',\n",
       "         'url': 'https://video.twimg.com/amplify_video/1166674938134024192/pl/tRbSGZk2g4Oybi36.m3u8?tag=13'},\n",
       "        {'bitrate': 832000,\n",
       "         'content_type': 'video/mp4',\n",
       "         'url': 'https://video.twimg.com/amplify_video/1166674938134024192/vid/640x360/PxiXZRdlebl5Rcb3.mp4?tag=13'}]},\n",
       "      'sizes': {'thumb': {'w': 150, 'h': 150, 'resize': 'crop'},\n",
       "       'medium': {'w': 1200, 'h': 675, 'resize': 'fit'},\n",
       "       'small': {'w': 680, 'h': 383, 'resize': 'fit'},\n",
       "       'large': {'w': 1280, 'h': 720, 'resize': 'fit'}}}]}},\n",
       "  'quote_count': 18,\n",
       "  'reply_count': 30,\n",
       "  'retweet_count': 1531,\n",
       "  'favorite_count': 8755,\n",
       "  'entities': {'hashtags': [{'text': 'KCON2019THAILAND', 'indices': [1, 18]}],\n",
       "   'urls': [{'url': 'https://t.co/4olrdZ53Ex',\n",
       "     'expanded_url': 'https://twitter.com/i/web/status/1166727140814905351',\n",
       "     'display_url': 'twitter.com/i/web/status/1…',\n",
       "     'indices': [116, 139]}],\n",
       "   'user_mentions': [{'screen_name': 'ATEEZofficial',\n",
       "     'name': 'ATEEZ(에이티즈)',\n",
       "     'id': 923415570522914819,\n",
       "     'id_str': '923415570522914819',\n",
       "     'indices': [20, 34]}],\n",
       "   'symbols': []},\n",
       "  'favorited': False,\n",
       "  'retweeted': False,\n",
       "  'possibly_sensitive': False,\n",
       "  'filter_level': 'low',\n",
       "  'lang': 'en'},\n",
       " 'is_quote_status': False,\n",
       " 'quote_count': 0,\n",
       " 'reply_count': 0,\n",
       " 'retweet_count': 0,\n",
       " 'favorite_count': 0,\n",
       " 'entities': {'hashtags': [{'text': 'KCON2019THAILAND', 'indices': [19, 36]}],\n",
       "  'urls': [],\n",
       "  'user_mentions': [{'screen_name': 'KCONThailand',\n",
       "    'name': 'KCON THAILAND',\n",
       "    'id': 1016915237151203328,\n",
       "    'id_str': '1016915237151203328',\n",
       "    'indices': [3, 16]},\n",
       "   {'screen_name': 'ATEEZofficial',\n",
       "    'name': 'ATEEZ(에이티즈)',\n",
       "    'id': 923415570522914819,\n",
       "    'id_str': '923415570522914819',\n",
       "    'indices': [38, 52]}],\n",
       "  'symbols': []},\n",
       " 'favorited': False,\n",
       " 'retweeted': False,\n",
       " 'filter_level': 'low',\n",
       " 'lang': 'en',\n",
       " 'timestamp_ms': '1567274282502'}"
      ]
     },
     "execution_count": 47,
     "metadata": {},
     "output_type": "execute_result"
    }
   ],
   "source": [
    "tweets_data[10]"
   ]
  },
  {
   "cell_type": "code",
   "execution_count": 13,
   "metadata": {},
   "outputs": [
    {
     "data": {
      "text/html": [
       "<div>\n",
       "<style scoped>\n",
       "    .dataframe tbody tr th:only-of-type {\n",
       "        vertical-align: middle;\n",
       "    }\n",
       "\n",
       "    .dataframe tbody tr th {\n",
       "        vertical-align: top;\n",
       "    }\n",
       "\n",
       "    .dataframe thead th {\n",
       "        text-align: right;\n",
       "    }\n",
       "</style>\n",
       "<table border=\"1\" class=\"dataframe\">\n",
       "  <thead>\n",
       "    <tr style=\"text-align: right;\">\n",
       "      <th></th>\n",
       "      <th>time</th>\n",
       "      <th>day</th>\n",
       "      <th>language</th>\n",
       "      <th>text</th>\n",
       "    </tr>\n",
       "  </thead>\n",
       "  <tbody>\n",
       "    <tr>\n",
       "      <th>7879</th>\n",
       "      <td>2019-09-01 23:54:44+07:00</td>\n",
       "      <td>Sun</td>\n",
       "      <td>th</td>\n",
       "      <td>RT @yoTamStyle: แจก!‼ ฉลองเปิดร้าน🎉🎉🎉🎉\\nบัตร #...</td>\n",
       "    </tr>\n",
       "    <tr>\n",
       "      <th>7880</th>\n",
       "      <td>2019-09-01 23:54:49+07:00</td>\n",
       "      <td>Sun</td>\n",
       "      <td>en</td>\n",
       "      <td>RT @KCONThailand: [#KCON2019THAILAND ]\\nHappy ...</td>\n",
       "    </tr>\n",
       "    <tr>\n",
       "      <th>7881</th>\n",
       "      <td>2019-09-01 23:55:14+07:00</td>\n",
       "      <td>Sun</td>\n",
       "      <td>th</td>\n",
       "      <td>RT @yoTamStyle: แจก!‼ ฉลองเปิดร้าน🎉🎉🎉🎉\\nบัตร #...</td>\n",
       "    </tr>\n",
       "    <tr>\n",
       "      <th>7882</th>\n",
       "      <td>2019-09-01 23:55:16+07:00</td>\n",
       "      <td>Sun</td>\n",
       "      <td>th</td>\n",
       "      <td>มีใครสนใจหารกันมั้ยคะ เราเอาวันเสาร์ คนละ2500ค...</td>\n",
       "    </tr>\n",
       "    <tr>\n",
       "      <th>7883</th>\n",
       "      <td>2019-09-01 23:55:28+07:00</td>\n",
       "      <td>Sun</td>\n",
       "      <td>th</td>\n",
       "      <td>คือซื้อบัตรคอมโบมา แล้วซื้อมีทแบบวันเดย์พาสแล้...</td>\n",
       "    </tr>\n",
       "  </tbody>\n",
       "</table>\n",
       "</div>"
      ],
      "text/plain": [
       "                          time  day language  \\\n",
       "7879 2019-09-01 23:54:44+07:00  Sun       th   \n",
       "7880 2019-09-01 23:54:49+07:00  Sun       en   \n",
       "7881 2019-09-01 23:55:14+07:00  Sun       th   \n",
       "7882 2019-09-01 23:55:16+07:00  Sun       th   \n",
       "7883 2019-09-01 23:55:28+07:00  Sun       th   \n",
       "\n",
       "                                                   text  \n",
       "7879  RT @yoTamStyle: แจก!‼ ฉลองเปิดร้าน🎉🎉🎉🎉\\nบัตร #...  \n",
       "7880  RT @KCONThailand: [#KCON2019THAILAND ]\\nHappy ...  \n",
       "7881  RT @yoTamStyle: แจก!‼ ฉลองเปิดร้าน🎉🎉🎉🎉\\nบัตร #...  \n",
       "7882  มีใครสนใจหารกันมั้ยคะ เราเอาวันเสาร์ คนละ2500ค...  \n",
       "7883  คือซื้อบัตรคอมโบมา แล้วซื้อมีทแบบวันเดย์พาสแล้...  "
      ]
     },
     "execution_count": 13,
     "metadata": {},
     "output_type": "execute_result"
    }
   ],
   "source": [
    "df.tail(5)"
   ]
  },
  {
   "cell_type": "code",
   "execution_count": 14,
   "metadata": {},
   "outputs": [
    {
     "data": {
      "text/plain": [
       "th     6439\n",
       "en     1125\n",
       "und     244\n",
       "ko       28\n",
       "tl       12\n",
       "in        9\n",
       "vi        7\n",
       "eu        6\n",
       "ja        6\n",
       "es        4\n",
       "ar        1\n",
       "et        1\n",
       "tr        1\n",
       "pt        1\n",
       "Name: language, dtype: int64"
      ]
     },
     "execution_count": 14,
     "metadata": {},
     "output_type": "execute_result"
    }
   ],
   "source": [
    "df['language'].value_counts()"
   ]
  },
  {
   "cell_type": "code",
   "execution_count": 15,
   "metadata": {
    "scrolled": true
   },
   "outputs": [
    {
     "data": {
      "text/plain": [
       "{'created_at': datetime.datetime(2019, 9, 1, 6, 53, 5, tzinfo=<DstTzInfo 'Asia/Bangkok' +07+7:00:00 STD>),\n",
       " 'id': 'Sat',\n",
       " 'id_str': '1167948455269978113',\n",
       " 'text': 'RT @KCONThailand: [#KCON2019THAILAND]\\nLove Call สำหรับ ONE IT พิกกี้บูบู้ของ #X1\\nตอบรับกันตอนนี้เลย!\\n\\nการพบกันครั้งแรกของ X1 และ ONE IT ➤ h…',\n",
       " 'source': '<a href=\"http://twitter.com/download/android\" rel=\"nofollow\">Twitter for Android</a>',\n",
       " 'truncated': False,\n",
       " 'in_reply_to_status_id': None,\n",
       " 'in_reply_to_status_id_str': None,\n",
       " 'in_reply_to_user_id': None,\n",
       " 'in_reply_to_user_id_str': None,\n",
       " 'in_reply_to_screen_name': None,\n",
       " 'user': {'id': 1115108934887530496,\n",
       "  'id_str': '1115108934887530496',\n",
       "  'name': 'Wannable |คุณแดนกลับมาแล้ว😙❤|',\n",
       "  'screen_name': 'Wannabl80850991',\n",
       "  'location': None,\n",
       "  'url': None,\n",
       "  'description': 'WannaOne Forever\\nWannable💛แดเนียลผู้กุมหัวใจ❤\\nEXO💛EXO-L❤ทาสปะดิ้วเมนทุกคน😂\\n💕 เก็บตังค์ไปคอน#dek63 \\n#หลินหลินเบอร์สุ่ม #หลินหลินแจก #รีวิวหลินหลินเบอร์สุ่ม',\n",
       "  'translator_type': 'none',\n",
       "  'protected': False,\n",
       "  'verified': False,\n",
       "  'followers_count': 39,\n",
       "  'friends_count': 1079,\n",
       "  'listed_count': 0,\n",
       "  'favourites_count': 6206,\n",
       "  'statuses_count': 4873,\n",
       "  'created_at': 'Mon Apr 08 04:27:42 +0000 2019',\n",
       "  'utc_offset': None,\n",
       "  'time_zone': None,\n",
       "  'geo_enabled': False,\n",
       "  'lang': None,\n",
       "  'contributors_enabled': False,\n",
       "  'is_translator': False,\n",
       "  'profile_background_color': 'F5F8FA',\n",
       "  'profile_background_image_url': '',\n",
       "  'profile_background_image_url_https': '',\n",
       "  'profile_background_tile': False,\n",
       "  'profile_link_color': '1DA1F2',\n",
       "  'profile_sidebar_border_color': 'C0DEED',\n",
       "  'profile_sidebar_fill_color': 'DDEEF6',\n",
       "  'profile_text_color': '333333',\n",
       "  'profile_use_background_image': True,\n",
       "  'profile_image_url': 'http://pbs.twimg.com/profile_images/1115121567111843842/ES5VeZqY_normal.jpg',\n",
       "  'profile_image_url_https': 'https://pbs.twimg.com/profile_images/1115121567111843842/ES5VeZqY_normal.jpg',\n",
       "  'profile_banner_url': 'https://pbs.twimg.com/profile_banners/1115108934887530496/1554700698',\n",
       "  'default_profile': True,\n",
       "  'default_profile_image': False,\n",
       "  'following': None,\n",
       "  'follow_request_sent': None,\n",
       "  'notifications': None},\n",
       " 'geo': None,\n",
       " 'coordinates': None,\n",
       " 'place': None,\n",
       " 'contributors': None,\n",
       " 'retweeted_status': {'created_at': 'Fri Aug 30 15:00:00 +0000 2019',\n",
       "  'id': 1167451912897290249,\n",
       "  'id_str': '1167451912897290249',\n",
       "  'text': '[#KCON2019THAILAND]\\nLove Call สำหรับ ONE IT พิกกี้บูบู้ของ #X1\\nตอบรับกันตอนนี้เลย!\\n\\nการพบกันครั้งแรกของ X1 และ ONE… https://t.co/9UnxcvG6n9',\n",
       "  'display_text_range': [0, 140],\n",
       "  'source': '<a href=\"https://studio.twitter.com\" rel=\"nofollow\">Twitter Media Studio</a>',\n",
       "  'truncated': True,\n",
       "  'in_reply_to_status_id': None,\n",
       "  'in_reply_to_status_id_str': None,\n",
       "  'in_reply_to_user_id': None,\n",
       "  'in_reply_to_user_id_str': None,\n",
       "  'in_reply_to_screen_name': None,\n",
       "  'user': {'id': 1016915237151203328,\n",
       "   'id_str': '1016915237151203328',\n",
       "   'name': 'KCON THAILAND',\n",
       "   'screen_name': 'KCONThailand',\n",
       "   'location': 'Bangkok, Thailand',\n",
       "   'url': None,\n",
       "   'description': 'KCON 2019 THAILAND OFFICIAL TWITTER',\n",
       "   'translator_type': 'none',\n",
       "   'protected': False,\n",
       "   'verified': True,\n",
       "   'followers_count': 58687,\n",
       "   'friends_count': 8,\n",
       "   'listed_count': 36,\n",
       "   'favourites_count': 211,\n",
       "   'statuses_count': 231,\n",
       "   'created_at': 'Wed Jul 11 05:21:00 +0000 2018',\n",
       "   'utc_offset': None,\n",
       "   'time_zone': None,\n",
       "   'geo_enabled': False,\n",
       "   'lang': None,\n",
       "   'contributors_enabled': False,\n",
       "   'is_translator': False,\n",
       "   'profile_background_color': '000000',\n",
       "   'profile_background_image_url': 'http://abs.twimg.com/images/themes/theme1/bg.png',\n",
       "   'profile_background_image_url_https': 'https://abs.twimg.com/images/themes/theme1/bg.png',\n",
       "   'profile_background_tile': False,\n",
       "   'profile_link_color': 'FF691F',\n",
       "   'profile_sidebar_border_color': '000000',\n",
       "   'profile_sidebar_fill_color': '000000',\n",
       "   'profile_text_color': '000000',\n",
       "   'profile_use_background_image': False,\n",
       "   'profile_image_url': 'http://pbs.twimg.com/profile_images/1117699659244298240/60SOkoyW_normal.png',\n",
       "   'profile_image_url_https': 'https://pbs.twimg.com/profile_images/1117699659244298240/60SOkoyW_normal.png',\n",
       "   'profile_banner_url': 'https://pbs.twimg.com/profile_banners/1016915237151203328/1555290212',\n",
       "   'default_profile': False,\n",
       "   'default_profile_image': False,\n",
       "   'following': None,\n",
       "   'follow_request_sent': None,\n",
       "   'notifications': None},\n",
       "  'geo': None,\n",
       "  'coordinates': None,\n",
       "  'place': None,\n",
       "  'contributors': None,\n",
       "  'is_quote_status': False,\n",
       "  'extended_tweet': {'full_text': '[#KCON2019THAILAND]\\nLove Call สำหรับ ONE IT พิกกี้บูบู้ของ #X1\\nตอบรับกันตอนนี้เลย!\\n\\nการพบกันครั้งแรกของ X1 และ ONE IT ➤ https://t.co/p14yxyFWmK \\n\\n@x1official101 #X1_KCON #วันอิท #วอนอิท https://t.co/faV47kXrhP',\n",
       "   'display_text_range': [0, 185],\n",
       "   'entities': {'hashtags': [{'text': 'KCON2019THAILAND', 'indices': [1, 18]},\n",
       "     {'text': 'X1', 'indices': [59, 62]},\n",
       "     {'text': 'X1_KCON', 'indices': [161, 169]},\n",
       "     {'text': 'วันอิท', 'indices': [170, 177]},\n",
       "     {'text': 'วอนอิท', 'indices': [178, 185]}],\n",
       "    'urls': [{'url': 'https://t.co/p14yxyFWmK',\n",
       "      'expanded_url': 'https://bit.ly/2MDJIgY',\n",
       "      'display_url': 'bit.ly/2MDJIgY',\n",
       "      'indices': [120, 143]}],\n",
       "    'user_mentions': [{'screen_name': 'x1official101',\n",
       "      'name': 'X1',\n",
       "      'id': 1145298826384687104,\n",
       "      'id_str': '1145298826384687104',\n",
       "      'indices': [146, 160]}],\n",
       "    'symbols': [],\n",
       "    'media': [{'id': 1167378980044865537,\n",
       "      'id_str': '1167378980044865537',\n",
       "      'indices': [186, 209],\n",
       "      'additional_media_info': {'title': '',\n",
       "       'description': '',\n",
       "       'embeddable': True,\n",
       "       'monetizable': False},\n",
       "      'media_url': 'http://pbs.twimg.com/media/EDNdY6EU0AACUYS.jpg',\n",
       "      'media_url_https': 'https://pbs.twimg.com/media/EDNdY6EU0AACUYS.jpg',\n",
       "      'url': 'https://t.co/faV47kXrhP',\n",
       "      'display_url': 'pic.twitter.com/faV47kXrhP',\n",
       "      'expanded_url': 'https://twitter.com/KCONThailand/status/1167451912897290249/video/1',\n",
       "      'type': 'video',\n",
       "      'video_info': {'aspect_ratio': [16, 9],\n",
       "       'duration_millis': 111133,\n",
       "       'variants': [{'content_type': 'application/x-mpegURL',\n",
       "         'url': 'https://video.twimg.com/amplify_video/1167378980044865537/pl/bymHDriGyL5a-B56.m3u8?tag=13'},\n",
       "        {'bitrate': 832000,\n",
       "         'content_type': 'video/mp4',\n",
       "         'url': 'https://video.twimg.com/amplify_video/1167378980044865537/vid/640x360/NEwvGDLyNhIi09QK.mp4?tag=13'},\n",
       "        {'bitrate': 2176000,\n",
       "         'content_type': 'video/mp4',\n",
       "         'url': 'https://video.twimg.com/amplify_video/1167378980044865537/vid/1280x720/zG1ccYHKXXpbiptP.mp4?tag=13'},\n",
       "        {'bitrate': 288000,\n",
       "         'content_type': 'video/mp4',\n",
       "         'url': 'https://video.twimg.com/amplify_video/1167378980044865537/vid/480x270/-29dNdCJPxbP2-0A.mp4?tag=13'}]},\n",
       "      'sizes': {'thumb': {'w': 150, 'h': 150, 'resize': 'crop'},\n",
       "       'large': {'w': 640, 'h': 360, 'resize': 'fit'},\n",
       "       'medium': {'w': 640, 'h': 360, 'resize': 'fit'},\n",
       "       'small': {'w': 640, 'h': 360, 'resize': 'fit'}}}]},\n",
       "   'extended_entities': {'media': [{'id': 1167378980044865537,\n",
       "      'id_str': '1167378980044865537',\n",
       "      'indices': [186, 209],\n",
       "      'additional_media_info': {'title': '',\n",
       "       'description': '',\n",
       "       'embeddable': True,\n",
       "       'monetizable': False},\n",
       "      'media_url': 'http://pbs.twimg.com/media/EDNdY6EU0AACUYS.jpg',\n",
       "      'media_url_https': 'https://pbs.twimg.com/media/EDNdY6EU0AACUYS.jpg',\n",
       "      'url': 'https://t.co/faV47kXrhP',\n",
       "      'display_url': 'pic.twitter.com/faV47kXrhP',\n",
       "      'expanded_url': 'https://twitter.com/KCONThailand/status/1167451912897290249/video/1',\n",
       "      'type': 'video',\n",
       "      'video_info': {'aspect_ratio': [16, 9],\n",
       "       'duration_millis': 111133,\n",
       "       'variants': [{'content_type': 'application/x-mpegURL',\n",
       "         'url': 'https://video.twimg.com/amplify_video/1167378980044865537/pl/bymHDriGyL5a-B56.m3u8?tag=13'},\n",
       "        {'bitrate': 832000,\n",
       "         'content_type': 'video/mp4',\n",
       "         'url': 'https://video.twimg.com/amplify_video/1167378980044865537/vid/640x360/NEwvGDLyNhIi09QK.mp4?tag=13'},\n",
       "        {'bitrate': 2176000,\n",
       "         'content_type': 'video/mp4',\n",
       "         'url': 'https://video.twimg.com/amplify_video/1167378980044865537/vid/1280x720/zG1ccYHKXXpbiptP.mp4?tag=13'},\n",
       "        {'bitrate': 288000,\n",
       "         'content_type': 'video/mp4',\n",
       "         'url': 'https://video.twimg.com/amplify_video/1167378980044865537/vid/480x270/-29dNdCJPxbP2-0A.mp4?tag=13'}]},\n",
       "      'sizes': {'thumb': {'w': 150, 'h': 150, 'resize': 'crop'},\n",
       "       'large': {'w': 640, 'h': 360, 'resize': 'fit'},\n",
       "       'medium': {'w': 640, 'h': 360, 'resize': 'fit'},\n",
       "       'small': {'w': 640, 'h': 360, 'resize': 'fit'}}}]}},\n",
       "  'quote_count': 1057,\n",
       "  'reply_count': 418,\n",
       "  'retweet_count': 27885,\n",
       "  'favorite_count': 42442,\n",
       "  'entities': {'hashtags': [{'text': 'KCON2019THAILAND', 'indices': [1, 18]},\n",
       "    {'text': 'X1', 'indices': [59, 62]}],\n",
       "   'urls': [{'url': 'https://t.co/9UnxcvG6n9',\n",
       "     'expanded_url': 'https://twitter.com/i/web/status/1167451912897290249',\n",
       "     'display_url': 'twitter.com/i/web/status/1…',\n",
       "     'indices': [116, 139]}],\n",
       "   'user_mentions': [],\n",
       "   'symbols': []},\n",
       "  'favorited': False,\n",
       "  'retweeted': False,\n",
       "  'possibly_sensitive': False,\n",
       "  'filter_level': 'low',\n",
       "  'lang': 'th'},\n",
       " 'is_quote_status': False,\n",
       " 'quote_count': 0,\n",
       " 'reply_count': 0,\n",
       " 'retweet_count': 0,\n",
       " 'favorite_count': 0,\n",
       " 'entities': {'hashtags': [{'text': 'KCON2019THAILAND', 'indices': [19, 36]},\n",
       "   {'text': 'X1', 'indices': [77, 80]}],\n",
       "  'urls': [],\n",
       "  'user_mentions': [{'screen_name': 'KCONThailand',\n",
       "    'name': 'KCON THAILAND',\n",
       "    'id': 1016915237151203328,\n",
       "    'id_str': '1016915237151203328',\n",
       "    'indices': [3, 16]}],\n",
       "  'symbols': []},\n",
       " 'favorited': False,\n",
       " 'retweeted': False,\n",
       " 'filter_level': 'low',\n",
       " 'lang': 'th',\n",
       " 'timestamp_ms': '1567295585826'}"
      ]
     },
     "execution_count": 15,
     "metadata": {},
     "output_type": "execute_result"
    }
   ],
   "source": [
    "tweets_data[700]"
   ]
  },
  {
   "cell_type": "code",
   "execution_count": 16,
   "metadata": {},
   "outputs": [],
   "source": [
    "hashtag = []\n",
    "for j in range(len(tweets_data)):\n",
    "    if j not in lst_error:\n",
    "        for i in range(len(tweets_data[j]['entities']['hashtags'])):\n",
    "            hashtag.append(tweets_data[j]['entities']['hashtags'][i]['text'].upper())\n",
    "#           print(tweets_data[j]['entities']['hashtags'][i]['text'])"
   ]
  },
  {
   "cell_type": "code",
   "execution_count": 17,
   "metadata": {},
   "outputs": [
    {
     "name": "stdout",
     "output_type": "stream",
     "text": [
      "7884\n"
     ]
    }
   ],
   "source": [
    "print(len(tweets_data))"
   ]
  },
  {
   "cell_type": "code",
   "execution_count": 18,
   "metadata": {},
   "outputs": [
    {
     "data": {
      "text/plain": [
       "15782"
      ]
     },
     "execution_count": 18,
     "metadata": {},
     "output_type": "execute_result"
    }
   ],
   "source": [
    "len(hashtag)"
   ]
  },
  {
   "cell_type": "code",
   "execution_count": 19,
   "metadata": {},
   "outputs": [],
   "source": [
    "hashtag_df = pd.DataFrame({'hashtag':hashtag})"
   ]
  },
  {
   "cell_type": "code",
   "execution_count": 20,
   "metadata": {
    "scrolled": true
   },
   "outputs": [
    {
     "data": {
      "text/plain": [
       "KCON2019THAILAND                 5221\n",
       "X1                               1734\n",
       "KCON19TH                         1371\n",
       "IZONE                             801\n",
       "IZONE_KCON                        729\n",
       "YUJIN                             729\n",
       "KCONTHAILAND2019                  631\n",
       "GOT7                              463\n",
       "GOT7FANFESTINBKK                  427\n",
       "THEBOYZ                           309\n",
       "KCON                              105\n",
       "STRAYKIDS                          91\n",
       "EXPLORATIONINBKK                   90\n",
       "ATEEZ                              83\n",
       "โพลาลอยด์                          80\n",
       "X1_FLAϞH                           70\n",
       "COVERSTARK                         65\n",
       "ONEIT                              56\n",
       "ตลาดนัดอากาเซ่                     53\n",
       "ปรมาจารย์ลัทธิมารTHFANMEETING      51\n",
       "ตลาดนัดX1                          50\n",
       "AB6IX1STFMINBKK                    46\n",
       "สุ่มแจก                            45\n",
       "BOYSTORY                           43\n",
       "X1_KCON                            40\n",
       "วันอิท                             39\n",
       "BDYOUNGJAE                         36\n",
       "AB6IX                              36\n",
       "BDMARKTUAN                         36\n",
       "FANFESTINBKK                       36\n",
       "BDJINYOUNG                         36\n",
       "โพลารอยด์                          34\n",
       "ตลาดนัดAB6IX                       30\n",
       "ตลาดนัดอากาเซ                      30\n",
       "LETSKCON                           28\n",
       "COVERSTORY                         28\n",
       "รับทำของแจก                        28\n",
       "LAY_GRANDLINEINBKK                 27\n",
       "CHAEUNWOOINBKK                     26\n",
       "갓세븐                                26\n",
       "KCON2019                           25\n",
       "เอถีณี                             25\n",
       "FLASH1STWIN                        24\n",
       "EXOPLORATIONINBKK                  24\n",
       "KIMJAEHWAN                         23\n",
       "ตลาดนัดSTRAYKIDS                   23\n",
       "ITZY                               21\n",
       "เครื่องรางญี่ปุ่น                  20\n",
       "ตลาดนัดWANNAONE                    20\n",
       "ตลาดนัดกัซ                         20\n",
       "Name: hashtag, dtype: int64"
      ]
     },
     "execution_count": 20,
     "metadata": {},
     "output_type": "execute_result"
    }
   ],
   "source": [
    "hashtag_df['hashtag'].value_counts().head(50)"
   ]
  },
  {
   "cell_type": "code",
   "execution_count": 21,
   "metadata": {},
   "outputs": [
    {
     "data": {
      "text/plain": [
       "[0,\n",
       " 7200,\n",
       " 14400,\n",
       " 21600,\n",
       " 28800,\n",
       " 36000,\n",
       " 43200,\n",
       " 50400,\n",
       " 57600,\n",
       " 64800,\n",
       " 72000,\n",
       " 79200,\n",
       " 86400]"
      ]
     },
     "execution_count": 21,
     "metadata": {},
     "output_type": "execute_result"
    }
   ],
   "source": [
    "bins = list(range(0, 25*3600, 2*3600)) # แบ่งช่วงละ 2 ชั่วโมงและแปลงช่วงเป็นวินาที\n",
    "labels = ['0-2', '2-4', '4-6', '6-8', '8-10', '10-12', '12-14', '14-16', '16-18', '18-20', '20-22', '22-24'] # กำหนด label ของช่วง\n",
    "# print(list(range(0, 25, 2)))\n",
    "bins"
   ]
  },
  {
   "cell_type": "code",
   "execution_count": 22,
   "metadata": {},
   "outputs": [
    {
     "data": {
      "text/plain": [
       "[0,\n",
       " 3600,\n",
       " 7200,\n",
       " 10800,\n",
       " 14400,\n",
       " 18000,\n",
       " 21600,\n",
       " 25200,\n",
       " 28800,\n",
       " 32400,\n",
       " 36000,\n",
       " 39600,\n",
       " 43200,\n",
       " 46800,\n",
       " 50400,\n",
       " 54000,\n",
       " 57600,\n",
       " 61200,\n",
       " 64800,\n",
       " 68400,\n",
       " 72000,\n",
       " 75600,\n",
       " 79200,\n",
       " 82800,\n",
       " 86400]"
      ]
     },
     "execution_count": 22,
     "metadata": {},
     "output_type": "execute_result"
    }
   ],
   "source": [
    "list(range(0, 25*3600, 1*3600))\n",
    "bins = list(range(0, 25*3600, 1*3600)) # แบ่งช่วงละ 2 ชั่วโมงและแปลงช่วงเป็นวินาที\n",
    "labels = ['0','1','2','3','4','5','6','7','8','9','10','11','12','13','14','15','16','17','18','19','20','21','22','23'] # กำหนด label ของช่วง\n",
    "# print(list(range(0, 25, 2)))\n",
    "bins"
   ]
  },
  {
   "cell_type": "code",
   "execution_count": null,
   "metadata": {},
   "outputs": [],
   "source": []
  },
  {
   "cell_type": "code",
   "execution_count": 23,
   "metadata": {
    "scrolled": true
   },
   "outputs": [],
   "source": [
    "# df"
   ]
  },
  {
   "cell_type": "code",
   "execution_count": 24,
   "metadata": {},
   "outputs": [],
   "source": [
    "df['sec'] = df.time.dt.hour * 3600 + df.time.dt.minute*60 + df.time.dt.second"
   ]
  },
  {
   "cell_type": "code",
   "execution_count": 25,
   "metadata": {},
   "outputs": [
    {
     "data": {
      "text/html": [
       "<div>\n",
       "<style scoped>\n",
       "    .dataframe tbody tr th:only-of-type {\n",
       "        vertical-align: middle;\n",
       "    }\n",
       "\n",
       "    .dataframe tbody tr th {\n",
       "        vertical-align: top;\n",
       "    }\n",
       "\n",
       "    .dataframe thead th {\n",
       "        text-align: right;\n",
       "    }\n",
       "</style>\n",
       "<table border=\"1\" class=\"dataframe\">\n",
       "  <thead>\n",
       "    <tr style=\"text-align: right;\">\n",
       "      <th></th>\n",
       "      <th>time</th>\n",
       "      <th>day</th>\n",
       "      <th>language</th>\n",
       "      <th>text</th>\n",
       "      <th>sec</th>\n",
       "    </tr>\n",
       "  </thead>\n",
       "  <tbody>\n",
       "    <tr>\n",
       "      <th>0</th>\n",
       "      <td>2019-09-01 00:55:43+07:00</td>\n",
       "      <td>Sat</td>\n",
       "      <td>th</td>\n",
       "      <td>RT @vyz_wa: 0593939111 กสิกร \\nน.ส. ศรีสุดา ธน...</td>\n",
       "      <td>3343</td>\n",
       "    </tr>\n",
       "    <tr>\n",
       "      <th>1</th>\n",
       "      <td>2019-09-01 00:56:33+07:00</td>\n",
       "      <td>Sat</td>\n",
       "      <td>th</td>\n",
       "      <td>RT @KCONThailand: [#KCON2019THAILAND] UPDATED ...</td>\n",
       "      <td>3393</td>\n",
       "    </tr>\n",
       "    <tr>\n",
       "      <th>2</th>\n",
       "      <td>2019-09-01 00:56:35+07:00</td>\n",
       "      <td>Sat</td>\n",
       "      <td>th</td>\n",
       "      <td>RT @wjs_tarn: บน!! ถ้าหาบัตรดอยวันเสาร์ในราคา ...</td>\n",
       "      <td>3395</td>\n",
       "    </tr>\n",
       "    <tr>\n",
       "      <th>3</th>\n",
       "      <td>2019-09-01 00:56:41+07:00</td>\n",
       "      <td>Sat</td>\n",
       "      <td>th</td>\n",
       "      <td>RT @KCONThailand: [#KCON2019THAILAND]\\nLove Ca...</td>\n",
       "      <td>3401</td>\n",
       "    </tr>\n",
       "    <tr>\n",
       "      <th>4</th>\n",
       "      <td>2019-09-01 00:57:13+07:00</td>\n",
       "      <td>Sat</td>\n",
       "      <td>th</td>\n",
       "      <td>RT @KCONThailand: [#KCON2019THAILAND]\\nมา D.D....</td>\n",
       "      <td>3433</td>\n",
       "    </tr>\n",
       "  </tbody>\n",
       "</table>\n",
       "</div>"
      ],
      "text/plain": [
       "                       time  day language  \\\n",
       "0 2019-09-01 00:55:43+07:00  Sat       th   \n",
       "1 2019-09-01 00:56:33+07:00  Sat       th   \n",
       "2 2019-09-01 00:56:35+07:00  Sat       th   \n",
       "3 2019-09-01 00:56:41+07:00  Sat       th   \n",
       "4 2019-09-01 00:57:13+07:00  Sat       th   \n",
       "\n",
       "                                                text   sec  \n",
       "0  RT @vyz_wa: 0593939111 กสิกร \\nน.ส. ศรีสุดา ธน...  3343  \n",
       "1  RT @KCONThailand: [#KCON2019THAILAND] UPDATED ...  3393  \n",
       "2  RT @wjs_tarn: บน!! ถ้าหาบัตรดอยวันเสาร์ในราคา ...  3395  \n",
       "3  RT @KCONThailand: [#KCON2019THAILAND]\\nLove Ca...  3401  \n",
       "4  RT @KCONThailand: [#KCON2019THAILAND]\\nมา D.D....  3433  "
      ]
     },
     "execution_count": 25,
     "metadata": {},
     "output_type": "execute_result"
    }
   ],
   "source": [
    "df.head()"
   ]
  },
  {
   "cell_type": "code",
   "execution_count": 26,
   "metadata": {},
   "outputs": [],
   "source": [
    "df['group'] = pd.cut(df['sec'], bins=bins, labels=labels)"
   ]
  },
  {
   "cell_type": "markdown",
   "metadata": {},
   "source": [
    "# Time plot"
   ]
  },
  {
   "cell_type": "code",
   "execution_count": 27,
   "metadata": {},
   "outputs": [
    {
     "data": {
      "text/plain": [
       "Text(0, 0.5, 'number of tweets')"
      ]
     },
     "execution_count": 27,
     "metadata": {},
     "output_type": "execute_result"
    },
    {
     "data": {
      "image/png": "[encoded data removed]",
      "text/plain": [
       "<Figure size 432x288 with 1 Axes>"
      ]
     },
     "metadata": {
      "needs_background": "light"
     },
     "output_type": "display_data"
    }
   ],
   "source": [
    "fig = plt.figure()\n",
    "p = df.groupby('group').count()['time'].plot(color='brown')\n",
    "p.set_title('engagement by time.')\n",
    "p.set_xlabel('Time.')\n",
    "p.set_ylabel('number of tweets')"
   ]
  },
  {
   "cell_type": "markdown",
   "metadata": {},
   "source": [
    "# Arthist hashtag"
   ]
  },
  {
   "cell_type": "code",
   "execution_count": 28,
   "metadata": {},
   "outputs": [],
   "source": [
    "boystory = hashtag.count('BOYSTORY')\n",
    "everglow = hashtag.count('EVERGLOW')\n",
    "goldenchild = hashtag.count('GOLDENCHILD') + hashtag.count('GOLDEN_CHILD')\n",
    "got7 = hashtag.count('GOT7')\n",
    "itzy = hashtag.count('ITZY')\n",
    "kimjaehwan = hashtag.count('KIMJAEHWAN') + hashtag.count('คิมแจฮวาน')\n",
    "nature = hashtag.count('NATURE')\n",
    "oneus = hashtag.count('ONEUS')\n",
    "theboyz = hashtag.count('THEBOYZ')\n",
    "x1 = hashtag.count('X1')\n",
    "nichkhun = hashtag.count('NICHKHUN') + hashtag.count('นิชคุณ')\n",
    "gidle = hashtag.count('G_I_DLE') + hashtag.count('GIDLE')\n",
    "ab6ix = hashtag.count('AB6IX')\n",
    "ateez = hashtag.count('ATEEZ')\n",
    "bvndit = hashtag.count('BVNDIT')\n",
    "chungha = hashtag.count('CHUNGHA')\n",
    "izone = hashtag.count('IZONE')\n",
    "straykids = hashtag.count('STRAYKIDS')\n",
    "varivary = hashtag.count('VERIVERY')"
   ]
  },
  {
   "cell_type": "code",
   "execution_count": 29,
   "metadata": {},
   "outputs": [],
   "source": [
    "artist = ['BOYSTORY', 'EVERGLOW', 'GOLDENCHILD', 'GOT7', 'ITZY', 'KIMJAEHWAN', 'NATURE', 'ONEUS', 'THEBOYZ', 'X1', 'NICHKHUN', 'G_I_DLE', 'AB6IX', 'ATEEZ', 'BVNDIT', 'CHUNGHA', 'IZONE', 'STRAYKIDS', 'VERIVERY']\n",
    "hashtag_count = [boystory, everglow, goldenchild, got7, itzy, kimjaehwan, nature, oneus, theboyz, x1, nichkhun, gidle, ab6ix, ateez, bvndit, chungha, izone, straykids, varivary]\n",
    "artist_df = pd.DataFrame({'artist':artist, 'hashtag_count':hashtag_count})\n",
    "artist_df = artist_df.set_index('artist')"
   ]
  },
  {
   "cell_type": "code",
   "execution_count": 30,
   "metadata": {},
   "outputs": [
    {
     "data": {
      "text/plain": [
       "<matplotlib.axes._subplots.AxesSubplot at 0x1596ebeb0b8>"
      ]
     },
     "execution_count": 30,
     "metadata": {},
     "output_type": "execute_result"
    },
    {
     "data": {
      "image/png": "[encoded data removed]",
      "text/plain": [
       "<Figure size 432x288 with 1 Axes>"
      ]
     },
     "metadata": {
      "needs_background": "light"
     },
     "output_type": "display_data"
    }
   ],
   "source": [
    "artist_df.sort_values(by=['hashtag_count'], ascending=False)['hashtag_count'].plot.bar()"
   ]
  },
  {
   "cell_type": "markdown",
   "metadata": {},
   "source": [
    "# Log nomalized"
   ]
  },
  {
   "cell_type": "code",
   "execution_count": 31,
   "metadata": {},
   "outputs": [],
   "source": [
    "import numpy as np\n",
    "import pandas as pd\n",
    "\n",
    "artist_df['lognorm'] = np.log10(1+artist_df['hashtag_count'])"
   ]
  },
  {
   "cell_type": "code",
   "execution_count": 32,
   "metadata": {},
   "outputs": [],
   "source": [
    "# artist_df['lognorm'].plot.bar()"
   ]
  },
  {
   "cell_type": "code",
   "execution_count": 33,
   "metadata": {},
   "outputs": [
    {
     "data": {
      "text/plain": [
       "<matplotlib.axes._subplots.AxesSubplot at 0x159701a0ac8>"
      ]
     },
     "execution_count": 33,
     "metadata": {},
     "output_type": "execute_result"
    },
    {
     "data": {
      "image/png": "[encoded data removed]",
      "text/plain": [
       "<Figure size 432x288 with 1 Axes>"
      ]
     },
     "metadata": {
      "needs_background": "light"
     },
     "output_type": "display_data"
    }
   ],
   "source": [
    "artist_df.sort_values(by=['lognorm'], ascending=False)['lognorm'].plot.bar()"
   ]
  },
  {
   "cell_type": "code",
   "execution_count": 34,
   "metadata": {},
   "outputs": [
    {
     "data": {
      "text/plain": [
       "21"
      ]
     },
     "execution_count": 34,
     "metadata": {},
     "output_type": "execute_result"
    }
   ],
   "source": [
    "hashtag.count('ITZY')"
   ]
  },
  {
   "cell_type": "code",
   "execution_count": 35,
   "metadata": {},
   "outputs": [
    {
     "data": {
      "text/html": [
       "<div>\n",
       "<style scoped>\n",
       "    .dataframe tbody tr th:only-of-type {\n",
       "        vertical-align: middle;\n",
       "    }\n",
       "\n",
       "    .dataframe tbody tr th {\n",
       "        vertical-align: top;\n",
       "    }\n",
       "\n",
       "    .dataframe thead th {\n",
       "        text-align: right;\n",
       "    }\n",
       "</style>\n",
       "<table border=\"1\" class=\"dataframe\">\n",
       "  <thead>\n",
       "    <tr style=\"text-align: right;\">\n",
       "      <th></th>\n",
       "      <th>hashtag_count</th>\n",
       "      <th>lognorm</th>\n",
       "    </tr>\n",
       "    <tr>\n",
       "      <th>artist</th>\n",
       "      <th></th>\n",
       "      <th></th>\n",
       "    </tr>\n",
       "  </thead>\n",
       "  <tbody>\n",
       "    <tr>\n",
       "      <th>BOYSTORY</th>\n",
       "      <td>43</td>\n",
       "      <td>1.643453</td>\n",
       "    </tr>\n",
       "    <tr>\n",
       "      <th>EVERGLOW</th>\n",
       "      <td>4</td>\n",
       "      <td>0.698970</td>\n",
       "    </tr>\n",
       "    <tr>\n",
       "      <th>GOLDENCHILD</th>\n",
       "      <td>8</td>\n",
       "      <td>0.954243</td>\n",
       "    </tr>\n",
       "    <tr>\n",
       "      <th>GOT7</th>\n",
       "      <td>463</td>\n",
       "      <td>2.666518</td>\n",
       "    </tr>\n",
       "    <tr>\n",
       "      <th>ITZY</th>\n",
       "      <td>21</td>\n",
       "      <td>1.342423</td>\n",
       "    </tr>\n",
       "    <tr>\n",
       "      <th>KIMJAEHWAN</th>\n",
       "      <td>27</td>\n",
       "      <td>1.447158</td>\n",
       "    </tr>\n",
       "    <tr>\n",
       "      <th>NATURE</th>\n",
       "      <td>4</td>\n",
       "      <td>0.698970</td>\n",
       "    </tr>\n",
       "    <tr>\n",
       "      <th>ONEUS</th>\n",
       "      <td>14</td>\n",
       "      <td>1.176091</td>\n",
       "    </tr>\n",
       "    <tr>\n",
       "      <th>THEBOYZ</th>\n",
       "      <td>309</td>\n",
       "      <td>2.491362</td>\n",
       "    </tr>\n",
       "    <tr>\n",
       "      <th>X1</th>\n",
       "      <td>1734</td>\n",
       "      <td>3.239299</td>\n",
       "    </tr>\n",
       "    <tr>\n",
       "      <th>NICHKHUN</th>\n",
       "      <td>0</td>\n",
       "      <td>0.000000</td>\n",
       "    </tr>\n",
       "    <tr>\n",
       "      <th>G_I_DLE</th>\n",
       "      <td>17</td>\n",
       "      <td>1.255273</td>\n",
       "    </tr>\n",
       "    <tr>\n",
       "      <th>AB6IX</th>\n",
       "      <td>36</td>\n",
       "      <td>1.568202</td>\n",
       "    </tr>\n",
       "    <tr>\n",
       "      <th>ATEEZ</th>\n",
       "      <td>83</td>\n",
       "      <td>1.924279</td>\n",
       "    </tr>\n",
       "    <tr>\n",
       "      <th>BVNDIT</th>\n",
       "      <td>5</td>\n",
       "      <td>0.778151</td>\n",
       "    </tr>\n",
       "    <tr>\n",
       "      <th>CHUNGHA</th>\n",
       "      <td>7</td>\n",
       "      <td>0.903090</td>\n",
       "    </tr>\n",
       "    <tr>\n",
       "      <th>IZONE</th>\n",
       "      <td>801</td>\n",
       "      <td>2.904174</td>\n",
       "    </tr>\n",
       "    <tr>\n",
       "      <th>STRAYKIDS</th>\n",
       "      <td>91</td>\n",
       "      <td>1.963788</td>\n",
       "    </tr>\n",
       "    <tr>\n",
       "      <th>VERIVERY</th>\n",
       "      <td>10</td>\n",
       "      <td>1.041393</td>\n",
       "    </tr>\n",
       "  </tbody>\n",
       "</table>\n",
       "</div>"
      ],
      "text/plain": [
       "             hashtag_count   lognorm\n",
       "artist                              \n",
       "BOYSTORY                43  1.643453\n",
       "EVERGLOW                 4  0.698970\n",
       "GOLDENCHILD              8  0.954243\n",
       "GOT7                   463  2.666518\n",
       "ITZY                    21  1.342423\n",
       "KIMJAEHWAN              27  1.447158\n",
       "NATURE                   4  0.698970\n",
       "ONEUS                   14  1.176091\n",
       "THEBOYZ                309  2.491362\n",
       "X1                    1734  3.239299\n",
       "NICHKHUN                 0  0.000000\n",
       "G_I_DLE                 17  1.255273\n",
       "AB6IX                   36  1.568202\n",
       "ATEEZ                   83  1.924279\n",
       "BVNDIT                   5  0.778151\n",
       "CHUNGHA                  7  0.903090\n",
       "IZONE                  801  2.904174\n",
       "STRAYKIDS               91  1.963788\n",
       "VERIVERY                10  1.041393"
      ]
     },
     "execution_count": 35,
     "metadata": {},
     "output_type": "execute_result"
    }
   ],
   "source": [
    "artist_df"
   ]
  },
  {
   "cell_type": "code",
   "execution_count": null,
   "metadata": {},
   "outputs": [],
   "source": []
  },
  {
   "cell_type": "code",
   "execution_count": null,
   "metadata": {},
   "outputs": [],
   "source": []
  },
  {
   "cell_type": "code",
   "execution_count": null,
   "metadata": {},
   "outputs": [],
   "source": []
  }
 ],
 "metadata": {
  "kernelspec": {
   "display_name": "Python 3",
   "language": "python",
   "name": "python3"
  },
  "language_info": {
   "codemirror_mode": {
    "name": "ipython",
    "version": 3
   },
   "file_extension": ".py",
   "mimetype": "text/x-python",
   "name": "python",
   "nbconvert_exporter": "python",
   "pygments_lexer": "ipython3",
   "version": "3.7.3"
  }
 },
 "nbformat": 4,
 "nbformat_minor": 2
}
