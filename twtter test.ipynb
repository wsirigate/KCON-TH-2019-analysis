{
 "cells": [
  {
   "cell_type": "code",
   "execution_count": 5,
   "metadata": {},
   "outputs": [],
   "source": [
    "import json\n",
    "import pandas as pd\n",
    "import matplotlib.pyplot as plt"
   ]
  },
  {
   "cell_type": "code",
   "execution_count": 14,
   "metadata": {},
   "outputs": [],
   "source": [
    "tweets_data_path = 'twitter_data.txt'\n",
    "\n",
    "tweets_data = []\n",
    "tweets_file = open(tweets_data_path, \"r\")\n",
    "for line in tweets_file:\n",
    "    try:\n",
    "        tweet = json.loads(line)\n",
    "        tweets_data.append(tweet)\n",
    "    except:\n",
    "        continue"
   ]
  },
  {
   "cell_type": "code",
   "execution_count": 15,
   "metadata": {},
   "outputs": [
    {
     "name": "stdout",
     "output_type": "stream",
     "text": [
      "23\n"
     ]
    }
   ],
   "source": [
    "print(len(tweets_data))"
   ]
  },
  {
   "cell_type": "code",
   "execution_count": null,
   "metadata": {},
   "outputs": [],
   "source": []
  },
  {
   "cell_type": "code",
   "execution_count": 16,
   "metadata": {
    "scrolled": true
   },
   "outputs": [
    {
     "data": {
      "text/plain": [
       "{'created_at': 'Wed Aug 28 16:15:39 +0000 2019',\n",
       " 'id': 1166746172318310400,\n",
       " 'id_str': '1166746172318310400',\n",
       " 'text': 'RT @KCONThailand: [#KCON2019THAILAND]\\n#GOT7 มาจัดการหัวใจของอากาเซที่ #KCON19TH แล้ว!\\nการแสดงระดับ \"เทพ\" ของ @GOT7Official ที่สามารถดูได้แ…',\n",
       " 'source': '<a href=\"http://twitter.com/download/android\" rel=\"nofollow\">Twitter for Android</a>',\n",
       " 'truncated': False,\n",
       " 'in_reply_to_status_id': None,\n",
       " 'in_reply_to_status_id_str': None,\n",
       " 'in_reply_to_user_id': None,\n",
       " 'in_reply_to_user_id_str': None,\n",
       " 'in_reply_to_screen_name': None,\n",
       " 'user': {'id': 909716745207693313,\n",
       "  'id_str': '909716745207693313',\n",
       "  'name': 'หวังจะเจอหวัง🐢⚫⚫',\n",
       "  'screen_name': 'nungpatji',\n",
       "  'location': 'กรุงเทพมหานคร, ประเทศไทย',\n",
       "  'url': None,\n",
       "  'description': 'GOT7',\n",
       "  'translator_type': 'none',\n",
       "  'protected': False,\n",
       "  'verified': False,\n",
       "  'followers_count': 27,\n",
       "  'friends_count': 174,\n",
       "  'listed_count': 0,\n",
       "  'favourites_count': 1660,\n",
       "  'statuses_count': 3455,\n",
       "  'created_at': 'Mon Sep 18 09:52:28 +0000 2017',\n",
       "  'utc_offset': None,\n",
       "  'time_zone': None,\n",
       "  'geo_enabled': False,\n",
       "  'lang': None,\n",
       "  'contributors_enabled': False,\n",
       "  'is_translator': False,\n",
       "  'profile_background_color': 'F5F8FA',\n",
       "  'profile_background_image_url': '',\n",
       "  'profile_background_image_url_https': '',\n",
       "  'profile_background_tile': False,\n",
       "  'profile_link_color': '1DA1F2',\n",
       "  'profile_sidebar_border_color': 'C0DEED',\n",
       "  'profile_sidebar_fill_color': 'DDEEF6',\n",
       "  'profile_text_color': '333333',\n",
       "  'profile_use_background_image': True,\n",
       "  'profile_image_url': 'http://pbs.twimg.com/profile_images/1157297367189581824/X-CrKG1__normal.jpg',\n",
       "  'profile_image_url_https': 'https://pbs.twimg.com/profile_images/1157297367189581824/X-CrKG1__normal.jpg',\n",
       "  'profile_banner_url': 'https://pbs.twimg.com/profile_banners/909716745207693313/1521891817',\n",
       "  'default_profile': True,\n",
       "  'default_profile_image': False,\n",
       "  'following': None,\n",
       "  'follow_request_sent': None,\n",
       "  'notifications': None},\n",
       " 'geo': None,\n",
       " 'coordinates': None,\n",
       " 'place': None,\n",
       " 'contributors': None,\n",
       " 'retweeted_status': {'created_at': 'Tue Aug 27 07:20:09 +0000 2019',\n",
       "  'id': 1166249021599444992,\n",
       "  'id_str': '1166249021599444992',\n",
       "  'text': '[#KCON2019THAILAND]\\n#GOT7 มาจัดการหัวใจของอากาเซที่ #KCON19TH แล้ว!\\nการแสดงระดับ \"เทพ\" ของ @GOT7Official ที่สามารถ… https://t.co/723RHUHOF0',\n",
       "  'display_text_range': [0, 140],\n",
       "  'source': '<a href=\"https://studio.twitter.com\" rel=\"nofollow\">Twitter Media Studio</a>',\n",
       "  'truncated': True,\n",
       "  'in_reply_to_status_id': None,\n",
       "  'in_reply_to_status_id_str': None,\n",
       "  'in_reply_to_user_id': None,\n",
       "  'in_reply_to_user_id_str': None,\n",
       "  'in_reply_to_screen_name': None,\n",
       "  'user': {'id': 1016915237151203328,\n",
       "   'id_str': '1016915237151203328',\n",
       "   'name': 'KCON THAILAND',\n",
       "   'screen_name': 'KCONThailand',\n",
       "   'location': 'Bangkok, Thailand',\n",
       "   'url': None,\n",
       "   'description': 'KCON 2019 THAILAND OFFICIAL TWITTER',\n",
       "   'translator_type': 'none',\n",
       "   'protected': False,\n",
       "   'verified': True,\n",
       "   'followers_count': 55394,\n",
       "   'friends_count': 8,\n",
       "   'listed_count': 35,\n",
       "   'favourites_count': 193,\n",
       "   'statuses_count': 213,\n",
       "   'created_at': 'Wed Jul 11 05:21:00 +0000 2018',\n",
       "   'utc_offset': None,\n",
       "   'time_zone': None,\n",
       "   'geo_enabled': False,\n",
       "   'lang': None,\n",
       "   'contributors_enabled': False,\n",
       "   'is_translator': False,\n",
       "   'profile_background_color': '000000',\n",
       "   'profile_background_image_url': 'http://abs.twimg.com/images/themes/theme1/bg.png',\n",
       "   'profile_background_image_url_https': 'https://abs.twimg.com/images/themes/theme1/bg.png',\n",
       "   'profile_background_tile': False,\n",
       "   'profile_link_color': 'FF691F',\n",
       "   'profile_sidebar_border_color': '000000',\n",
       "   'profile_sidebar_fill_color': '000000',\n",
       "   'profile_text_color': '000000',\n",
       "   'profile_use_background_image': False,\n",
       "   'profile_image_url': 'http://pbs.twimg.com/profile_images/1117699659244298240/60SOkoyW_normal.png',\n",
       "   'profile_image_url_https': 'https://pbs.twimg.com/profile_images/1117699659244298240/60SOkoyW_normal.png',\n",
       "   'profile_banner_url': 'https://pbs.twimg.com/profile_banners/1016915237151203328/1555290212',\n",
       "   'default_profile': False,\n",
       "   'default_profile_image': False,\n",
       "   'following': None,\n",
       "   'follow_request_sent': None,\n",
       "   'notifications': None},\n",
       "  'geo': None,\n",
       "  'coordinates': None,\n",
       "  'place': None,\n",
       "  'contributors': None,\n",
       "  'is_quote_status': False,\n",
       "  'extended_tweet': {'full_text': '[#KCON2019THAILAND]\\n#GOT7 มาจัดการหัวใจของอากาเซที่ #KCON19TH แล้ว!\\nการแสดงระดับ \"เทพ\" ของ @GOT7Official ที่สามารถดูได้แค่ที่ #KCON \\nประเทศไทยเท่านั้น อย่าพลาดเด็ดขาด!\\n\\nซื้อบัตรคอนเสิร์ตและบัตรมีตแอนด์กรี้ดได้ที่ \\n➤ https://t.co/u9Sl9QehIP https://t.co/iUn6sZo1a5',\n",
       "   'display_text_range': [0, 239],\n",
       "   'entities': {'hashtags': [{'text': 'KCON2019THAILAND', 'indices': [1, 18]},\n",
       "     {'text': 'GOT7', 'indices': [20, 25]},\n",
       "     {'text': 'KCON19TH', 'indices': [52, 61]},\n",
       "     {'text': 'KCON', 'indices': [126, 131]}],\n",
       "    'urls': [{'url': 'https://t.co/u9Sl9QehIP',\n",
       "      'expanded_url': 'http://thaiticketmajor.com/concert/kcon-2019-thailand.html',\n",
       "      'display_url': 'thaiticketmajor.com/concert/kcon-2…',\n",
       "      'indices': [216, 239]}],\n",
       "    'user_mentions': [{'screen_name': 'GOT7Official',\n",
       "      'name': 'GOT7',\n",
       "      'id': 573299587,\n",
       "      'id_str': '573299587',\n",
       "      'indices': [91, 104]}],\n",
       "    'symbols': [],\n",
       "    'media': [{'id': 1166248077121843200,\n",
       "      'id_str': '1166248077121843200',\n",
       "      'indices': [240, 263],\n",
       "      'additional_media_info': {'title': '',\n",
       "       'description': '',\n",
       "       'embeddable': True,\n",
       "       'monetizable': False},\n",
       "      'media_url': 'http://pbs.twimg.com/amplify_video_thumb/1166248077121843200/img/jbhxVhpVua2zm9r5.jpg',\n",
       "      'media_url_https': 'https://pbs.twimg.com/amplify_video_thumb/1166248077121843200/img/jbhxVhpVua2zm9r5.jpg',\n",
       "      'url': 'https://t.co/iUn6sZo1a5',\n",
       "      'display_url': 'pic.twitter.com/iUn6sZo1a5',\n",
       "      'expanded_url': 'https://twitter.com/KCONThailand/status/1166249021599444992/video/1',\n",
       "      'type': 'video',\n",
       "      'video_info': {'aspect_ratio': [16, 9],\n",
       "       'duration_millis': 47833,\n",
       "       'variants': [{'bitrate': 288000,\n",
       "         'content_type': 'video/mp4',\n",
       "         'url': 'https://video.twimg.com/amplify_video/1166248077121843200/vid/480x270/BZ5scFOl9HMjCAQ7.mp4?tag=13'},\n",
       "        {'content_type': 'application/x-mpegURL',\n",
       "         'url': 'https://video.twimg.com/amplify_video/1166248077121843200/pl/dEot5TyUg3rvn_ak.m3u8?tag=13'},\n",
       "        {'bitrate': 2176000,\n",
       "         'content_type': 'video/mp4',\n",
       "         'url': 'https://video.twimg.com/amplify_video/1166248077121843200/vid/1280x720/zLvE5IJ74oaAigkj.mp4?tag=13'},\n",
       "        {'bitrate': 832000,\n",
       "         'content_type': 'video/mp4',\n",
       "         'url': 'https://video.twimg.com/amplify_video/1166248077121843200/vid/640x360/gonVzh5sfXepbd3g.mp4?tag=13'}]},\n",
       "      'sizes': {'thumb': {'w': 150, 'h': 150, 'resize': 'crop'},\n",
       "       'medium': {'w': 1200, 'h': 675, 'resize': 'fit'},\n",
       "       'small': {'w': 680, 'h': 383, 'resize': 'fit'},\n",
       "       'large': {'w': 1280, 'h': 720, 'resize': 'fit'}}}]},\n",
       "   'extended_entities': {'media': [{'id': 1166248077121843200,\n",
       "      'id_str': '1166248077121843200',\n",
       "      'indices': [240, 263],\n",
       "      'additional_media_info': {'title': '',\n",
       "       'description': '',\n",
       "       'embeddable': True,\n",
       "       'monetizable': False},\n",
       "      'media_url': 'http://pbs.twimg.com/amplify_video_thumb/1166248077121843200/img/jbhxVhpVua2zm9r5.jpg',\n",
       "      'media_url_https': 'https://pbs.twimg.com/amplify_video_thumb/1166248077121843200/img/jbhxVhpVua2zm9r5.jpg',\n",
       "      'url': 'https://t.co/iUn6sZo1a5',\n",
       "      'display_url': 'pic.twitter.com/iUn6sZo1a5',\n",
       "      'expanded_url': 'https://twitter.com/KCONThailand/status/1166249021599444992/video/1',\n",
       "      'type': 'video',\n",
       "      'video_info': {'aspect_ratio': [16, 9],\n",
       "       'duration_millis': 47833,\n",
       "       'variants': [{'bitrate': 288000,\n",
       "         'content_type': 'video/mp4',\n",
       "         'url': 'https://video.twimg.com/amplify_video/1166248077121843200/vid/480x270/BZ5scFOl9HMjCAQ7.mp4?tag=13'},\n",
       "        {'content_type': 'application/x-mpegURL',\n",
       "         'url': 'https://video.twimg.com/amplify_video/1166248077121843200/pl/dEot5TyUg3rvn_ak.m3u8?tag=13'},\n",
       "        {'bitrate': 2176000,\n",
       "         'content_type': 'video/mp4',\n",
       "         'url': 'https://video.twimg.com/amplify_video/1166248077121843200/vid/1280x720/zLvE5IJ74oaAigkj.mp4?tag=13'},\n",
       "        {'bitrate': 832000,\n",
       "         'content_type': 'video/mp4',\n",
       "         'url': 'https://video.twimg.com/amplify_video/1166248077121843200/vid/640x360/gonVzh5sfXepbd3g.mp4?tag=13'}]},\n",
       "      'sizes': {'thumb': {'w': 150, 'h': 150, 'resize': 'crop'},\n",
       "       'medium': {'w': 1200, 'h': 675, 'resize': 'fit'},\n",
       "       'small': {'w': 680, 'h': 383, 'resize': 'fit'},\n",
       "       'large': {'w': 1280, 'h': 720, 'resize': 'fit'}}}]}},\n",
       "  'quote_count': 216,\n",
       "  'reply_count': 205,\n",
       "  'retweet_count': 15452,\n",
       "  'favorite_count': 14960,\n",
       "  'entities': {'hashtags': [{'text': 'KCON2019THAILAND', 'indices': [1, 18]},\n",
       "    {'text': 'GOT7', 'indices': [20, 25]},\n",
       "    {'text': 'KCON19TH', 'indices': [52, 61]}],\n",
       "   'urls': [{'url': 'https://t.co/723RHUHOF0',\n",
       "     'expanded_url': 'https://twitter.com/i/web/status/1166249021599444992',\n",
       "     'display_url': 'twitter.com/i/web/status/1…',\n",
       "     'indices': [116, 139]}],\n",
       "   'user_mentions': [{'screen_name': 'GOT7Official',\n",
       "     'name': 'GOT7',\n",
       "     'id': 573299587,\n",
       "     'id_str': '573299587',\n",
       "     'indices': [91, 104]}],\n",
       "   'symbols': []},\n",
       "  'favorited': False,\n",
       "  'retweeted': False,\n",
       "  'possibly_sensitive': False,\n",
       "  'filter_level': 'low',\n",
       "  'lang': 'th'},\n",
       " 'is_quote_status': False,\n",
       " 'quote_count': 0,\n",
       " 'reply_count': 0,\n",
       " 'retweet_count': 0,\n",
       " 'favorite_count': 0,\n",
       " 'entities': {'hashtags': [{'text': 'KCON2019THAILAND', 'indices': [19, 36]},\n",
       "   {'text': 'GOT7', 'indices': [38, 43]},\n",
       "   {'text': 'KCON19TH', 'indices': [70, 79]}],\n",
       "  'urls': [],\n",
       "  'user_mentions': [{'screen_name': 'KCONThailand',\n",
       "    'name': 'KCON THAILAND',\n",
       "    'id': 1016915237151203328,\n",
       "    'id_str': '1016915237151203328',\n",
       "    'indices': [3, 16]},\n",
       "   {'screen_name': 'GOT7Official',\n",
       "    'name': 'GOT7',\n",
       "    'id': 573299587,\n",
       "    'id_str': '573299587',\n",
       "    'indices': [109, 122]}],\n",
       "  'symbols': []},\n",
       " 'favorited': False,\n",
       " 'retweeted': False,\n",
       " 'filter_level': 'low',\n",
       " 'lang': 'th',\n",
       " 'timestamp_ms': '1567008939233'}"
      ]
     },
     "execution_count": 16,
     "metadata": {},
     "output_type": "execute_result"
    }
   ],
   "source": [
    "tweets_data[0]"
   ]
  },
  {
   "cell_type": "code",
   "execution_count": 11,
   "metadata": {
    "scrolled": true
   },
   "outputs": [
    {
     "name": "stdout",
     "output_type": "stream",
     "text": [
      "th\n",
      "th\n"
     ]
    }
   ],
   "source": [
    "lst=[]\n",
    "for i in range(len(tweets_data)):\n",
    "    # print(tweets_data[i]['user']['location'])\n",
    "    print(tweets_data[i]['lang'])\n",
    "    lst.append(tweets_data[i]['lang'])"
   ]
  },
  {
   "cell_type": "code",
   "execution_count": 12,
   "metadata": {},
   "outputs": [],
   "source": [
    "df = pd.DataFrame({'language':lst})"
   ]
  },
  {
   "cell_type": "code",
   "execution_count": 13,
   "metadata": {},
   "outputs": [
    {
     "data": {
      "text/plain": [
       "th    2\n",
       "Name: language, dtype: int64"
      ]
     },
     "execution_count": 13,
     "metadata": {},
     "output_type": "execute_result"
    }
   ],
   "source": [
    "df['language'].value_counts()"
   ]
  },
  {
   "cell_type": "code",
   "execution_count": 86,
   "metadata": {},
   "outputs": [],
   "source": [
    "tweets_data[30]['user']['location']"
   ]
  },
  {
   "cell_type": "code",
   "execution_count": null,
   "metadata": {},
   "outputs": [],
   "source": []
  },
  {
   "cell_type": "code",
   "execution_count": 87,
   "metadata": {},
   "outputs": [
    {
     "data": {
      "text/plain": [
       "'RT @malee0718: #GOT7 มาชุดนี้ได้ม้ายยยยยย หล่อโคตร!!!!!! ชอบตอนสุดท้ายที่แจ็คสันยกมือไหว้😭 #KCON2019THAILAND https://t.co/ERPDlVrMAA'"
      ]
     },
     "execution_count": 87,
     "metadata": {},
     "output_type": "execute_result"
    }
   ],
   "source": [
    "tweets_data[80]['text']"
   ]
  },
  {
   "cell_type": "code",
   "execution_count": 88,
   "metadata": {},
   "outputs": [
    {
     "data": {
      "text/plain": [
       "'th'"
      ]
     },
     "execution_count": 88,
     "metadata": {},
     "output_type": "execute_result"
    }
   ],
   "source": [
    "tweets_data[80]['lang']"
   ]
  },
  {
   "cell_type": "code",
   "execution_count": 30,
   "metadata": {},
   "outputs": [],
   "source": [
    "# tweets = pd.DataFrame()"
   ]
  },
  {
   "cell_type": "code",
   "execution_count": 31,
   "metadata": {},
   "outputs": [],
   "source": [
    "# tweets['text'] = map(lambda tweet: tweet['text'], tweets_data)\n",
    "# tweets['lang'] = map(lambda tweet: tweet['lang'], tweets_data)\n",
    "# tweets['country'] = map(lambda tweet: tweet['place']['country'] if tweet['place'] != None else None, tweets_data)"
   ]
  },
  {
   "cell_type": "code",
   "execution_count": 32,
   "metadata": {},
   "outputs": [],
   "source": [
    "# tweets"
   ]
  },
  {
   "cell_type": "code",
   "execution_count": 33,
   "metadata": {},
   "outputs": [],
   "source": [
    "# tweets_by_lang = tweets['lang'].value_counts()\n",
    "\n",
    "# fig, ax = plt.subplots()\n",
    "# ax.tick_params(axis='x', labelsize=15)\n",
    "# ax.tick_params(axis='y', labelsize=10)\n",
    "# ax.set_xlabel('Languages', fontsize=15)\n",
    "# ax.set_ylabel('Number of tweets' , fontsize=15)\n",
    "# ax.set_title('Top 5 languages', fontsize=15, fontweight='bold')\n",
    "# tweets_by_lang[:5].plot(ax=ax, kind='bar', color='red')"
   ]
  },
  {
   "cell_type": "code",
   "execution_count": 34,
   "metadata": {},
   "outputs": [],
   "source": [
    "# tweets_by_country = tweets['country'].value_counts()\n",
    "\n",
    "# fig, ax = plt.subplots()\n",
    "# ax.tick_params(axis='x', labelsize=15)\n",
    "# ax.tick_params(axis='y', labelsize=10)\n",
    "# ax.set_xlabel('Countries', fontsize=15)\n",
    "# ax.set_ylabel('Number of tweets' , fontsize=15)\n",
    "# ax.set_title('Top 5 countries', fontsize=15, fontweight='bold')\n",
    "# tweets_by_country[:5].plot(ax=ax, kind='bar', color='blue')"
   ]
  },
  {
   "cell_type": "code",
   "execution_count": null,
   "metadata": {},
   "outputs": [],
   "source": []
  }
 ],
 "metadata": {
  "kernelspec": {
   "display_name": "Python 3",
   "language": "python",
   "name": "python3"
  },
  "language_info": {
   "codemirror_mode": {
    "name": "ipython",
    "version": 3
   },
   "file_extension": ".py",
   "mimetype": "text/x-python",
   "name": "python",
   "nbconvert_exporter": "python",
   "pygments_lexer": "ipython3",
   "version": "3.7.3"
  }
 },
 "nbformat": 4,
 "nbformat_minor": 2
}
