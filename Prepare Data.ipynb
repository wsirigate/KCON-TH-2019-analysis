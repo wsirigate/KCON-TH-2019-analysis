{
 "cells": [
  {
   "cell_type": "markdown",
   "metadata": {},
   "source": [
    "# Prepare Data."
   ]
  },
  {
   "cell_type": "code",
   "execution_count": 70,
   "metadata": {},
   "outputs": [],
   "source": [
    "import json\n",
    "import pandas as pd\n",
    "import numpy as np\n",
    "import matplotlib.pyplot as plt\n",
    "import matplotlib.patches as mpatches\n",
    "import re\n",
    "import pytz\n",
    "# import deepcut\n",
    "from datetime import datetime, timezone\n",
    "from pythainlp import word_tokenize\n",
    "from pythainlp.corpus.common import thai_stopwords"
   ]
  },
  {
   "cell_type": "markdown",
   "metadata": {},
   "source": [
    "# Read data."
   ]
  },
  {
   "cell_type": "code",
   "execution_count": 71,
   "metadata": {},
   "outputs": [],
   "source": [
    "def read_data(tweets_data_path):\n",
    "    \"\"\" Function read data. \"\"\"\n",
    "    tweets_data = []\n",
    "    tweets_file = open(tweets_data_path, \"r\")\n",
    "    for line in tweets_file:\n",
    "        try:\n",
    "            tweet = json.loads(line)\n",
    "            tweets_data.append(tweet)\n",
    "        except:\n",
    "            continue\n",
    "    tweets_file.close()\n",
    "    return tweets_data"
   ]
  },
  {
   "cell_type": "code",
   "execution_count": 95,
   "metadata": {},
   "outputs": [],
   "source": [
    "# Combine data into a list tweets_data.\n",
    "# tweets_data = read_data('data/28-09-62.txt')\n",
    "# tweets_data = read_data('data/28-09-62-2.txt')\n",
    "tweets_data = read_data('data/split_28-09-62-3/4.txt')\n",
    "# tweets_data = read_data('data/29-09-62.txt')\n",
    "# tweets_data = read_data('data/29-09-62-2.txt')"
   ]
  },
  {
   "cell_type": "code",
   "execution_count": 96,
   "metadata": {
    "scrolled": true
   },
   "outputs": [],
   "source": [
    "# tweets_data[0]"
   ]
  },
  {
   "cell_type": "code",
   "execution_count": 97,
   "metadata": {},
   "outputs": [
    {
     "data": {
      "text/plain": [
       "115411"
      ]
     },
     "execution_count": 97,
     "metadata": {},
     "output_type": "execute_result"
    }
   ],
   "source": [
    "len(tweets_data)"
   ]
  },
  {
   "cell_type": "markdown",
   "metadata": {},
   "source": [
    "## Reformat time and convert time zones UTC To ICT"
   ]
  },
  {
   "cell_type": "code",
   "execution_count": 98,
   "metadata": {},
   "outputs": [],
   "source": [
    "thai_tz = pytz.timezone('Asia/Bangkok') # thai time zone"
   ]
  },
  {
   "cell_type": "code",
   "execution_count": 99,
   "metadata": {},
   "outputs": [],
   "source": [
    "# find error in data\n",
    "lst_error = []\n",
    "for i in range(len(tweets_data)):\n",
    "    try:\n",
    "        tweets_data[i]['created_at'].split(' ')\n",
    "    except:\n",
    "        lst_error.append(i)"
   ]
  },
  {
   "cell_type": "code",
   "execution_count": 100,
   "metadata": {},
   "outputs": [
    {
     "name": "stdout",
     "output_type": "stream",
     "text": [
      "[36, 87, 138, 189, 288, 339, 390, 539, 590, 736, 787, 838, 889, 940, 991, 1091, 1235, 1286, 1337, 1388, 1439, 1490, 1541, 1592, 1643, 1694, 1745, 1796, 1847, 1939, 1990, 2088, 2139, 2190, 2386, 2437, 2488, 2574, 2673, 2724, 2775, 2873, 2969, 3020, 3071, 3122, 3173, 3271, 3372, 3423, 3514, 3565, 3752, 3844, 3895, 3946, 3998, 4048, 4099, 4150, 4201, 4252, 4303, 4354, 4405, 4456, 4507, 4558, 4609, 4660, 4711, 4762, 4813, 4864, 4915, 4966, 5017, 5068, 5119, 5170, 5221, 5272, 5323, 5374, 5425, 5476, 5527, 5578, 5629, 5680, 5731, 5782, 5833, 5884, 5935, 5986, 6037, 6088, 6139, 6190, 6241, 6292, 6343, 6394, 6445, 6496, 6547, 6598, 6649, 6700, 6751, 6802, 6853, 6904, 6956, 7006, 7057, 7108, 7159, 7210, 7261, 7312, 7363, 7414, 7514, 7565, 7616, 7667, 7718, 7819, 7870, 7921, 7972, 8023, 8121, 8172, 8223, 8417, 8517, 8568, 8619, 8670, 8721, 8772, 8823, 8874, 8925, 9024, 9125, 9176, 9227, 9278, 9329, 9380, 9431, 9482, 9533, 9584, 9635, 9686, 9737, 9788, 9839, 9890, 9941, 9992, 10043, 10094, 10145, 10196, 10247, 10298, 10349, 10400, 10451, 10502, 10553, 10605, 10655, 10706, 10757, 10808, 10859, 10910, 10961, 11012, 11063, 11115, 11165, 11216, 11267, 11318, 11369, 11420, 11471, 11522, 11573, 11624, 11675, 11726, 11777, 11828, 11879, 11930, 11981, 12032, 12083, 12134, 12185, 12236, 12287, 12338, 12389, 12440, 12491, 12542, 12593, 12644, 12695, 12746, 12797, 12848, 12899, 12950, 13001, 13099, 13150, 13201, 13252, 13303, 13354, 13405, 13456, 13507, 13558, 13609, 13660, 13848, 13899, 13950, 14001, 14052, 14103, 14154, 14205, 14303, 14354, 14405, 14456, 14507, 14558, 14657, 14708, 14759, 14810, 14861, 14912, 14963, 15063, 15162, 15213, 15264, 15315, 15366, 15417, 15468, 15519, 15570, 15621, 15672, 15723, 15774, 15825, 15876, 15927, 16027, 16078, 16129, 16180, 16231, 16282, 16374, 16475, 16526, 16577, 16628, 16679, 16731, 16781, 16879, 16930, 16981, 17032, 17083, 17134, 17185, 17236, 17334, 17473, 17524, 17621, 17672, 17723, 17774, 17874, 17969, 18020, 18117, 18168, 18219, 18270, 18321, 18372, 18423, 18524, 18575, 18626, 18677, 18728, 18779, 18878, 18929, 18980, 19031, 19128, 19224, 19324, 19375, 19426, 19477, 19528, 19627, 19678, 19729, 19780, 19831, 19882, 19982, 20033, 20084, 20135, 20186, 20237, 20288, 20339, 20483, 20534, 20585, 20636, 20687, 20787, 20838, 20889, 21087, 21138, 21189, 21240, 21291, 21432, 21528, 21623, 21765, 21816, 21867, 21918, 22007, 22058, 22109, 22160, 22211, 22262, 22313, 22364, 22415, 22466, 22517, 22713, 22764, 22933, 23032, 23083, 23134, 23185, 23236, 23331, 23420, 23471, 23522, 23573, 23624, 23675, 23726, 23777, 23876, 23927, 23978, 24029, 24119, 24170, 24268, 24319, 24405, 24456, 24557, 24608, 24659, 24710, 24761, 24812, 24863, 25009, 25060, 25111, 25162, 25259, 25310, 25410, 25461, 25512, 25611, 25662, 25713, 25861, 25912, 25963, 26059, 26157, 26254, 26305, 26356, 26407, 26458, 26555, 26691, 26878, 26929, 27024, 27117, 27168, 27219, 27316, 27460, 27559, 27878, 27929, 28069, 28120, 28171, 28222, 28446, 28497, 28548, 28681, 28773, 28914, 29055, 29150, 29201, 29344, 29443, 29494, 29589, 29640, 29734, 29826, 30017, 30068, 30479, 30530, 30581, 30799, 30850, 30951, 31120, 31217, 31268, 31451, 31551, 31602, 31653, 31750, 32079, 32315, 32410, 32461, 32512, 32601, 32766, 32817, 32915, 33007, 33058, 33400, 33493, 33679, 33730, 33781, 33832, 33883, 34072, 34173, 34396, 34447, 34595, 34696, 34830, 34976, 35149, 35200, 35251, 35738, 35835, 35886, 35981, 36202, 36253, 36345, 36442, 36583, 36726, 36777, 36828, 37021, 37211, 37262, 37313, 37452, 37503, 37694, 37745, 37796, 37943, 38038, 38137, 38188, 38423, 38474, 38525, 38576, 38677, 38728, 38779, 38877, 38975, 39026, 39077, 39128, 39179, 39230, 39281, 39332, 39428, 39525, 39576, 39627, 39718, 39817, 39868, 39919, 40062, 40113, 40214, 40265, 40316, 40367, 40418, 40469, 40564, 40615, 40666, 40760, 40811, 41006, 41107, 41158, 41209, 41260, 41404, 41695, 41746, 41839, 41890, 41941, 41992, 42043, 42141, 42192, 42286, 42384, 42435, 42487, 42678, 42729, 42780, 42874, 42925, 43026, 43077, 43177, 43228, 43279, 43330, 43381, 43524, 43625, 43676, 43727, 43821, 43921, 43972, 44121, 44172, 44223, 44322, 44373, 44469, 44520, 44618, 44715, 44809, 44910, 44961, 45012, 45106, 45206, 45257, 45358, 45497, 45688, 45788, 45874, 45925, 45976, 46027, 46078, 46129, 46180, 46231, 46515, 46602, 46696, 46796, 46847, 46947, 47041, 47135, 47283, 47334, 47385, 47436, 47531, 47582, 47633, 47684, 47775, 47826, 47963, 48014, 48241, 48292, 48437, 48578, 48629, 48680, 48731, 48782, 48833, 48976, 49070, 49165, 49262, 49448, 49499, 49787, 50006, 50057, 50108, 50207, 50258, 50309, 50408, 50459, 50606, 50657, 50708, 50808, 50859, 50910, 50962, 51012, 51063, 51156, 51207, 51296, 51347, 51398, 51595, 51646, 51697, 51797, 51848, 51994, 52045, 52191, 52242, 52337, 52388, 52439, 52490, 52541, 52592, 52643, 52741, 52792, 52936, 53078, 53129, 53180, 53231, 53282, 53333, 53384, 53475, 53526, 53577, 53668, 53769, 53820, 53871, 53970, 54101, 54286, 54375, 54426, 54477, 54570, 54621, 54672, 54900, 54993, 55163, 55256, 55398, 55496, 55828, 56207, 56258, 56354, 56446, 56497, 56598, 56944, 57091, 57142, 57332, 57509, 57741, 57792, 57843, 58037, 58137, 58188, 58325, 58376, 58467, 58518, 58661, 58792, 59086, 59137, 59274, 59728, 59826, 59877, 60115, 60438, 60523, 60574, 60656, 60887, 60983, 61034, 61135, 61231, 61497, 62471, 62523, 62573, 62624, 62892, 63030, 63207, 63353, 63628, 63679, 64068, 64301, 64352, 64403, 64777, 65231, 65323, 65527, 65717, 65978, 66108, 66199, 66330, 66426, 66477, 66528, 66704, 66878, 67115, 67248, 67299, 67399, 67627, 67810, 67902, 67999, 68050, 68101, 68196, 68357, 68442, 68572, 69091, 69189, 69421, 69744, 70080, 70267, 70412, 71160, 71211, 71559, 71757, 73049, 74319, 74604, 74689, 75088, 75182, 75447, 75585, 75763, 75814, 75904, 75955, 76183, 76358, 76409, 76460, 76592, 76643, 76853, 76904, 76955, 77094, 77194, 77469, 77735, 77836, 77980, 78398, 78449, 78755, 78806, 78857, 78996, 79047, 79143, 79294, 79615, 79806, 80213, 80336, 80387, 80532, 80583, 80678, 81277, 81466, 81563, 81614, 81665, 81801, 81986, 82518, 82569, 82705, 82927, 83106, 83278, 83404, 83627, 83769, 83949, 84000, 84051, 84102, 84286, 84546, 84597, 84648, 84749, 84897, 85042, 85093, 85188, 85378, 85429, 85565, 85616, 85667, 85813, 85911, 85962, 86013, 86064, 86164, 86263, 86314, 86365, 86416, 86562, 86613, 86664, 86715, 86862, 86913, 87009, 87103, 87197, 87248, 87330, 87431, 87482, 87575, 87626, 87767, 87818, 87869, 88008, 88059, 88158, 88209, 88260, 88357, 88408, 88459, 88510, 88606, 88657, 88708, 88809, 88859, 88910, 89061, 89112, 89164, 89214, 89265, 89316, 89367, 89418, 89561, 89612, 89663, 89761, 89812, 89863, 89958, 90008, 90059, 90110, 90161, 90212, 90263, 90362, 90458, 90558, 90657, 90708, 90759, 90810, 90911, 90962, 91013, 91064, 91305, 91356, 91407, 91458, 91509, 91560, 91709, 91760, 91811, 91862, 91913, 91964, 92015, 92066, 92161, 92212, 92263, 92355, 92406, 92457, 92508, 92609, 92660, 92711, 92858, 92909, 92960, 93011, 93062, 93113, 93164, 93215, 93266, 93317, 93368, 93419, 93520, 93571, 93622, 93673, 93724, 93775, 93826, 93877, 93928, 93979, 94030, 94081, 94132, 94183, 94234, 94285, 94336, 94388, 94438, 94489, 94540, 94591, 94642, 94693, 94744, 94795, 94937, 94988, 95039, 95133, 95184, 95235, 95286, 95337, 95437, 95488, 95539, 95590, 95641, 95692, 95743, 95794, 95845, 95944, 95995, 96046, 96097, 96148, 96199, 96290, 96341, 96438, 96489, 96540, 96591, 96642, 96827, 96920, 97014, 97065, 97209, 97260, 97311, 97362, 97413, 97509, 97560, 97611, 97712, 97763, 97814, 97865, 97916, 98013, 98064, 98115, 98166, 98217, 98268, 98319, 98370, 98519, 98664, 98715, 98809, 98860, 98911, 99055, 99106, 99157, 99330, 99429, 99569, 99708, 99800, 99851, 99902, 100047, 100098, 100149, 100246, 100297, 100348, 100480, 100531, 100626, 100677, 100818, 100869, 101017, 101106, 101157, 101255, 101341, 101392, 101443, 101494, 101586, 101683, 101734, 101785, 101881, 101932, 102023, 102074, 102125, 102222, 102273, 102464, 102515, 102566, 102707, 102758, 102857, 103129, 103180, 103231, 103377, 103567, 103618, 103669, 103765, 103816, 104141, 104238, 104418, 104469, 104520, 104571, 104622, 104673, 104768, 104866, 104917, 105198, 105297, 105348, 105489, 105631, 105682, 105733, 105878, 105964, 106015, 106110, 106161, 106259, 106310, 106361, 106412, 106463, 106563, 106658, 106848, 106948, 106999, 107050, 107101, 107152, 107253, 107304, 107355, 107406, 107499, 107638, 107831, 108066, 108117, 108294, 108850, 108901, 108952, 109091, 109225, 109325, 109376, 109649, 109700, 109963, 110102, 110198, 110249, 110300, 111502, 111763, 112026, 112228, 112857, 113144, 113309, 114752]"
     ]
    },
    {
     "name": "stdout",
     "output_type": "stream",
     "text": [
      "\n",
      "----------\n",
      "1238\n"
     ]
    }
   ],
   "source": [
    "print(lst_error)\n",
    "print('----------')\n",
    "print(len(lst_error))"
   ]
  },
  {
   "cell_type": "code",
   "execution_count": 101,
   "metadata": {},
   "outputs": [],
   "source": [
    "# tweets_data[110754]"
   ]
  },
  {
   "cell_type": "code",
   "execution_count": 102,
   "metadata": {},
   "outputs": [],
   "source": [
    "for i in range(len(tweets_data)):\n",
    "    if i not in lst_error:\n",
    "        lst = tweets_data[i]['created_at'].split(' ')\n",
    "        date = (lst[5]+'.'+lst[1]+'.'+lst[2]+' '+lst[3])\n",
    "        date_time = datetime.strptime(date, '%Y.%b.%d %H:%M:%S')\n",
    "        tweets_data[i]['created_at'] =  date_time.replace(tzinfo=timezone.utc).astimezone(thai_tz).strptime(date, '%Y.%b.%d %H:%M:%S') # reset info and convert to thai timezone"
   ]
  },
  {
   "cell_type": "code",
   "execution_count": 103,
   "metadata": {},
   "outputs": [],
   "source": [
    "time = [tweets_data[i]['created_at'] for i in range(len(tweets_data)) if i not in lst_error]\n",
    "language = [tweets_data[i]['lang'] for i in range(len(tweets_data)) if i not in lst_error]\n",
    "source = [tweets_data[i]['source'][tweets_data[i]['source'].find('w\">')+3:].replace('</a>', '') for i in range(len(tweets_data)) if i not in lst_error]"
   ]
  },
  {
   "cell_type": "markdown",
   "metadata": {},
   "source": [
    "## Create Data frame"
   ]
  },
  {
   "cell_type": "code",
   "execution_count": 104,
   "metadata": {},
   "outputs": [],
   "source": [
    "df = pd.DataFrame({'time':time, 'language':language, 'source':source}) "
   ]
  },
  {
   "cell_type": "code",
   "execution_count": 105,
   "metadata": {},
   "outputs": [],
   "source": [
    "# df['source'].value_counts()"
   ]
  },
  {
   "cell_type": "markdown",
   "metadata": {},
   "source": [
    "## Add group column into data frame"
   ]
  },
  {
   "cell_type": "code",
   "execution_count": 106,
   "metadata": {},
   "outputs": [],
   "source": [
    "bins = list(range(0, 25*3600, 1*3600)) # Divide the time into 24 bin ( 1 hours / bin )\n",
    "labels = ['0 pm','1 am','2 am','3 am','4 am',\n",
    "          '5 am','6 am','7 am','8 am','9 am',\n",
    "          '10 am','11 am','12 am','13 pm','14 pm',\n",
    "         '15 pm','16 pm','17 pm','18 pm','19 pm',\n",
    "          '20 pm','21 pm','22 pm','23 pm'] # set label\n",
    "# print(list(range(0, 25, 2)))\n",
    "# bins"
   ]
  },
  {
   "cell_type": "code",
   "execution_count": 107,
   "metadata": {},
   "outputs": [],
   "source": [
    "df['sec'] = df.time.dt.hour * 3600 + df.time.dt.minute*60 + df.time.dt.second # convert time unit to second.\n",
    "df['group'] = pd.cut(df['sec'], bins=bins, labels=labels) # set bin label into group column."
   ]
  },
  {
   "cell_type": "code",
   "execution_count": 108,
   "metadata": {},
   "outputs": [],
   "source": [
    "df.drop('sec', inplace=True, axis=1)"
   ]
  },
  {
   "cell_type": "code",
   "execution_count": 109,
   "metadata": {},
   "outputs": [],
   "source": [
    "# df.head()"
   ]
  },
  {
   "cell_type": "markdown",
   "metadata": {},
   "source": [
    "## Hashtag to data frame"
   ]
  },
  {
   "cell_type": "code",
   "execution_count": 110,
   "metadata": {},
   "outputs": [],
   "source": [
    "hashtag_all = []\n",
    "for j in range(len(tweets_data)):\n",
    "    if j not in lst_error:\n",
    "        lst = []\n",
    "        for i in range(len(tweets_data[j]['entities']['hashtags'])):\n",
    "            lst.append(tweets_data[j]['entities']['hashtags'][i]['text'])\n",
    "        hashtag_all.append(lst)"
   ]
  },
  {
   "cell_type": "code",
   "execution_count": 111,
   "metadata": {},
   "outputs": [],
   "source": [
    "# hashtag_all"
   ]
  },
  {
   "cell_type": "code",
   "execution_count": 112,
   "metadata": {},
   "outputs": [],
   "source": [
    "df['hashtag'] = hashtag_all"
   ]
  },
  {
   "cell_type": "code",
   "execution_count": 113,
   "metadata": {},
   "outputs": [],
   "source": [
    "# df.head()"
   ]
  },
  {
   "cell_type": "markdown",
   "metadata": {},
   "source": [
    "-----------"
   ]
  },
  {
   "cell_type": "code",
   "execution_count": 114,
   "metadata": {},
   "outputs": [],
   "source": [
    "df.to_csv('prepared03-4.csv', encoding = 'utf8')"
   ]
  },
  {
   "cell_type": "code",
   "execution_count": 92,
   "metadata": {},
   "outputs": [],
   "source": [
    "# alltext = []\n",
    "\n",
    "# try: # Check error in data\n",
    "#     for i in range(len(tweets_data)):\n",
    "#         if i not in lst_error: # ensure that message, not in the list of error.\n",
    "#             if re.search('Microsoft PowerApps and Flow',tweets_data[i]['source']): # if tweet posted by Microsoft PowerApps, the key for access text will have only one then this condition must be checked first.\n",
    "#                 text = tweets_data[i]['text']\n",
    "#                 alltext.append(text)\n",
    "#             elif re.search('^RT' ,tweets_data[i]['text']): # check type of tweet [RT = retweet]\n",
    "#                 if re.search('…$' ,tweets_data[i]['text']): # check the message that full message or summary message.\n",
    "#                     try: # in normal case\n",
    "#                         text = tweets_data[i]['retweeted_status']['extended_tweet']['full_text'] # access text.\n",
    "#                         alltext.append(text) # append to the alltext list.\n",
    "# #                         print(text)\n",
    "# #                         print('--------------------')\n",
    "#                     except: # in case of a full message not in key 'extended_tweet'.\n",
    "#                         text = tweets_data[i]['retweeted_status']['text'] # access text.\n",
    "#                         alltext.append(text) # append to the alltext list.\n",
    "# #                         print(text)\n",
    "# #                         print('--------------------')\n",
    "#                 else:\n",
    "#                     if re.search('… https://' ,tweets_data[i]['text']): # check the text is condensed but the embedded link is unabridged.\n",
    "#                         text = tweets_data[i]['extended_tweet']['full_text'] # access text.\n",
    "#                         alltext.append(text) # append to the alltext list.\n",
    "# #                       print(text)\n",
    "# #                       print('--------------------')\n",
    "#                     else:\n",
    "#                         text = tweets_data[i]['retweeted_status']['text'] # access text.\n",
    "#                         alltext.append(text) # append to the alltext list.\n",
    "# #                     print(text)\n",
    "# #                     print('--------------------')\n",
    "#             else: # in case of normal tweets\n",
    "#                 if re.search('… https//' ,tweets_data[i]['text']): # check the text is condensed but the embedded link is unabridged.\n",
    "#                     text = tweets_data[i]['extended_tweet']['full_text'] # access text.\n",
    "#                     alltext.append(text) # append to the alltext list.\n",
    "# #                     print(text)\n",
    "# #                     print('--------------------')\n",
    "#                 else:\n",
    "#                     text = tweets_data[i]['text'] # access text.\n",
    "#                     alltext.append(text) # append to the alltext list.\n",
    "# #                     print(text)\n",
    "# #                     print('--------------------')\n",
    "# except:\n",
    "#     print(f'ERROR FOUND!! INDEX : {i}')"
   ]
  },
  {
   "cell_type": "code",
   "execution_count": null,
   "metadata": {},
   "outputs": [],
   "source": []
  }
 ],
 "metadata": {
  "kernelspec": {
   "display_name": "Python 3",
   "language": "python",
   "name": "python3"
  },
  "language_info": {
   "codemirror_mode": {
    "name": "ipython",
    "version": 3
   },
   "file_extension": ".py",
   "mimetype": "text/x-python",
   "name": "python",
   "nbconvert_exporter": "python",
   "pygments_lexer": "ipython3",
   "version": "3.7.3"
  }
 },
 "nbformat": 4,
 "nbformat_minor": 4
}
