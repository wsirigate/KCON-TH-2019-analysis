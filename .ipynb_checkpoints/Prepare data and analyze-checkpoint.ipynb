{
 "cells": [
  {
   "cell_type": "markdown",
   "metadata": {},
   "source": [
    "![an artist who join \"KCON Thailand 2019\"](img\\kcon.jpg)"
   ]
  },
  {
   "cell_type": "markdown",
   "metadata": {},
   "source": [
    "# Import necessary library"
   ]
  },
  {
   "cell_type": "code",
   "execution_count": 340,
   "metadata": {},
   "outputs": [],
   "source": [
    "import json\n",
    "import pandas as pd"
   ]
  },
  {
   "cell_type": "markdown",
   "metadata": {},
   "source": [
    "# Read data"
   ]
  },
  {
   "cell_type": "code",
   "execution_count": 341,
   "metadata": {},
   "outputs": [],
   "source": [
    "tweets_data = []"
   ]
  },
  {
   "cell_type": "code",
   "execution_count": 342,
   "metadata": {},
   "outputs": [
    {
     "name": "stdout",
     "output_type": "stream",
     "text": [
      "10000\n"
     ]
    }
   ],
   "source": [
    "tweets_data_path = 'tweet_data_2.txt'\n",
    "\n",
    "tweets_file = open(tweets_data_path, \"r\")\n",
    "for line in tweets_file:\n",
    "    try:\n",
    "        tweet = json.loads(line)\n",
    "        tweets_data.append(tweet)\n",
    "    except:\n",
    "        continue\n",
    "        \n",
    "print(len(tweets_data))"
   ]
  },
  {
   "cell_type": "markdown",
   "metadata": {},
   "source": [
    "# Reformat time and convert UTC To THAI time zone"
   ]
  },
  {
   "cell_type": "code",
   "execution_count": 307,
   "metadata": {},
   "outputs": [],
   "source": [
    "from datetime import datetime, timezone\n",
    "import pytz"
   ]
  },
  {
   "cell_type": "code",
   "execution_count": 308,
   "metadata": {},
   "outputs": [],
   "source": [
    "thai_tz = pytz.timezone('Asia/Bangkok') # thai time zone"
   ]
  },
  {
   "cell_type": "code",
   "execution_count": 309,
   "metadata": {},
   "outputs": [],
   "source": [
    "# find error\n",
    "lst_error = []\n",
    "for i in range(len(tweets_data)):\n",
    "    try:\n",
    "        tweets_data[i]['created_at'].split(' ')\n",
    "    except:\n",
    "        lst_error.append(i)"
   ]
  },
  {
   "cell_type": "code",
   "execution_count": 310,
   "metadata": {},
   "outputs": [
    {
     "name": "stdout",
     "output_type": "stream",
     "text": [
      "[]\n"
     ]
    }
   ],
   "source": [
    "print(lst_error)"
   ]
  },
  {
   "cell_type": "code",
   "execution_count": 311,
   "metadata": {
    "scrolled": true
   },
   "outputs": [],
   "source": [
    "day = []\n",
    "for i in range(len(tweets_data)):\n",
    "    if i not in lst_error:\n",
    "        lst = tweets_data[i]['created_at'].split(' ')\n",
    "        tweets_data[i]['id'] = lst[0] # เก็บวันไวเในช่อง id\n",
    "        date = (lst[5]+'.'+lst[1]+'.'+lst[2]+' '+lst[3])\n",
    "        date_time = datetime.strptime(date, '%Y.%b.%d %H:%M:%S')\n",
    "        tweets_data[i]['created_at'] =  date_time.replace(tzinfo=timezone.utc).astimezone(thai_tz) # reset info and convert to thai timezone\n",
    "#         thai_time.strftime('%Y-%m-%d %H:%M:%S') # return time format yyyy-mm-dd hh:mm:ss\n",
    "#         print(tweets_data[i]['created_at'])\n",
    "#     else:\n",
    "#         print(i)"
   ]
  },
  {
   "cell_type": "markdown",
   "metadata": {},
   "source": [
    "# Test area"
   ]
  },
  {
   "cell_type": "code",
   "execution_count": 312,
   "metadata": {},
   "outputs": [],
   "source": [
    "for i in range(len(tweets_data)):\n",
    "    try:\n",
    "        check = tweets_data[i]['created_at']\n",
    "    except:\n",
    "        print(i)"
   ]
  },
  {
   "cell_type": "code",
   "execution_count": 313,
   "metadata": {
    "scrolled": true
   },
   "outputs": [],
   "source": [
    "time = [tweets_data[i]['created_at'] for i in range(len(tweets_data)) if i not in lst_error]\n",
    "language = [tweets_data[i]['lang'] for i in range(len(tweets_data)) if i not in lst_error]\n",
    "text =[tweets_data[i]['text'] for i in range(len(tweets_data)) if i not in lst_error]\n",
    "day = [tweets_data[i]['id'] for i in range(len(tweets_data)) if i not in lst_error]"
   ]
  },
  {
   "cell_type": "code",
   "execution_count": 314,
   "metadata": {},
   "outputs": [],
   "source": [
    "df = pd.DataFrame({'time':time, 'day':day, 'language':language, 'text':text})"
   ]
  },
  {
   "cell_type": "code",
   "execution_count": 315,
   "metadata": {
    "scrolled": true
   },
   "outputs": [
    {
     "data": {
      "text/plain": [
       "{'created_at': datetime.datetime(2019, 8, 31, 14, 11, 32, tzinfo=<DstTzInfo 'Asia/Bangkok' +07+7:00:00 STD>),\n",
       " 'id': 'Sat',\n",
       " 'id_str': '1167696407362326529',\n",
       " 'text': 'RT @KCONThailand: [#KCON2019THAILAND]\\nLove Call สำหรับ ONE IT พิกกี้บูบู้ของ #X1\\nตอบรับกันตอนนี้เลย!\\n\\nการพบกันครั้งแรกของ X1 และ ONE IT ➤ h…',\n",
       " 'source': '<a href=\"http://twitter.com/download/iphone\" rel=\"nofollow\">Twitter for iPhone</a>',\n",
       " 'truncated': False,\n",
       " 'in_reply_to_status_id': None,\n",
       " 'in_reply_to_status_id_str': None,\n",
       " 'in_reply_to_user_id': None,\n",
       " 'in_reply_to_user_id_str': None,\n",
       " 'in_reply_to_screen_name': None,\n",
       " 'user': {'id': 1155317477326254082,\n",
       "  'id_str': '1155317477326254082',\n",
       "  'name': '` 𝘁𝗼𝗺𝘆𝘄𝗼𝗼 .',\n",
       "  'screen_name': 'tomywoo_',\n",
       "  'location': None,\n",
       "  'url': None,\n",
       "  'description': '𝗫𝟭 — 𝗢𝗡𝗘 𝗜𝗧 , 𝙎𝙀𝙐𝙉𝙂𝙒𝙊𝙊 💚',\n",
       "  'translator_type': 'none',\n",
       "  'protected': False,\n",
       "  'verified': False,\n",
       "  'followers_count': 5,\n",
       "  'friends_count': 91,\n",
       "  'listed_count': 0,\n",
       "  'favourites_count': 14,\n",
       "  'statuses_count': 986,\n",
       "  'created_at': 'Sun Jul 28 03:22:06 +0000 2019',\n",
       "  'utc_offset': None,\n",
       "  'time_zone': None,\n",
       "  'geo_enabled': False,\n",
       "  'lang': None,\n",
       "  'contributors_enabled': False,\n",
       "  'is_translator': False,\n",
       "  'profile_background_color': 'F5F8FA',\n",
       "  'profile_background_image_url': '',\n",
       "  'profile_background_image_url_https': '',\n",
       "  'profile_background_tile': False,\n",
       "  'profile_link_color': '1DA1F2',\n",
       "  'profile_sidebar_border_color': 'C0DEED',\n",
       "  'profile_sidebar_fill_color': 'DDEEF6',\n",
       "  'profile_text_color': '333333',\n",
       "  'profile_use_background_image': True,\n",
       "  'profile_image_url': 'http://pbs.twimg.com/profile_images/1164609412767584256/zqxUAPo0_normal.jpg',\n",
       "  'profile_image_url_https': 'https://pbs.twimg.com/profile_images/1164609412767584256/zqxUAPo0_normal.jpg',\n",
       "  'profile_banner_url': 'https://pbs.twimg.com/profile_banners/1155317477326254082/1564285333',\n",
       "  'default_profile': True,\n",
       "  'default_profile_image': False,\n",
       "  'following': None,\n",
       "  'follow_request_sent': None,\n",
       "  'notifications': None},\n",
       " 'geo': None,\n",
       " 'coordinates': None,\n",
       " 'place': None,\n",
       " 'contributors': None,\n",
       " 'retweeted_status': {'created_at': 'Fri Aug 30 15:00:00 +0000 2019',\n",
       "  'id': 1167451912897290249,\n",
       "  'id_str': '1167451912897290249',\n",
       "  'text': '[#KCON2019THAILAND]\\nLove Call สำหรับ ONE IT พิกกี้บูบู้ของ #X1\\nตอบรับกันตอนนี้เลย!\\n\\nการพบกันครั้งแรกของ X1 และ ONE… https://t.co/9UnxcvG6n9',\n",
       "  'display_text_range': [0, 140],\n",
       "  'source': '<a href=\"https://studio.twitter.com\" rel=\"nofollow\">Twitter Media Studio</a>',\n",
       "  'truncated': True,\n",
       "  'in_reply_to_status_id': None,\n",
       "  'in_reply_to_status_id_str': None,\n",
       "  'in_reply_to_user_id': None,\n",
       "  'in_reply_to_user_id_str': None,\n",
       "  'in_reply_to_screen_name': None,\n",
       "  'user': {'id': 1016915237151203328,\n",
       "   'id_str': '1016915237151203328',\n",
       "   'name': 'KCON THAILAND',\n",
       "   'screen_name': 'KCONThailand',\n",
       "   'location': 'Bangkok, Thailand',\n",
       "   'url': None,\n",
       "   'description': 'KCON 2019 THAILAND OFFICIAL TWITTER',\n",
       "   'translator_type': 'none',\n",
       "   'protected': False,\n",
       "   'verified': True,\n",
       "   'followers_count': 58475,\n",
       "   'friends_count': 8,\n",
       "   'listed_count': 36,\n",
       "   'favourites_count': 209,\n",
       "   'statuses_count': 229,\n",
       "   'created_at': 'Wed Jul 11 05:21:00 +0000 2018',\n",
       "   'utc_offset': None,\n",
       "   'time_zone': None,\n",
       "   'geo_enabled': False,\n",
       "   'lang': None,\n",
       "   'contributors_enabled': False,\n",
       "   'is_translator': False,\n",
       "   'profile_background_color': '000000',\n",
       "   'profile_background_image_url': 'http://abs.twimg.com/images/themes/theme1/bg.png',\n",
       "   'profile_background_image_url_https': 'https://abs.twimg.com/images/themes/theme1/bg.png',\n",
       "   'profile_background_tile': False,\n",
       "   'profile_link_color': 'FF691F',\n",
       "   'profile_sidebar_border_color': '000000',\n",
       "   'profile_sidebar_fill_color': '000000',\n",
       "   'profile_text_color': '000000',\n",
       "   'profile_use_background_image': False,\n",
       "   'profile_image_url': 'http://pbs.twimg.com/profile_images/1117699659244298240/60SOkoyW_normal.png',\n",
       "   'profile_image_url_https': 'https://pbs.twimg.com/profile_images/1117699659244298240/60SOkoyW_normal.png',\n",
       "   'profile_banner_url': 'https://pbs.twimg.com/profile_banners/1016915237151203328/1555290212',\n",
       "   'default_profile': False,\n",
       "   'default_profile_image': False,\n",
       "   'following': None,\n",
       "   'follow_request_sent': None,\n",
       "   'notifications': None},\n",
       "  'geo': None,\n",
       "  'coordinates': None,\n",
       "  'place': None,\n",
       "  'contributors': None,\n",
       "  'is_quote_status': False,\n",
       "  'extended_tweet': {'full_text': '[#KCON2019THAILAND]\\nLove Call สำหรับ ONE IT พิกกี้บูบู้ของ #X1\\nตอบรับกันตอนนี้เลย!\\n\\nการพบกันครั้งแรกของ X1 และ ONE IT ➤ https://t.co/p14yxyFWmK \\n\\n@x1official101 #X1_KCON #วันอิท #วอนอิท https://t.co/faV47kXrhP',\n",
       "   'display_text_range': [0, 185],\n",
       "   'entities': {'hashtags': [{'text': 'KCON2019THAILAND', 'indices': [1, 18]},\n",
       "     {'text': 'X1', 'indices': [59, 62]},\n",
       "     {'text': 'X1_KCON', 'indices': [161, 169]},\n",
       "     {'text': 'วันอิท', 'indices': [170, 177]},\n",
       "     {'text': 'วอนอิท', 'indices': [178, 185]}],\n",
       "    'urls': [{'url': 'https://t.co/p14yxyFWmK',\n",
       "      'expanded_url': 'https://bit.ly/2MDJIgY',\n",
       "      'display_url': 'bit.ly/2MDJIgY',\n",
       "      'indices': [120, 143]}],\n",
       "    'user_mentions': [{'screen_name': 'x1official101',\n",
       "      'name': 'X1',\n",
       "      'id': 1145298826384687104,\n",
       "      'id_str': '1145298826384687104',\n",
       "      'indices': [146, 160]}],\n",
       "    'symbols': [],\n",
       "    'media': [{'id': 1167378980044865537,\n",
       "      'id_str': '1167378980044865537',\n",
       "      'indices': [186, 209],\n",
       "      'additional_media_info': {'title': '',\n",
       "       'description': '',\n",
       "       'embeddable': True,\n",
       "       'monetizable': False},\n",
       "      'media_url': 'http://pbs.twimg.com/media/EDNdY6EU0AACUYS.jpg',\n",
       "      'media_url_https': 'https://pbs.twimg.com/media/EDNdY6EU0AACUYS.jpg',\n",
       "      'url': 'https://t.co/faV47kXrhP',\n",
       "      'display_url': 'pic.twitter.com/faV47kXrhP',\n",
       "      'expanded_url': 'https://twitter.com/KCONThailand/status/1167451912897290249/video/1',\n",
       "      'type': 'video',\n",
       "      'video_info': {'aspect_ratio': [16, 9],\n",
       "       'duration_millis': 111133,\n",
       "       'variants': [{'content_type': 'application/x-mpegURL',\n",
       "         'url': 'https://video.twimg.com/amplify_video/1167378980044865537/pl/bymHDriGyL5a-B56.m3u8?tag=13'},\n",
       "        {'bitrate': 832000,\n",
       "         'content_type': 'video/mp4',\n",
       "         'url': 'https://video.twimg.com/amplify_video/1167378980044865537/vid/640x360/NEwvGDLyNhIi09QK.mp4?tag=13'},\n",
       "        {'bitrate': 2176000,\n",
       "         'content_type': 'video/mp4',\n",
       "         'url': 'https://video.twimg.com/amplify_video/1167378980044865537/vid/1280x720/zG1ccYHKXXpbiptP.mp4?tag=13'},\n",
       "        {'bitrate': 288000,\n",
       "         'content_type': 'video/mp4',\n",
       "         'url': 'https://video.twimg.com/amplify_video/1167378980044865537/vid/480x270/-29dNdCJPxbP2-0A.mp4?tag=13'}]},\n",
       "      'sizes': {'thumb': {'w': 150, 'h': 150, 'resize': 'crop'},\n",
       "       'large': {'w': 640, 'h': 360, 'resize': 'fit'},\n",
       "       'medium': {'w': 640, 'h': 360, 'resize': 'fit'},\n",
       "       'small': {'w': 640, 'h': 360, 'resize': 'fit'}}}]},\n",
       "   'extended_entities': {'media': [{'id': 1167378980044865537,\n",
       "      'id_str': '1167378980044865537',\n",
       "      'indices': [186, 209],\n",
       "      'additional_media_info': {'title': '',\n",
       "       'description': '',\n",
       "       'embeddable': True,\n",
       "       'monetizable': False},\n",
       "      'media_url': 'http://pbs.twimg.com/media/EDNdY6EU0AACUYS.jpg',\n",
       "      'media_url_https': 'https://pbs.twimg.com/media/EDNdY6EU0AACUYS.jpg',\n",
       "      'url': 'https://t.co/faV47kXrhP',\n",
       "      'display_url': 'pic.twitter.com/faV47kXrhP',\n",
       "      'expanded_url': 'https://twitter.com/KCONThailand/status/1167451912897290249/video/1',\n",
       "      'type': 'video',\n",
       "      'video_info': {'aspect_ratio': [16, 9],\n",
       "       'duration_millis': 111133,\n",
       "       'variants': [{'content_type': 'application/x-mpegURL',\n",
       "         'url': 'https://video.twimg.com/amplify_video/1167378980044865537/pl/bymHDriGyL5a-B56.m3u8?tag=13'},\n",
       "        {'bitrate': 832000,\n",
       "         'content_type': 'video/mp4',\n",
       "         'url': 'https://video.twimg.com/amplify_video/1167378980044865537/vid/640x360/NEwvGDLyNhIi09QK.mp4?tag=13'},\n",
       "        {'bitrate': 2176000,\n",
       "         'content_type': 'video/mp4',\n",
       "         'url': 'https://video.twimg.com/amplify_video/1167378980044865537/vid/1280x720/zG1ccYHKXXpbiptP.mp4?tag=13'},\n",
       "        {'bitrate': 288000,\n",
       "         'content_type': 'video/mp4',\n",
       "         'url': 'https://video.twimg.com/amplify_video/1167378980044865537/vid/480x270/-29dNdCJPxbP2-0A.mp4?tag=13'}]},\n",
       "      'sizes': {'thumb': {'w': 150, 'h': 150, 'resize': 'crop'},\n",
       "       'large': {'w': 640, 'h': 360, 'resize': 'fit'},\n",
       "       'medium': {'w': 640, 'h': 360, 'resize': 'fit'},\n",
       "       'small': {'w': 640, 'h': 360, 'resize': 'fit'}}}]}},\n",
       "  'quote_count': 963,\n",
       "  'reply_count': 386,\n",
       "  'retweet_count': 23866,\n",
       "  'favorite_count': 32065,\n",
       "  'entities': {'hashtags': [{'text': 'KCON2019THAILAND', 'indices': [1, 18]},\n",
       "    {'text': 'X1', 'indices': [59, 62]}],\n",
       "   'urls': [{'url': 'https://t.co/9UnxcvG6n9',\n",
       "     'expanded_url': 'https://twitter.com/i/web/status/1167451912897290249',\n",
       "     'display_url': 'twitter.com/i/web/status/1…',\n",
       "     'indices': [116, 139]}],\n",
       "   'user_mentions': [],\n",
       "   'symbols': []},\n",
       "  'favorited': False,\n",
       "  'retweeted': False,\n",
       "  'possibly_sensitive': False,\n",
       "  'filter_level': 'low',\n",
       "  'lang': 'th'},\n",
       " 'is_quote_status': False,\n",
       " 'quote_count': 0,\n",
       " 'reply_count': 0,\n",
       " 'retweet_count': 0,\n",
       " 'favorite_count': 0,\n",
       " 'entities': {'hashtags': [{'text': 'KCON2019THAILAND', 'indices': [19, 36]},\n",
       "   {'text': 'X1', 'indices': [77, 80]}],\n",
       "  'urls': [],\n",
       "  'user_mentions': [{'screen_name': 'KCONThailand',\n",
       "    'name': 'KCON THAILAND',\n",
       "    'id': 1016915237151203328,\n",
       "    'id_str': '1016915237151203328',\n",
       "    'indices': [3, 16]}],\n",
       "  'symbols': []},\n",
       " 'favorited': False,\n",
       " 'retweeted': False,\n",
       " 'filter_level': 'low',\n",
       " 'lang': 'th',\n",
       " 'timestamp_ms': '1567235492922'}"
      ]
     },
     "execution_count": 315,
     "metadata": {},
     "output_type": "execute_result"
    }
   ],
   "source": [
    "tweets_data[len(tweets_data)-1]"
   ]
  },
  {
   "cell_type": "code",
   "execution_count": 316,
   "metadata": {},
   "outputs": [
    {
     "data": {
      "text/html": [
       "<div>\n",
       "<style scoped>\n",
       "    .dataframe tbody tr th:only-of-type {\n",
       "        vertical-align: middle;\n",
       "    }\n",
       "\n",
       "    .dataframe tbody tr th {\n",
       "        vertical-align: top;\n",
       "    }\n",
       "\n",
       "    .dataframe thead th {\n",
       "        text-align: right;\n",
       "    }\n",
       "</style>\n",
       "<table border=\"1\" class=\"dataframe\">\n",
       "  <thead>\n",
       "    <tr style=\"text-align: right;\">\n",
       "      <th></th>\n",
       "      <th>time</th>\n",
       "      <th>day</th>\n",
       "      <th>language</th>\n",
       "      <th>text</th>\n",
       "    </tr>\n",
       "  </thead>\n",
       "  <tbody>\n",
       "    <tr>\n",
       "      <th>9995</th>\n",
       "      <td>2019-08-31 14:11:02+07:00</td>\n",
       "      <td>Sat</td>\n",
       "      <td>th</td>\n",
       "      <td>RT @KCONThailand: [#KCON2019THAILAND] SPECIAL ...</td>\n",
       "    </tr>\n",
       "    <tr>\n",
       "      <th>9996</th>\n",
       "      <td>2019-08-31 14:11:21+07:00</td>\n",
       "      <td>Sat</td>\n",
       "      <td>th</td>\n",
       "      <td>RT @KCONThailand: [#KCON2019THAILAND]\\nLove Ca...</td>\n",
       "    </tr>\n",
       "    <tr>\n",
       "      <th>9997</th>\n",
       "      <td>2019-08-31 14:11:23+07:00</td>\n",
       "      <td>Sat</td>\n",
       "      <td>th</td>\n",
       "      <td>RT @KCONThailand: [#KCON2019THAILAND] SPECIAL ...</td>\n",
       "    </tr>\n",
       "    <tr>\n",
       "      <th>9998</th>\n",
       "      <td>2019-08-31 14:11:29+07:00</td>\n",
       "      <td>Sat</td>\n",
       "      <td>th</td>\n",
       "      <td>RT @KCONThailand: [#KCON2019THAILAND]\\nLove Ca...</td>\n",
       "    </tr>\n",
       "    <tr>\n",
       "      <th>9999</th>\n",
       "      <td>2019-08-31 14:11:32+07:00</td>\n",
       "      <td>Sat</td>\n",
       "      <td>th</td>\n",
       "      <td>RT @KCONThailand: [#KCON2019THAILAND]\\nLove Ca...</td>\n",
       "    </tr>\n",
       "  </tbody>\n",
       "</table>\n",
       "</div>"
      ],
      "text/plain": [
       "                          time  day language  \\\n",
       "9995 2019-08-31 14:11:02+07:00  Sat       th   \n",
       "9996 2019-08-31 14:11:21+07:00  Sat       th   \n",
       "9997 2019-08-31 14:11:23+07:00  Sat       th   \n",
       "9998 2019-08-31 14:11:29+07:00  Sat       th   \n",
       "9999 2019-08-31 14:11:32+07:00  Sat       th   \n",
       "\n",
       "                                                   text  \n",
       "9995  RT @KCONThailand: [#KCON2019THAILAND] SPECIAL ...  \n",
       "9996  RT @KCONThailand: [#KCON2019THAILAND]\\nLove Ca...  \n",
       "9997  RT @KCONThailand: [#KCON2019THAILAND] SPECIAL ...  \n",
       "9998  RT @KCONThailand: [#KCON2019THAILAND]\\nLove Ca...  \n",
       "9999  RT @KCONThailand: [#KCON2019THAILAND]\\nLove Ca...  "
      ]
     },
     "execution_count": 316,
     "metadata": {},
     "output_type": "execute_result"
    }
   ],
   "source": [
    "df.tail(5)"
   ]
  },
  {
   "cell_type": "code",
   "execution_count": 317,
   "metadata": {},
   "outputs": [
    {
     "data": {
      "text/plain": [
       "th     9687\n",
       "en      131\n",
       "und     125\n",
       "ko       21\n",
       "in       10\n",
       "es        9\n",
       "tl        5\n",
       "ja        4\n",
       "vi        3\n",
       "tr        2\n",
       "zh        1\n",
       "ru        1\n",
       "pt        1\n",
       "Name: language, dtype: int64"
      ]
     },
     "execution_count": 317,
     "metadata": {},
     "output_type": "execute_result"
    }
   ],
   "source": [
    "df['language'].value_counts()"
   ]
  },
  {
   "cell_type": "code",
   "execution_count": 318,
   "metadata": {
    "scrolled": true
   },
   "outputs": [
    {
     "data": {
      "text/plain": [
       "{'created_at': datetime.datetime(2019, 8, 31, 9, 46, 35, tzinfo=<DstTzInfo 'Asia/Bangkok' +07+7:00:00 STD>),\n",
       " 'id': 'Sat',\n",
       " 'id_str': '1167629727810478082',\n",
       " 'text': 'RT @KCONThailand: [#KCON2019THAILAND]\\nLove Call สำหรับ ONE IT พิกกี้บูบู้ของ #X1\\nตอบรับกันตอนนี้เลย!\\n\\nการพบกันครั้งแรกของ X1 และ ONE IT ➤ h…',\n",
       " 'source': '<a href=\"http://twitter.com/download/iphone\" rel=\"nofollow\">Twitter for iPhone</a>',\n",
       " 'truncated': False,\n",
       " 'in_reply_to_status_id': None,\n",
       " 'in_reply_to_status_id_str': None,\n",
       " 'in_reply_to_user_id': None,\n",
       " 'in_reply_to_user_id_str': None,\n",
       " 'in_reply_to_screen_name': None,\n",
       " 'user': {'id': 1116003518261878785,\n",
       "  'id_str': '1116003518261878785',\n",
       "  'name': '𐬹 ♬ 𓈒 มิล 𓐄 อีฟ 𐬹',\n",
       "  'screen_name': 'donghyunlilactx',\n",
       "  'location': 'lilac ✧ tulip',\n",
       "  'url': 'http://xn--03-kh4a9h.net/',\n",
       "  'description': '. ﾟ ˓ ♥︎ ˖ ᱸ 𝚊𝚍𝚍 𝚖𝚢 𝓬𝚛𝚞𝚜𝚑 @yunseongcutie 𓈒 ᱸ 𐬹 ✧ 🤺 𐬹 🧦 𐬹 🐰 ୨ 𝐭𝐞𝐚𝐦𝚖𝚒𝚗𝚔𝚎𝚞𝚖𝚑𝚠𝚊𝚗𝚐 𐬹 𝐬𝐩𝐞𝐡𝐫𝚖𝚒𝚗𝚑𝚎𝚎 ୧',\n",
       "  'translator_type': 'none',\n",
       "  'protected': False,\n",
       "  'verified': False,\n",
       "  'followers_count': 216,\n",
       "  'friends_count': 237,\n",
       "  'listed_count': 0,\n",
       "  'favourites_count': 48,\n",
       "  'statuses_count': 861,\n",
       "  'created_at': 'Wed Apr 10 15:42:27 +0000 2019',\n",
       "  'utc_offset': None,\n",
       "  'time_zone': None,\n",
       "  'geo_enabled': False,\n",
       "  'lang': None,\n",
       "  'contributors_enabled': False,\n",
       "  'is_translator': False,\n",
       "  'profile_background_color': 'F5F8FA',\n",
       "  'profile_background_image_url': '',\n",
       "  'profile_background_image_url_https': '',\n",
       "  'profile_background_tile': False,\n",
       "  'profile_link_color': '1DA1F2',\n",
       "  'profile_sidebar_border_color': 'C0DEED',\n",
       "  'profile_sidebar_fill_color': 'DDEEF6',\n",
       "  'profile_text_color': '333333',\n",
       "  'profile_use_background_image': True,\n",
       "  'profile_image_url': 'http://pbs.twimg.com/profile_images/1163051928730755073/LJZJiqO6_normal.jpg',\n",
       "  'profile_image_url_https': 'https://pbs.twimg.com/profile_images/1163051928730755073/LJZJiqO6_normal.jpg',\n",
       "  'profile_banner_url': 'https://pbs.twimg.com/profile_banners/1116003518261878785/1566047346',\n",
       "  'default_profile': True,\n",
       "  'default_profile_image': False,\n",
       "  'following': None,\n",
       "  'follow_request_sent': None,\n",
       "  'notifications': None},\n",
       " 'geo': None,\n",
       " 'coordinates': None,\n",
       " 'place': None,\n",
       " 'contributors': None,\n",
       " 'retweeted_status': {'created_at': 'Fri Aug 30 15:00:00 +0000 2019',\n",
       "  'id': 1167451912897290249,\n",
       "  'id_str': '1167451912897290249',\n",
       "  'text': '[#KCON2019THAILAND]\\nLove Call สำหรับ ONE IT พิกกี้บูบู้ของ #X1\\nตอบรับกันตอนนี้เลย!\\n\\nการพบกันครั้งแรกของ X1 และ ONE… https://t.co/9UnxcvG6n9',\n",
       "  'display_text_range': [0, 140],\n",
       "  'source': '<a href=\"https://studio.twitter.com\" rel=\"nofollow\">Twitter Media Studio</a>',\n",
       "  'truncated': True,\n",
       "  'in_reply_to_status_id': None,\n",
       "  'in_reply_to_status_id_str': None,\n",
       "  'in_reply_to_user_id': None,\n",
       "  'in_reply_to_user_id_str': None,\n",
       "  'in_reply_to_screen_name': None,\n",
       "  'user': {'id': 1016915237151203328,\n",
       "   'id_str': '1016915237151203328',\n",
       "   'name': 'KCON THAILAND',\n",
       "   'screen_name': 'KCONThailand',\n",
       "   'location': 'Bangkok, Thailand',\n",
       "   'url': None,\n",
       "   'description': 'KCON 2019 THAILAND OFFICIAL TWITTER',\n",
       "   'translator_type': 'none',\n",
       "   'protected': False,\n",
       "   'verified': True,\n",
       "   'followers_count': 58333,\n",
       "   'friends_count': 8,\n",
       "   'listed_count': 36,\n",
       "   'favourites_count': 207,\n",
       "   'statuses_count': 227,\n",
       "   'created_at': 'Wed Jul 11 05:21:00 +0000 2018',\n",
       "   'utc_offset': None,\n",
       "   'time_zone': None,\n",
       "   'geo_enabled': False,\n",
       "   'lang': None,\n",
       "   'contributors_enabled': False,\n",
       "   'is_translator': False,\n",
       "   'profile_background_color': '000000',\n",
       "   'profile_background_image_url': 'http://abs.twimg.com/images/themes/theme1/bg.png',\n",
       "   'profile_background_image_url_https': 'https://abs.twimg.com/images/themes/theme1/bg.png',\n",
       "   'profile_background_tile': False,\n",
       "   'profile_link_color': 'FF691F',\n",
       "   'profile_sidebar_border_color': '000000',\n",
       "   'profile_sidebar_fill_color': '000000',\n",
       "   'profile_text_color': '000000',\n",
       "   'profile_use_background_image': False,\n",
       "   'profile_image_url': 'http://pbs.twimg.com/profile_images/1117699659244298240/60SOkoyW_normal.png',\n",
       "   'profile_image_url_https': 'https://pbs.twimg.com/profile_images/1117699659244298240/60SOkoyW_normal.png',\n",
       "   'profile_banner_url': 'https://pbs.twimg.com/profile_banners/1016915237151203328/1555290212',\n",
       "   'default_profile': False,\n",
       "   'default_profile_image': False,\n",
       "   'following': None,\n",
       "   'follow_request_sent': None,\n",
       "   'notifications': None},\n",
       "  'geo': None,\n",
       "  'coordinates': None,\n",
       "  'place': None,\n",
       "  'contributors': None,\n",
       "  'is_quote_status': False,\n",
       "  'extended_tweet': {'full_text': '[#KCON2019THAILAND]\\nLove Call สำหรับ ONE IT พิกกี้บูบู้ของ #X1\\nตอบรับกันตอนนี้เลย!\\n\\nการพบกันครั้งแรกของ X1 และ ONE IT ➤ https://t.co/p14yxyFWmK \\n\\n@x1official101 #X1_KCON #วันอิท #วอนอิท https://t.co/faV47kXrhP',\n",
       "   'display_text_range': [0, 185],\n",
       "   'entities': {'hashtags': [{'text': 'KCON2019THAILAND', 'indices': [1, 18]},\n",
       "     {'text': 'X1', 'indices': [59, 62]},\n",
       "     {'text': 'X1_KCON', 'indices': [161, 169]},\n",
       "     {'text': 'วันอิท', 'indices': [170, 177]},\n",
       "     {'text': 'วอนอิท', 'indices': [178, 185]}],\n",
       "    'urls': [{'url': 'https://t.co/p14yxyFWmK',\n",
       "      'expanded_url': 'https://bit.ly/2MDJIgY',\n",
       "      'display_url': 'bit.ly/2MDJIgY',\n",
       "      'indices': [120, 143]}],\n",
       "    'user_mentions': [{'screen_name': 'x1official101',\n",
       "      'name': 'X1',\n",
       "      'id': 1145298826384687104,\n",
       "      'id_str': '1145298826384687104',\n",
       "      'indices': [146, 160]}],\n",
       "    'symbols': [],\n",
       "    'media': [{'id': 1167378980044865537,\n",
       "      'id_str': '1167378980044865537',\n",
       "      'indices': [186, 209],\n",
       "      'additional_media_info': {'title': '',\n",
       "       'description': '',\n",
       "       'embeddable': True,\n",
       "       'monetizable': False},\n",
       "      'media_url': 'http://pbs.twimg.com/media/EDNdY6EU0AACUYS.jpg',\n",
       "      'media_url_https': 'https://pbs.twimg.com/media/EDNdY6EU0AACUYS.jpg',\n",
       "      'url': 'https://t.co/faV47kXrhP',\n",
       "      'display_url': 'pic.twitter.com/faV47kXrhP',\n",
       "      'expanded_url': 'https://twitter.com/KCONThailand/status/1167451912897290249/video/1',\n",
       "      'type': 'video',\n",
       "      'video_info': {'aspect_ratio': [16, 9],\n",
       "       'duration_millis': 111133,\n",
       "       'variants': [{'content_type': 'application/x-mpegURL',\n",
       "         'url': 'https://video.twimg.com/amplify_video/1167378980044865537/pl/bymHDriGyL5a-B56.m3u8?tag=13'},\n",
       "        {'bitrate': 832000,\n",
       "         'content_type': 'video/mp4',\n",
       "         'url': 'https://video.twimg.com/amplify_video/1167378980044865537/vid/640x360/NEwvGDLyNhIi09QK.mp4?tag=13'},\n",
       "        {'bitrate': 2176000,\n",
       "         'content_type': 'video/mp4',\n",
       "         'url': 'https://video.twimg.com/amplify_video/1167378980044865537/vid/1280x720/zG1ccYHKXXpbiptP.mp4?tag=13'},\n",
       "        {'bitrate': 288000,\n",
       "         'content_type': 'video/mp4',\n",
       "         'url': 'https://video.twimg.com/amplify_video/1167378980044865537/vid/480x270/-29dNdCJPxbP2-0A.mp4?tag=13'}]},\n",
       "      'sizes': {'thumb': {'w': 150, 'h': 150, 'resize': 'crop'},\n",
       "       'large': {'w': 640, 'h': 360, 'resize': 'fit'},\n",
       "       'medium': {'w': 640, 'h': 360, 'resize': 'fit'},\n",
       "       'small': {'w': 640, 'h': 360, 'resize': 'fit'}}}]},\n",
       "   'extended_entities': {'media': [{'id': 1167378980044865537,\n",
       "      'id_str': '1167378980044865537',\n",
       "      'indices': [186, 209],\n",
       "      'additional_media_info': {'title': '',\n",
       "       'description': '',\n",
       "       'embeddable': True,\n",
       "       'monetizable': False},\n",
       "      'media_url': 'http://pbs.twimg.com/media/EDNdY6EU0AACUYS.jpg',\n",
       "      'media_url_https': 'https://pbs.twimg.com/media/EDNdY6EU0AACUYS.jpg',\n",
       "      'url': 'https://t.co/faV47kXrhP',\n",
       "      'display_url': 'pic.twitter.com/faV47kXrhP',\n",
       "      'expanded_url': 'https://twitter.com/KCONThailand/status/1167451912897290249/video/1',\n",
       "      'type': 'video',\n",
       "      'video_info': {'aspect_ratio': [16, 9],\n",
       "       'duration_millis': 111133,\n",
       "       'variants': [{'content_type': 'application/x-mpegURL',\n",
       "         'url': 'https://video.twimg.com/amplify_video/1167378980044865537/pl/bymHDriGyL5a-B56.m3u8?tag=13'},\n",
       "        {'bitrate': 832000,\n",
       "         'content_type': 'video/mp4',\n",
       "         'url': 'https://video.twimg.com/amplify_video/1167378980044865537/vid/640x360/NEwvGDLyNhIi09QK.mp4?tag=13'},\n",
       "        {'bitrate': 2176000,\n",
       "         'content_type': 'video/mp4',\n",
       "         'url': 'https://video.twimg.com/amplify_video/1167378980044865537/vid/1280x720/zG1ccYHKXXpbiptP.mp4?tag=13'},\n",
       "        {'bitrate': 288000,\n",
       "         'content_type': 'video/mp4',\n",
       "         'url': 'https://video.twimg.com/amplify_video/1167378980044865537/vid/480x270/-29dNdCJPxbP2-0A.mp4?tag=13'}]},\n",
       "      'sizes': {'thumb': {'w': 150, 'h': 150, 'resize': 'crop'},\n",
       "       'large': {'w': 640, 'h': 360, 'resize': 'fit'},\n",
       "       'medium': {'w': 640, 'h': 360, 'resize': 'fit'},\n",
       "       'small': {'w': 640, 'h': 360, 'resize': 'fit'}}}]}},\n",
       "  'quote_count': 867,\n",
       "  'reply_count': 365,\n",
       "  'retweet_count': 19779,\n",
       "  'favorite_count': 24861,\n",
       "  'entities': {'hashtags': [{'text': 'KCON2019THAILAND', 'indices': [1, 18]},\n",
       "    {'text': 'X1', 'indices': [59, 62]}],\n",
       "   'urls': [{'url': 'https://t.co/9UnxcvG6n9',\n",
       "     'expanded_url': 'https://twitter.com/i/web/status/1167451912897290249',\n",
       "     'display_url': 'twitter.com/i/web/status/1…',\n",
       "     'indices': [116, 139]}],\n",
       "   'user_mentions': [],\n",
       "   'symbols': []},\n",
       "  'favorited': False,\n",
       "  'retweeted': False,\n",
       "  'possibly_sensitive': False,\n",
       "  'filter_level': 'low',\n",
       "  'lang': 'th'},\n",
       " 'is_quote_status': False,\n",
       " 'quote_count': 0,\n",
       " 'reply_count': 0,\n",
       " 'retweet_count': 0,\n",
       " 'favorite_count': 0,\n",
       " 'entities': {'hashtags': [{'text': 'KCON2019THAILAND', 'indices': [19, 36]},\n",
       "   {'text': 'X1', 'indices': [77, 80]}],\n",
       "  'urls': [],\n",
       "  'user_mentions': [{'screen_name': 'KCONThailand',\n",
       "    'name': 'KCON THAILAND',\n",
       "    'id': 1016915237151203328,\n",
       "    'id_str': '1016915237151203328',\n",
       "    'indices': [3, 16]}],\n",
       "  'symbols': []},\n",
       " 'favorited': False,\n",
       " 'retweeted': False,\n",
       " 'filter_level': 'low',\n",
       " 'lang': 'th',\n",
       " 'timestamp_ms': '1567219595278'}"
      ]
     },
     "execution_count": 318,
     "metadata": {},
     "output_type": "execute_result"
    }
   ],
   "source": [
    "tweets_data[700]"
   ]
  },
  {
   "cell_type": "code",
   "execution_count": 319,
   "metadata": {},
   "outputs": [],
   "source": [
    "hashtag = []\n",
    "for j in range(len(tweets_data)):\n",
    "    if j not in lst_error:\n",
    "        for i in range(len(tweets_data[j]['entities']['hashtags'])):\n",
    "            hashtag.append(tweets_data[j]['entities']['hashtags'][i]['text'].upper())\n",
    "#           print(tweets_data[j]['entities']['hashtags'][i]['text'])"
   ]
  },
  {
   "cell_type": "code",
   "execution_count": 320,
   "metadata": {},
   "outputs": [
    {
     "name": "stdout",
     "output_type": "stream",
     "text": [
      "10000\n"
     ]
    }
   ],
   "source": [
    "print(len(tweets_data))"
   ]
  },
  {
   "cell_type": "code",
   "execution_count": 321,
   "metadata": {},
   "outputs": [
    {
     "data": {
      "text/plain": [
       "19112"
      ]
     },
     "execution_count": 321,
     "metadata": {},
     "output_type": "execute_result"
    }
   ],
   "source": [
    "len(hashtag)"
   ]
  },
  {
   "cell_type": "code",
   "execution_count": 322,
   "metadata": {},
   "outputs": [],
   "source": [
    "hashtag_df = pd.DataFrame({'hashtag':hashtag})"
   ]
  },
  {
   "cell_type": "code",
   "execution_count": 323,
   "metadata": {
    "scrolled": true
   },
   "outputs": [
    {
     "data": {
      "text/plain": [
       "KCON2019THAILAND        8499\n",
       "X1                      5735\n",
       "ONEIT                    668\n",
       "วันอิท                   661\n",
       "GOT7                     587\n",
       "IZONE                    496\n",
       "STRAYKIDS                474\n",
       "KCONTHAILAND2019         276\n",
       "KCON                     258\n",
       "KCON19TH                 182\n",
       "GOT7FANFESTINBKK          58\n",
       "X1_KCON                   51\n",
       "ตลาดนัดX1                 35\n",
       "CHAEUNWOOINBKK            33\n",
       "ตลาดนัดอากาเซ่            30\n",
       "BOYSTORY                  24\n",
       "พีชแพท                    23\n",
       "AB6IX1STFMINBKK           23\n",
       "ITZY                      21\n",
       "X1_FLAϞH                  21\n",
       "갓세븐                       21\n",
       "JINHYUKHAEINTHAILAND      20\n",
       "엑스원                       18\n",
       "ONEUS                     16\n",
       "KIMJAEHWAN                16\n",
       "THEBOYZ                   15\n",
       "AB6IX                     14\n",
       "송형준                       12\n",
       "EXPLORATIONINBKK          11\n",
       "ซงฮยองจุน                 11\n",
       "พีชพชร                    11\n",
       "MEETANDGREET              11\n",
       "SONGHYEONGJUN             11\n",
       "ตลาดนัดอากาเซ             11\n",
       "JB                        10\n",
       "รับทำของแจก               10\n",
       "COVERSTARK                 9\n",
       "FANFESTINBKK               9\n",
       "ATEEZ                      9\n",
       "LAY_GRANDLINEINBKK         9\n",
       "JSWZEROINBKK               9\n",
       "ตลาดนัดAB6IX               9\n",
       "ตลาดนัดWIND                8\n",
       "LETSKCON                   8\n",
       "แพทริเซีย                  8\n",
       "ตลาดนัดEXO                 8\n",
       "ซึงพโย                     8\n",
       "ตลาดนัดบังทัน              8\n",
       "ลิซ่าBLACKPINK             8\n",
       "HANSEUNGWOO                7\n",
       "Name: hashtag, dtype: int64"
      ]
     },
     "execution_count": 323,
     "metadata": {},
     "output_type": "execute_result"
    }
   ],
   "source": [
    "hashtag_df['hashtag'].value_counts().head(50)"
   ]
  },
  {
   "cell_type": "code",
   "execution_count": 324,
   "metadata": {},
   "outputs": [
    {
     "data": {
      "text/plain": [
       "[0,\n",
       " 7200,\n",
       " 14400,\n",
       " 21600,\n",
       " 28800,\n",
       " 36000,\n",
       " 43200,\n",
       " 50400,\n",
       " 57600,\n",
       " 64800,\n",
       " 72000,\n",
       " 79200,\n",
       " 86400]"
      ]
     },
     "execution_count": 324,
     "metadata": {},
     "output_type": "execute_result"
    }
   ],
   "source": [
    "bins = list(range(0, 25*3600, 2*3600)) # แบ่งช่วงละ 2 ชั่วโมงและแปลงช่วงเป็นวินาที\n",
    "labels = ['0-2', '2-4', '4-6', '6-8', '8-10', '10-12', '12-14', '14-16', '16-18', '18-20', '20-22', '22-24'] # กำหนด label ของช่วง\n",
    "# print(list(range(0, 25, 2)))\n",
    "bins"
   ]
  },
  {
   "cell_type": "code",
   "execution_count": 325,
   "metadata": {
    "scrolled": true
   },
   "outputs": [],
   "source": [
    "# df"
   ]
  },
  {
   "cell_type": "code",
   "execution_count": 326,
   "metadata": {},
   "outputs": [],
   "source": [
    "df['sec'] = df.time.dt.hour * 3600 + df.time.dt.minute*60 + df.time.dt.second"
   ]
  },
  {
   "cell_type": "code",
   "execution_count": 327,
   "metadata": {},
   "outputs": [
    {
     "data": {
      "text/html": [
       "<div>\n",
       "<style scoped>\n",
       "    .dataframe tbody tr th:only-of-type {\n",
       "        vertical-align: middle;\n",
       "    }\n",
       "\n",
       "    .dataframe tbody tr th {\n",
       "        vertical-align: top;\n",
       "    }\n",
       "\n",
       "    .dataframe thead th {\n",
       "        text-align: right;\n",
       "    }\n",
       "</style>\n",
       "<table border=\"1\" class=\"dataframe\">\n",
       "  <thead>\n",
       "    <tr style=\"text-align: right;\">\n",
       "      <th></th>\n",
       "      <th>time</th>\n",
       "      <th>day</th>\n",
       "      <th>language</th>\n",
       "      <th>text</th>\n",
       "      <th>sec</th>\n",
       "    </tr>\n",
       "  </thead>\n",
       "  <tbody>\n",
       "    <tr>\n",
       "      <th>0</th>\n",
       "      <td>2019-08-31 09:29:17+07:00</td>\n",
       "      <td>Sat</td>\n",
       "      <td>th</td>\n",
       "      <td>RT @KCONThailand: [#KCON2019THAILAND]\\nYou wan...</td>\n",
       "      <td>34157</td>\n",
       "    </tr>\n",
       "    <tr>\n",
       "      <th>1</th>\n",
       "      <td>2019-08-31 09:29:18+07:00</td>\n",
       "      <td>Sat</td>\n",
       "      <td>th</td>\n",
       "      <td>RT @KCONThailand: [#KCON2019THAILAND]\\nLove Ca...</td>\n",
       "      <td>34158</td>\n",
       "    </tr>\n",
       "    <tr>\n",
       "      <th>2</th>\n",
       "      <td>2019-08-31 09:29:19+07:00</td>\n",
       "      <td>Sat</td>\n",
       "      <td>th</td>\n",
       "      <td>RT @KCONThailand: [#KCON2019THAILAND]\\nYou wan...</td>\n",
       "      <td>34159</td>\n",
       "    </tr>\n",
       "    <tr>\n",
       "      <th>3</th>\n",
       "      <td>2019-08-31 09:29:19+07:00</td>\n",
       "      <td>Sat</td>\n",
       "      <td>th</td>\n",
       "      <td>RT @KCONThailand: [#KCON2019THAILAND]\\nYou wan...</td>\n",
       "      <td>34159</td>\n",
       "    </tr>\n",
       "    <tr>\n",
       "      <th>4</th>\n",
       "      <td>2019-08-31 09:29:21+07:00</td>\n",
       "      <td>Sat</td>\n",
       "      <td>th</td>\n",
       "      <td>หาบัตรคอน วันอาทิตย์2ใบค่ะ\\n\\n#KCON2019THAILAND</td>\n",
       "      <td>34161</td>\n",
       "    </tr>\n",
       "  </tbody>\n",
       "</table>\n",
       "</div>"
      ],
      "text/plain": [
       "                       time  day language  \\\n",
       "0 2019-08-31 09:29:17+07:00  Sat       th   \n",
       "1 2019-08-31 09:29:18+07:00  Sat       th   \n",
       "2 2019-08-31 09:29:19+07:00  Sat       th   \n",
       "3 2019-08-31 09:29:19+07:00  Sat       th   \n",
       "4 2019-08-31 09:29:21+07:00  Sat       th   \n",
       "\n",
       "                                                text    sec  \n",
       "0  RT @KCONThailand: [#KCON2019THAILAND]\\nYou wan...  34157  \n",
       "1  RT @KCONThailand: [#KCON2019THAILAND]\\nLove Ca...  34158  \n",
       "2  RT @KCONThailand: [#KCON2019THAILAND]\\nYou wan...  34159  \n",
       "3  RT @KCONThailand: [#KCON2019THAILAND]\\nYou wan...  34159  \n",
       "4    หาบัตรคอน วันอาทิตย์2ใบค่ะ\\n\\n#KCON2019THAILAND  34161  "
      ]
     },
     "execution_count": 327,
     "metadata": {},
     "output_type": "execute_result"
    }
   ],
   "source": [
    "df.head()"
   ]
  },
  {
   "cell_type": "code",
   "execution_count": 328,
   "metadata": {},
   "outputs": [],
   "source": [
    "df['group'] = pd.cut(df['sec'], bins=bins, labels=labels)"
   ]
  },
  {
   "cell_type": "markdown",
   "metadata": {},
   "source": [
    "# Time plot"
   ]
  },
  {
   "cell_type": "code",
   "execution_count": 329,
   "metadata": {},
   "outputs": [
    {
     "data": {
      "text/plain": [
       "<matplotlib.axes._subplots.AxesSubplot at 0x1ab2b624c88>"
      ]
     },
     "execution_count": 329,
     "metadata": {},
     "output_type": "execute_result"
    },
    {
     "data": {
      "image/png": "[encoded data removed]",
      "text/plain": [
       "<Figure size 432x288 with 1 Axes>"
      ]
     },
     "metadata": {
      "needs_background": "light"
     },
     "output_type": "display_data"
    }
   ],
   "source": [
    "df.groupby('group').count()['time'].plot.bar()"
   ]
  },
  {
   "cell_type": "code",
   "execution_count": 330,
   "metadata": {},
   "outputs": [],
   "source": [
    "# df['group'].value_counts().reindex(['0-2', '2-4', '4-6', '6-8', '8-10', '10-12', '12-14', '14-16', '16-18', '18-20', '20-22', '22-24']).plot.bar()"
   ]
  },
  {
   "cell_type": "code",
   "execution_count": 331,
   "metadata": {},
   "outputs": [],
   "source": [
    "# set(hashtag)"
   ]
  },
  {
   "cell_type": "markdown",
   "metadata": {},
   "source": [
    "# Arthist hashtag"
   ]
  },
  {
   "cell_type": "code",
   "execution_count": 332,
   "metadata": {},
   "outputs": [],
   "source": [
    "boystory = hashtag.count('BOYSTORY')\n",
    "everglow = hashtag.count('EVERGLOW')\n",
    "goldenchild = hashtag.count('GOLDENCHILD') + hashtag.count('GOLDEN_CHILD')\n",
    "got7 = hashtag.count('GOT7')\n",
    "itzy = hashtag.count('ITZY')\n",
    "kimjaehwan = hashtag.count('KIMJAEHWAN') + hashtag.count('คิมแจฮวาน')\n",
    "nature = hashtag.count('NATURE')\n",
    "oneus = hashtag.count('ONEUS')\n",
    "theboyz = hashtag.count('THEBOYZ')\n",
    "x1 = hashtag.count('X1')\n",
    "nichkhun = hashtag.count('NICHKHUN') + hashtag.count('นิชคุณ')\n",
    "gidle = hashtag.count('G_I_DLE') + hashtag.count('GIDLE')\n",
    "ab6ix = hashtag.count('AB6IX')\n",
    "ateez = hashtag.count('ATEEZ')\n",
    "bvndit = hashtag.count('BVNDIT')\n",
    "chungha = hashtag.count('CHUNGHA')\n",
    "izone = hashtag.count('IZONE')\n",
    "straykids = hashtag.count('STRAYKIDS')\n",
    "varivary = hashtag.count('VERIVERY')"
   ]
  },
  {
   "cell_type": "code",
   "execution_count": 333,
   "metadata": {},
   "outputs": [],
   "source": [
    "artist = ['BOYSTORY', 'EVERGLOW', 'GOLDENCHILD', 'GOT7', 'ITZY', 'KIMJAEHWAN', 'NATURE', 'ONEUS', 'THEBOYZ', 'X1', 'NICHKHUN', 'G_I_DLE', 'AB6IX', 'ATEEZ', 'BVNDIT', 'CHUNGHA', 'IZONE', 'STRAYKIDS', 'VERIVERY']\n",
    "hashtag_count = [boystory, everglow, goldenchild, got7, itzy, kimjaehwan, nature, oneus, theboyz, x1, nichkhun, gidle, ab6ix, ateez, bvndit, chungha, izone, straykids, varivary]\n",
    "artist_df = pd.DataFrame({'artist':artist, 'hashtag_count':hashtag_count})\n",
    "artist_df = artist_df.set_index('artist')"
   ]
  },
  {
   "cell_type": "code",
   "execution_count": 334,
   "metadata": {},
   "outputs": [
    {
     "data": {
      "text/plain": [
       "<matplotlib.axes._subplots.AxesSubplot at 0x1ab2b28b6a0>"
      ]
     },
     "execution_count": 334,
     "metadata": {},
     "output_type": "execute_result"
    },
    {
     "data": {
      "image/png": "[encoded data removed]",
      "text/plain": [
       "<Figure size 432x288 with 1 Axes>"
      ]
     },
     "metadata": {
      "needs_background": "light"
     },
     "output_type": "display_data"
    }
   ],
   "source": [
    "artist_df.sort_values(by=['hashtag_count'], ascending=False)['hashtag_count'].plot.bar()"
   ]
  },
  {
   "cell_type": "markdown",
   "metadata": {},
   "source": [
    "# Log nomalized"
   ]
  },
  {
   "cell_type": "code",
   "execution_count": 335,
   "metadata": {},
   "outputs": [],
   "source": [
    "import numpy as np\n",
    "import pandas as pd\n",
    "\n",
    "artist_df['lognorm'] = np.log(1+artist_df['hashtag_count'])"
   ]
  },
  {
   "cell_type": "code",
   "execution_count": 336,
   "metadata": {},
   "outputs": [],
   "source": [
    "# artist_df['lognorm'].plot.bar()"
   ]
  },
  {
   "cell_type": "code",
   "execution_count": 337,
   "metadata": {},
   "outputs": [
    {
     "data": {
      "text/plain": [
       "<matplotlib.axes._subplots.AxesSubplot at 0x1ab2b1b94e0>"
      ]
     },
     "execution_count": 337,
     "metadata": {},
     "output_type": "execute_result"
    },
    {
     "data": {
      "image/png": "[encoded data removed]",
      "text/plain": [
       "<Figure size 432x288 with 1 Axes>"
      ]
     },
     "metadata": {
      "needs_background": "light"
     },
     "output_type": "display_data"
    }
   ],
   "source": [
    "artist_df.sort_values(by=['lognorm'], ascending=False)['lognorm'].plot.bar()"
   ]
  },
  {
   "cell_type": "code",
   "execution_count": 338,
   "metadata": {},
   "outputs": [
    {
     "data": {
      "text/plain": [
       "21"
      ]
     },
     "execution_count": 338,
     "metadata": {},
     "output_type": "execute_result"
    }
   ],
   "source": [
    "hashtag.count('ITZY')"
   ]
  },
  {
   "cell_type": "code",
   "execution_count": 339,
   "metadata": {},
   "outputs": [
    {
     "data": {
      "text/html": [
       "<div>\n",
       "<style scoped>\n",
       "    .dataframe tbody tr th:only-of-type {\n",
       "        vertical-align: middle;\n",
       "    }\n",
       "\n",
       "    .dataframe tbody tr th {\n",
       "        vertical-align: top;\n",
       "    }\n",
       "\n",
       "    .dataframe thead th {\n",
       "        text-align: right;\n",
       "    }\n",
       "</style>\n",
       "<table border=\"1\" class=\"dataframe\">\n",
       "  <thead>\n",
       "    <tr style=\"text-align: right;\">\n",
       "      <th></th>\n",
       "      <th>hashtag_count</th>\n",
       "      <th>lognorm</th>\n",
       "    </tr>\n",
       "    <tr>\n",
       "      <th>artist</th>\n",
       "      <th></th>\n",
       "      <th></th>\n",
       "    </tr>\n",
       "  </thead>\n",
       "  <tbody>\n",
       "    <tr>\n",
       "      <th>BOYSTORY</th>\n",
       "      <td>24</td>\n",
       "      <td>3.218876</td>\n",
       "    </tr>\n",
       "    <tr>\n",
       "      <th>EVERGLOW</th>\n",
       "      <td>3</td>\n",
       "      <td>1.386294</td>\n",
       "    </tr>\n",
       "    <tr>\n",
       "      <th>GOLDENCHILD</th>\n",
       "      <td>8</td>\n",
       "      <td>2.197225</td>\n",
       "    </tr>\n",
       "    <tr>\n",
       "      <th>GOT7</th>\n",
       "      <td>587</td>\n",
       "      <td>6.376727</td>\n",
       "    </tr>\n",
       "    <tr>\n",
       "      <th>ITZY</th>\n",
       "      <td>21</td>\n",
       "      <td>3.091042</td>\n",
       "    </tr>\n",
       "    <tr>\n",
       "      <th>KIMJAEHWAN</th>\n",
       "      <td>17</td>\n",
       "      <td>2.890372</td>\n",
       "    </tr>\n",
       "    <tr>\n",
       "      <th>NATURE</th>\n",
       "      <td>2</td>\n",
       "      <td>1.098612</td>\n",
       "    </tr>\n",
       "    <tr>\n",
       "      <th>ONEUS</th>\n",
       "      <td>16</td>\n",
       "      <td>2.833213</td>\n",
       "    </tr>\n",
       "    <tr>\n",
       "      <th>THEBOYZ</th>\n",
       "      <td>15</td>\n",
       "      <td>2.772589</td>\n",
       "    </tr>\n",
       "    <tr>\n",
       "      <th>X1</th>\n",
       "      <td>5735</td>\n",
       "      <td>8.654517</td>\n",
       "    </tr>\n",
       "    <tr>\n",
       "      <th>NICHKHUN</th>\n",
       "      <td>3</td>\n",
       "      <td>1.386294</td>\n",
       "    </tr>\n",
       "    <tr>\n",
       "      <th>G_I_DLE</th>\n",
       "      <td>4</td>\n",
       "      <td>1.609438</td>\n",
       "    </tr>\n",
       "    <tr>\n",
       "      <th>AB6IX</th>\n",
       "      <td>14</td>\n",
       "      <td>2.708050</td>\n",
       "    </tr>\n",
       "    <tr>\n",
       "      <th>ATEEZ</th>\n",
       "      <td>9</td>\n",
       "      <td>2.302585</td>\n",
       "    </tr>\n",
       "    <tr>\n",
       "      <th>BVNDIT</th>\n",
       "      <td>1</td>\n",
       "      <td>0.693147</td>\n",
       "    </tr>\n",
       "    <tr>\n",
       "      <th>CHUNGHA</th>\n",
       "      <td>5</td>\n",
       "      <td>1.791759</td>\n",
       "    </tr>\n",
       "    <tr>\n",
       "      <th>IZONE</th>\n",
       "      <td>496</td>\n",
       "      <td>6.208590</td>\n",
       "    </tr>\n",
       "    <tr>\n",
       "      <th>STRAYKIDS</th>\n",
       "      <td>474</td>\n",
       "      <td>6.163315</td>\n",
       "    </tr>\n",
       "    <tr>\n",
       "      <th>VERIVERY</th>\n",
       "      <td>3</td>\n",
       "      <td>1.386294</td>\n",
       "    </tr>\n",
       "  </tbody>\n",
       "</table>\n",
       "</div>"
      ],
      "text/plain": [
       "             hashtag_count   lognorm\n",
       "artist                              \n",
       "BOYSTORY                24  3.218876\n",
       "EVERGLOW                 3  1.386294\n",
       "GOLDENCHILD              8  2.197225\n",
       "GOT7                   587  6.376727\n",
       "ITZY                    21  3.091042\n",
       "KIMJAEHWAN              17  2.890372\n",
       "NATURE                   2  1.098612\n",
       "ONEUS                   16  2.833213\n",
       "THEBOYZ                 15  2.772589\n",
       "X1                    5735  8.654517\n",
       "NICHKHUN                 3  1.386294\n",
       "G_I_DLE                  4  1.609438\n",
       "AB6IX                   14  2.708050\n",
       "ATEEZ                    9  2.302585\n",
       "BVNDIT                   1  0.693147\n",
       "CHUNGHA                  5  1.791759\n",
       "IZONE                  496  6.208590\n",
       "STRAYKIDS              474  6.163315\n",
       "VERIVERY                 3  1.386294"
      ]
     },
     "execution_count": 339,
     "metadata": {},
     "output_type": "execute_result"
    }
   ],
   "source": [
    "artist_df"
   ]
  },
  {
   "cell_type": "code",
   "execution_count": null,
   "metadata": {},
   "outputs": [],
   "source": []
  },
  {
   "cell_type": "code",
   "execution_count": null,
   "metadata": {},
   "outputs": [],
   "source": []
  },
  {
   "cell_type": "code",
   "execution_count": null,
   "metadata": {},
   "outputs": [],
   "source": []
  }
 ],
 "metadata": {
  "kernelspec": {
   "display_name": "Python 3",
   "language": "python",
   "name": "python3"
  },
  "language_info": {
   "codemirror_mode": {
    "name": "ipython",
    "version": 3
   },
   "file_extension": ".py",
   "mimetype": "text/x-python",
   "name": "python",
   "nbconvert_exporter": "python",
   "pygments_lexer": "ipython3",
   "version": "3.7.3"
  }
 },
 "nbformat": 4,
 "nbformat_minor": 2
}
