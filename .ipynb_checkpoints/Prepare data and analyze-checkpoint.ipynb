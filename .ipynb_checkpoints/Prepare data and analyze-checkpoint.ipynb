{
 "cells": [
  {
   "cell_type": "markdown",
   "metadata": {},
   "source": [
    "# KCON 2019 THAILAND\n",
    "***KCON คืออะไร?<br>***\n",
    "- เป็นเทศกาลดนตรี K-Pop (เค-ป็อป) ซึ่งภายในงานอัดแน่นไปด้วยไลน์อัพศิลปินดังระดับท็อป และกิจกรรมที่การันตีว่าจะทำให้แฟนเพลงได้ใกล้ชิดศิลปินมากขึ้น\n",
    "- ปี 2019 เป็นครั้งที่สองที่มีการจัดงาน KCON ภายในประเทศไทย\n"
   ]
  },
  {
   "cell_type": "markdown",
   "metadata": {},
   "source": [
    "![an artist who join \"KCON Thailand 2019\"](img\\header.png)"
   ]
  },
  {
   "cell_type": "markdown",
   "metadata": {},
   "source": [
    "# Import Library"
   ]
  },
  {
   "cell_type": "code",
   "execution_count": 127,
   "metadata": {},
   "outputs": [],
   "source": [
    "import json\n",
    "import pandas as pd\n",
    "import numpy as np\n",
    "import matplotlib.pyplot as plt\n",
    "import matplotlib.patches as mpatches\n",
    "import re\n",
    "import pytz\n",
    "import deepcut\n",
    "from datetime import datetime, timezone\n",
    "from pythainlp import word_tokenize\n",
    "from pythainlp.corpus.common import thai_stopwords"
   ]
  },
  {
   "cell_type": "markdown",
   "metadata": {},
   "source": [
    "# Read data (collect on 06/09/2019 - 7/09/2019)"
   ]
  },
  {
   "cell_type": "markdown",
   "metadata": {},
   "source": [
    "***Warning!*** : Takes quite a long time to run cell below, depend on file size."
   ]
  },
  {
   "cell_type": "code",
   "execution_count": 128,
   "metadata": {},
   "outputs": [],
   "source": [
    "def read_data(tweets_data_path):\n",
    "    \"\"\" Function read data. \"\"\"\n",
    "    tweets_data = []\n",
    "    tweets_file = open(tweets_data_path, \"r\")\n",
    "    for line in tweets_file:\n",
    "        try:\n",
    "            tweet = json.loads(line)\n",
    "            tweets_data.append(tweet)\n",
    "        except:\n",
    "            continue\n",
    "    tweets_file.close()\n",
    "    return tweets_data"
   ]
  },
  {
   "cell_type": "code",
   "execution_count": 129,
   "metadata": {},
   "outputs": [],
   "source": [
    "# Combine data into a list tweets_data.\n",
    "tweets_data = read_data('data/06-09-62.txt')\n",
    "tweets_data += read_data('data/07-09-62-1.txt')\n",
    "tweets_data += read_data('data/07-09-62-2.txt')"
   ]
  },
  {
   "cell_type": "code",
   "execution_count": 130,
   "metadata": {},
   "outputs": [
    {
     "name": "stdout",
     "output_type": "stream",
     "text": [
      "21024\n"
     ]
    }
   ],
   "source": [
    "print(len(tweets_data)) # count number of twitter from collecting data."
   ]
  },
  {
   "cell_type": "markdown",
   "metadata": {},
   "source": [
    "# - - - - - Data preparation - - - - -"
   ]
  },
  {
   "cell_type": "markdown",
   "metadata": {},
   "source": [
    "## Reformat time and convert time zones UTC To ICT"
   ]
  },
  {
   "cell_type": "code",
   "execution_count": 131,
   "metadata": {},
   "outputs": [],
   "source": [
    "thai_tz = pytz.timezone('Asia/Bangkok') # thai time zone"
   ]
  },
  {
   "cell_type": "code",
   "execution_count": 132,
   "metadata": {},
   "outputs": [],
   "source": [
    "# find error in data\n",
    "lst_error = []\n",
    "for i in range(len(tweets_data)):\n",
    "    try:\n",
    "        tweets_data[i]['created_at'].split(' ')\n",
    "    except:\n",
    "        lst_error.append(i)"
   ]
  },
  {
   "cell_type": "code",
   "execution_count": 133,
   "metadata": {},
   "outputs": [
    {
     "name": "stdout",
     "output_type": "stream",
     "text": [
      "[]\n",
      "----------\n",
      "0\n"
     ]
    }
   ],
   "source": [
    "print(lst_error)\n",
    "print('----------')\n",
    "print(len(lst_error))"
   ]
  },
  {
   "cell_type": "code",
   "execution_count": 134,
   "metadata": {
    "scrolled": true
   },
   "outputs": [],
   "source": [
    "for i in range(len(tweets_data)):\n",
    "    if i not in lst_error:\n",
    "        lst = tweets_data[i]['created_at'].split(' ')\n",
    "        date = (lst[5]+'.'+lst[1]+'.'+lst[2]+' '+lst[3])\n",
    "        date_time = datetime.strptime(date, '%Y.%b.%d %H:%M:%S')\n",
    "        tweets_data[i]['created_at'] =  date_time.replace(tzinfo=timezone.utc).astimezone(thai_tz) # reset info and convert to thai timezone"
   ]
  },
  {
   "cell_type": "code",
   "execution_count": 135,
   "metadata": {
    "scrolled": true
   },
   "outputs": [],
   "source": [
    "time = [tweets_data[i]['created_at'] for i in range(len(tweets_data)) if i not in lst_error]\n",
    "language = [tweets_data[i]['lang'] for i in range(len(tweets_data)) if i not in lst_error]"
   ]
  },
  {
   "cell_type": "markdown",
   "metadata": {},
   "source": [
    "## Create Data frame"
   ]
  },
  {
   "cell_type": "code",
   "execution_count": 136,
   "metadata": {},
   "outputs": [],
   "source": [
    "df = pd.DataFrame({'time':time, 'language':language})"
   ]
  },
  {
   "cell_type": "markdown",
   "metadata": {},
   "source": [
    "## Time binning"
   ]
  },
  {
   "cell_type": "markdown",
   "metadata": {},
   "source": [
    "- Divide the time into 12 bin ( 2 hours / bin )"
   ]
  },
  {
   "cell_type": "code",
   "execution_count": 137,
   "metadata": {},
   "outputs": [],
   "source": [
    "# bins = list(range(0, 25*3600, 2*3600)) # Divide the time into 12 bin ( 2 hours / bin )\n",
    "# labels = ['0-2', '2-4', '4-6', '6-8',\n",
    "#           '8-10', '10-12', '12-14', '14-16',\n",
    "#           '16-18', '18-20', '20-22', '22-24'] # set label\n",
    "# # print(list(range(0, 25, 2)))\n",
    "# # bins"
   ]
  },
  {
   "cell_type": "markdown",
   "metadata": {},
   "source": [
    "- Divide the time into 24 bin ( 1 hours / bin )"
   ]
  },
  {
   "cell_type": "code",
   "execution_count": 138,
   "metadata": {
    "scrolled": true
   },
   "outputs": [],
   "source": [
    "bins = list(range(0, 25*3600, 1*3600)) # Divide the time into 24 bin ( 1 hours / bin )\n",
    "labels = ['0 pm','1 am','2 am','3 am','4 am',\n",
    "          '5 am','6 am','7 am','8 am','9 am',\n",
    "          '10 am','11 am','12 am','13 pm','14 pm',\n",
    "         '15 pm','16 pm','17 pm','18 pm','19 pm',\n",
    "          '20 pm','21 pm','22 pm','23 pm'] # set label\n",
    "# print(list(range(0, 25, 2)))\n",
    "# bins"
   ]
  },
  {
   "cell_type": "code",
   "execution_count": 139,
   "metadata": {},
   "outputs": [],
   "source": [
    "df['sec'] = df.time.dt.hour * 3600 + df.time.dt.minute*60 + df.time.dt.second # convert time unit to second.\n",
    "df['group'] = pd.cut(df['sec'], bins=bins, labels=labels) # set bin label into group column."
   ]
  },
  {
   "cell_type": "code",
   "execution_count": 140,
   "metadata": {},
   "outputs": [
    {
     "data": {
      "text/html": [
       "<div>\n",
       "<style scoped>\n",
       "    .dataframe tbody tr th:only-of-type {\n",
       "        vertical-align: middle;\n",
       "    }\n",
       "\n",
       "    .dataframe tbody tr th {\n",
       "        vertical-align: top;\n",
       "    }\n",
       "\n",
       "    .dataframe thead th {\n",
       "        text-align: right;\n",
       "    }\n",
       "</style>\n",
       "<table border=\"1\" class=\"dataframe\">\n",
       "  <thead>\n",
       "    <tr style=\"text-align: right;\">\n",
       "      <th></th>\n",
       "      <th>time</th>\n",
       "      <th>language</th>\n",
       "      <th>sec</th>\n",
       "      <th>group</th>\n",
       "    </tr>\n",
       "  </thead>\n",
       "  <tbody>\n",
       "    <tr>\n",
       "      <th>0</th>\n",
       "      <td>2019-09-06 03:07:06+07:00</td>\n",
       "      <td>th</td>\n",
       "      <td>11226</td>\n",
       "      <td>3 am</td>\n",
       "    </tr>\n",
       "    <tr>\n",
       "      <th>1</th>\n",
       "      <td>2019-09-06 03:07:31+07:00</td>\n",
       "      <td>en</td>\n",
       "      <td>11251</td>\n",
       "      <td>3 am</td>\n",
       "    </tr>\n",
       "    <tr>\n",
       "      <th>2</th>\n",
       "      <td>2019-09-06 03:08:03+07:00</td>\n",
       "      <td>en</td>\n",
       "      <td>11283</td>\n",
       "      <td>3 am</td>\n",
       "    </tr>\n",
       "    <tr>\n",
       "      <th>3</th>\n",
       "      <td>2019-09-06 03:08:12+07:00</td>\n",
       "      <td>en</td>\n",
       "      <td>11292</td>\n",
       "      <td>3 am</td>\n",
       "    </tr>\n",
       "    <tr>\n",
       "      <th>4</th>\n",
       "      <td>2019-09-06 03:08:15+07:00</td>\n",
       "      <td>en</td>\n",
       "      <td>11295</td>\n",
       "      <td>3 am</td>\n",
       "    </tr>\n",
       "  </tbody>\n",
       "</table>\n",
       "</div>"
      ],
      "text/plain": [
       "                       time language    sec group\n",
       "0 2019-09-06 03:07:06+07:00       th  11226  3 am\n",
       "1 2019-09-06 03:07:31+07:00       en  11251  3 am\n",
       "2 2019-09-06 03:08:03+07:00       en  11283  3 am\n",
       "3 2019-09-06 03:08:12+07:00       en  11292  3 am\n",
       "4 2019-09-06 03:08:15+07:00       en  11295  3 am"
      ]
     },
     "execution_count": 140,
     "metadata": {},
     "output_type": "execute_result"
    }
   ],
   "source": [
    "df.head()"
   ]
  },
  {
   "cell_type": "code",
   "execution_count": 141,
   "metadata": {},
   "outputs": [
    {
     "data": {
      "text/html": [
       "<div>\n",
       "<style scoped>\n",
       "    .dataframe tbody tr th:only-of-type {\n",
       "        vertical-align: middle;\n",
       "    }\n",
       "\n",
       "    .dataframe tbody tr th {\n",
       "        vertical-align: top;\n",
       "    }\n",
       "\n",
       "    .dataframe thead th {\n",
       "        text-align: right;\n",
       "    }\n",
       "</style>\n",
       "<table border=\"1\" class=\"dataframe\">\n",
       "  <thead>\n",
       "    <tr style=\"text-align: right;\">\n",
       "      <th></th>\n",
       "      <th>time</th>\n",
       "      <th>language</th>\n",
       "      <th>sec</th>\n",
       "      <th>group</th>\n",
       "    </tr>\n",
       "  </thead>\n",
       "  <tbody>\n",
       "    <tr>\n",
       "      <th>21019</th>\n",
       "      <td>2019-09-08 00:57:50+07:00</td>\n",
       "      <td>th</td>\n",
       "      <td>3470</td>\n",
       "      <td>0 pm</td>\n",
       "    </tr>\n",
       "    <tr>\n",
       "      <th>21020</th>\n",
       "      <td>2019-09-08 00:57:51+07:00</td>\n",
       "      <td>th</td>\n",
       "      <td>3471</td>\n",
       "      <td>0 pm</td>\n",
       "    </tr>\n",
       "    <tr>\n",
       "      <th>21021</th>\n",
       "      <td>2019-09-08 00:57:52+07:00</td>\n",
       "      <td>th</td>\n",
       "      <td>3472</td>\n",
       "      <td>0 pm</td>\n",
       "    </tr>\n",
       "    <tr>\n",
       "      <th>21022</th>\n",
       "      <td>2019-09-08 00:58:04+07:00</td>\n",
       "      <td>th</td>\n",
       "      <td>3484</td>\n",
       "      <td>0 pm</td>\n",
       "    </tr>\n",
       "    <tr>\n",
       "      <th>21023</th>\n",
       "      <td>2019-09-08 00:58:34+07:00</td>\n",
       "      <td>th</td>\n",
       "      <td>3514</td>\n",
       "      <td>0 pm</td>\n",
       "    </tr>\n",
       "  </tbody>\n",
       "</table>\n",
       "</div>"
      ],
      "text/plain": [
       "                           time language   sec group\n",
       "21019 2019-09-08 00:57:50+07:00       th  3470  0 pm\n",
       "21020 2019-09-08 00:57:51+07:00       th  3471  0 pm\n",
       "21021 2019-09-08 00:57:52+07:00       th  3472  0 pm\n",
       "21022 2019-09-08 00:58:04+07:00       th  3484  0 pm\n",
       "21023 2019-09-08 00:58:34+07:00       th  3514  0 pm"
      ]
     },
     "execution_count": 141,
     "metadata": {},
     "output_type": "execute_result"
    }
   ],
   "source": [
    "df.tail()"
   ]
  },
  {
   "cell_type": "markdown",
   "metadata": {},
   "source": [
    "## Hashtag"
   ]
  },
  {
   "cell_type": "code",
   "execution_count": 142,
   "metadata": {},
   "outputs": [],
   "source": [
    "hashtag = []\n",
    "for j in range(len(tweets_data)):\n",
    "    if j not in lst_error: # ensure that message, not in the list of error.\n",
    "        for i in range(len(tweets_data[j]['entities']['hashtags'])): # access to hashtag value\n",
    "            hashtag.append(tweets_data[j]['entities']['hashtags'][i]['text'].upper()) # append hashtag into hashtag list\n",
    "#             print(tweets_data[j]['entities']['hashtags'][i]['text'])"
   ]
  },
  {
   "cell_type": "code",
   "execution_count": 143,
   "metadata": {},
   "outputs": [],
   "source": [
    "hashtag_str = ''\n",
    "for i in hashtag:\n",
    "    hashtag_str += i+' '"
   ]
  },
  {
   "cell_type": "code",
   "execution_count": 144,
   "metadata": {},
   "outputs": [
    {
     "data": {
      "text/plain": [
       "23683"
      ]
     },
     "execution_count": 144,
     "metadata": {},
     "output_type": "execute_result"
    }
   ],
   "source": [
    "len(hashtag)"
   ]
  },
  {
   "cell_type": "markdown",
   "metadata": {},
   "source": [
    "***monitor all hashtag***"
   ]
  },
  {
   "cell_type": "code",
   "execution_count": 145,
   "metadata": {
    "scrolled": true
   },
   "outputs": [
    {
     "data": {
      "text/plain": [
       "KCON2019THAILAND            8082\n",
       "X1                          1691\n",
       "KCON19TH                    1136\n",
       "AB6IX                        955\n",
       "KCON2019                     849\n",
       "MCDXKCON                     821\n",
       "MARKETERK                    821\n",
       "KCONTHAILAND2019             757\n",
       "รักนะจุ๊บๆ_KCON              562\n",
       "แจก                          511\n",
       "GOT7                         490\n",
       "TWITTERBLUEROOM              354\n",
       "THEBOYZ                      268\n",
       "KCON                         240\n",
       "STRAYKIDS                    174\n",
       "รักนะจุ๊บๆ_X1                140\n",
       "EXPLORATIONINBKK             132\n",
       "HIPRAE                       117\n",
       "엑스원                          110\n",
       "โปรเจคเด็กหลง                 95\n",
       "ONEUS                         91\n",
       "GOT7FANFESTINBKK              91\n",
       "FLASH3RDWIN                   88\n",
       "ATEEZ                         84\n",
       "IZONE                         83\n",
       "ตลาดนัดX1                     77\n",
       "ตลาดนัดEXO                    73\n",
       "TOMOON                        67\n",
       "X1_FLAϞH                      60\n",
       "EXOPLORATIONINBKK             58\n",
       "รักนะจุ๊บๆ_GOT7               53\n",
       "งานเขียน                      51\n",
       "SONDONGPYO                    50\n",
       "ตลาดกัซ                       49\n",
       "ตลาดนัดSTRAYKIDS              49\n",
       "รักนะจุ๊บๆ_STRAYKIDS          48\n",
       "รับทำของแจก                   48\n",
       "손동표                           47\n",
       "동표                            47\n",
       "ドンピョ                          46\n",
       "ตลาดนัดAB6IX                  46\n",
       "COVERSTARK                    45\n",
       "VERIVERY                      45\n",
       "รับกดบัตร                     42\n",
       "KIMJAEHWAN                    41\n",
       "ตลาดนัดWANNAONE               41\n",
       "KANGDANIELCOLORONMEINBKK      40\n",
       "ลดล้างสต็อก                   40\n",
       "TOFUPOPVOTE                   39\n",
       "GIDLE                         38\n",
       "Name: hashtag, dtype: int64"
      ]
     },
     "execution_count": 145,
     "metadata": {},
     "output_type": "execute_result"
    }
   ],
   "source": [
    "hashtag_df = pd.DataFrame({'hashtag':hashtag})\n",
    "hashtag_df['hashtag'].value_counts().head(50)"
   ]
  },
  {
   "cell_type": "markdown",
   "metadata": {},
   "source": [
    "***Count hashtag related with artist***"
   ]
  },
  {
   "cell_type": "code",
   "execution_count": 146,
   "metadata": {},
   "outputs": [],
   "source": [
    "boystory = re.findall(\"BOYSTORY\", hashtag_str).count('BOYSTORY')\n",
    "everglow = re.findall(\"EVERGLOW\", hashtag_str).count('EVERGLOW')\n",
    "goldenchild = re.findall(\"GOLDENCHILD\", hashtag_str).count('GOLDENCHILD') + re.findall(\"GOLDEN_CHILD\", hashtag_str).count('GOLDEN_CHILD')\n",
    "got7 = re.findall(\"GOT7\", hashtag_str).count('GOT7')\n",
    "itzy = re.findall(\"ITZY\", hashtag_str).count('ITZY')\n",
    "kimjaehwan = re.findall(\"คิมแจฮวาน\", hashtag_str).count('คิมแจฮวาน') + re.findall(\"KIMJAEHWAN\", hashtag_str).count('KIMJAEHWAN')\n",
    "nature = re.findall(\"NATURE\", hashtag_str).count('NATURE')\n",
    "oneus = re.findall(\"ONEUS\", hashtag_str).count('ONEUS')\n",
    "theboyz = re.findall(\"THEBOYZ\", hashtag_str).count('THEBOYZ')\n",
    "x1 = re.findall(\"X1\", hashtag_str).count('X1') + re.findall(\"XONE\", hashtag_str).count('XONE')\n",
    "nichkhun = re.findall(\"NICHKHUN\", hashtag_str).count('NICHKHUN') + re.findall(\"นิชคุณ\", hashtag_str).count('นิชคุณ')\n",
    "gidle = re.findall(\"G_I_DLE\", hashtag_str).count('G_I_DLE') + re.findall(\"GIDLE\", hashtag_str).count('GIDLE')\n",
    "ab6ix = re.findall(\"AB6IX\", hashtag_str).count('AB6IX')\n",
    "ateez = re.findall(\"ATEEZ\", hashtag_str).count('ATEEZ')\n",
    "bvndit = re.findall(\"BVNDIT\", hashtag_str).count('BVNDIT')\n",
    "chungha = re.findall(\"CHUNGHA\", hashtag_str).count('CHUNGHA')\n",
    "izone = re.findall(\"IZONE\", hashtag_str).count('IZONE')\n",
    "straykids = re.findall(\"STRAYKIDS\", hashtag_str).count('STRAYKIDS')\n",
    "varivary = re.findall(\"VERIVERY\", hashtag_str).count('VERIVERY')"
   ]
  },
  {
   "cell_type": "code",
   "execution_count": 147,
   "metadata": {},
   "outputs": [],
   "source": [
    "# Prepare data to create a data frame.\n",
    "artist = ['BOYSTORY', 'EVERGLOW', 'GOLDENCHILD', 'GOT7', 'ITZY', 'KIMJAEHWAN', 'NATURE', 'ONEUS', 'THEBOYZ', 'X1', 'NICHKHUN', 'G_I_DLE', 'AB6IX', 'ATEEZ', 'BVNDIT', 'CHUNGHA', 'IZONE', 'STRAYKIDS', 'VERIVERY']\n",
    "hashtag_count = [boystory, everglow, goldenchild, got7, itzy, kimjaehwan, nature, oneus, theboyz, x1, nichkhun, gidle, ab6ix, ateez, bvndit, chungha, izone, straykids, varivary]\n",
    "\n",
    "# Create a data frame artist_df.\n",
    "artist_df = pd.DataFrame({'artist':artist, 'hashtag_count':hashtag_count}).set_index('artist')"
   ]
  },
  {
   "cell_type": "markdown",
   "metadata": {},
   "source": [
    "## Collect each tweet message.\n",
    "extract a full message from each tweet."
   ]
  },
  {
   "cell_type": "code",
   "execution_count": 148,
   "metadata": {
    "scrolled": true
   },
   "outputs": [],
   "source": [
    "alltext = []\n",
    "\n",
    "try: # Check error in data\n",
    "    for i in range(len(tweets_data)):\n",
    "        if i not in lst_error: # ensure that message, not in the list of error.\n",
    "            if re.search('Microsoft PowerApps and Flow',tweets_data[329]['source']): # if tweet posted by Microsoft PowerApps, the key for access text will have only one then this condition must be checked first.\n",
    "                text = tweets_data[i]['text']\n",
    "                alltext.append(text)\n",
    "            elif re.search('^RT' ,tweets_data[i]['text']): # check type of tweet [RT = retweet]\n",
    "                if re.search('…$' ,tweets_data[i]['text']): # check the message that full message or summary message.\n",
    "                    try: # in normal case\n",
    "                        text = tweets_data[i]['retweeted_status']['extended_tweet']['full_text'] # access text.\n",
    "                        alltext.append(text) # append to the alltext list.\n",
    "#                         print(text)\n",
    "#                         print('--------------------')\n",
    "                    except: # in case of a full message not in key 'extended_tweet'.\n",
    "                        text = tweets_data[i]['retweeted_status']['text'] # access text.\n",
    "                        alltext.append(text) # append to the alltext list.\n",
    "#                         print(text)\n",
    "#                         print('--------------------')\n",
    "                else:\n",
    "                    if re.search('… https://' ,tweets_data[i]['text']): # check the text is condensed but the embedded link is unabridged.\n",
    "                        text = tweets_data[i]['extended_tweet']['full_text'] # access text.\n",
    "                        alltext.append(text) # append to the alltext list.\n",
    "#                       print(text)\n",
    "#                       print('--------------------')\n",
    "                    else:\n",
    "                        text = tweets_data[i]['retweeted_status']['text'] # access text.\n",
    "                        alltext.append(text) # append to the alltext list.\n",
    "#                     print(text)\n",
    "#                     print('--------------------')\n",
    "            else: # in case of normal tweets\n",
    "                if re.search('… https//' ,tweets_data[i]['text']): # check the text is condensed but the embedded link is unabridged.\n",
    "                    text = tweets_data[i]['extended_tweet']['full_text'] # access text.\n",
    "                    alltext.append(text) # append to the alltext list.\n",
    "#                     print(text)\n",
    "#                     print('--------------------')\n",
    "                else:\n",
    "                    text = tweets_data[i]['text'] # access text.\n",
    "                    alltext.append(text) # append to the alltext list.\n",
    "#                     print(text)\n",
    "#                     print('--------------------')\n",
    "except:\n",
    "    print(f'ERROR FOUND!! INDEX : {i}')"
   ]
  },
  {
   "cell_type": "code",
   "execution_count": 149,
   "metadata": {},
   "outputs": [
    {
     "data": {
      "text/plain": [
       "21024"
      ]
     },
     "execution_count": 149,
     "metadata": {},
     "output_type": "execute_result"
    }
   ],
   "source": [
    "len(alltext)"
   ]
  },
  {
   "cell_type": "markdown",
   "metadata": {},
   "source": [
    "## Simple Sentiment Analysis [ Thai language only. ]"
   ]
  },
  {
   "cell_type": "code",
   "execution_count": 150,
   "metadata": {},
   "outputs": [],
   "source": [
    "neg = open('data/neg.txt', encoding='utf-8') # Open files that contain negative words.\n",
    "neg_list = [i.strip() for i in neg] # Create list of negative words."
   ]
  },
  {
   "cell_type": "code",
   "execution_count": 151,
   "metadata": {},
   "outputs": [],
   "source": [
    "pos = open('data/pos.txt', encoding='utf-8') # Open files that contain positive words.\n",
    "pos_list = [i.strip() for i in pos] # Create list of positive words."
   ]
  },
  {
   "cell_type": "markdown",
   "metadata": {},
   "source": [
    "### Create function sentiment\n",
    "\n",
    "This function will decide what message is positive or negative."
   ]
  },
  {
   "cell_type": "code",
   "execution_count": 152,
   "metadata": {},
   "outputs": [],
   "source": [
    "def pos_ro_neg(data):\n",
    "    negative = 0\n",
    "    positive = 0\n",
    "    clean_text = [] # Remove stop words.\n",
    "#     tokenize = deepcut.tokenize(text) # Tokenize by deepcut method, better but slower.\n",
    "    tokenize = word_tokenize(data, engine='newmm') # tokenize by pythainlp mathod\n",
    "# --------------------------------------------------------------------------------------\n",
    "    for i in tokenize: # this loop will check stop words in message.\n",
    "        if i not in list(thai_stopwords()):\n",
    "            clean_text.append(i)\n",
    "# --------------------------------------------------------------------------------------\n",
    "    for j in clean_text: # count positive and negative words.\n",
    "        if j in neg_list:\n",
    "            negative += 1\n",
    "        elif j in pos_list:\n",
    "            positive += 1\n",
    "# --------------------------------------------------------------------------------------\n",
    "    if positive > negative: # Decide what message positive or negative.\n",
    "#         print('positive') # check result\n",
    "        return \"positive\"\n",
    "    elif negative > positive:\n",
    "#         print('negative') # check result\n",
    "        return \"negative\"\n",
    "    else:\n",
    "        return \"other\""
   ]
  },
  {
   "cell_type": "markdown",
   "metadata": {},
   "source": [
    "***Warning!!!*** : Takes quite a long time to run cell below.\n",
    "- if using 'deepcut' method it takes high CPU resource."
   ]
  },
  {
   "cell_type": "code",
   "execution_count": 153,
   "metadata": {},
   "outputs": [],
   "source": [
    "pos_neg = [] # Collect positive and negative from function decide what message is positive or negative.\n",
    "for i in range(len(alltext)):\n",
    "    text = alltext[i].replace(\"\\n\", \"\")    # prepare text (remove \\n from text.)\n",
    "    text = text.replace(\" \", \"\")           # prepare text (remove ' ' from text.)\n",
    "    pos_neg.append(pos_ro_neg(text))       # return positive or negative to list pos_neg."
   ]
  },
  {
   "cell_type": "markdown",
   "metadata": {},
   "source": [
    "----------"
   ]
  },
  {
   "cell_type": "markdown",
   "metadata": {},
   "source": [
    "# - - - - - Visualization - - - - -"
   ]
  },
  {
   "cell_type": "markdown",
   "metadata": {},
   "source": [
    "## The tweet related to \"KCON2019THAILAND\" by time."
   ]
  },
  {
   "cell_type": "code",
   "execution_count": 154,
   "metadata": {},
   "outputs": [
    {
     "data": {
      "text/plain": [
       "Text(0, 0.5, 'number of tweets')"
      ]
     },
     "execution_count": 154,
     "metadata": {},
     "output_type": "execute_result"
    },
    {
     "data": {
      "image/png": "[encoded data removed]",
      "text/plain": [
       "<Figure size 432x288 with 1 Axes>"
      ]
     },
     "metadata": {
      "needs_background": "light"
     },
     "output_type": "display_data"
    }
   ],
   "source": [
    "fig = plt.figure()\n",
    "p = df.groupby('group').count()['time'].plot(color='m')\n",
    "p.set_title('tweet related to \"KCON2019THAILAND\" by time.')\n",
    "p.set_xlabel('Time (hour).')\n",
    "p.set_ylabel('number of tweets')"
   ]
  },
  {
   "cell_type": "code",
   "execution_count": 155,
   "metadata": {},
   "outputs": [
    {
     "data": {
      "text/plain": [
       "Text(0, 0.5, 'number of tweets')"
      ]
     },
     "execution_count": 155,
     "metadata": {},
     "output_type": "execute_result"
    },
    {
     "data": {
      "image/png": "[encoded data removed]",
      "text/plain": [
       "<Figure size 432x288 with 1 Axes>"
      ]
     },
     "metadata": {
      "needs_background": "light"
     },
     "output_type": "display_data"
    }
   ],
   "source": [
    "fig = plt.figure()\n",
    "p = df.groupby('group').count()['time'].plot.bar(color='pink')\n",
    "p.set_title('tweet related to \"KCON2019THAILAND\" by time.')\n",
    "p.set_xlabel('Time (hour).')\n",
    "p.set_ylabel('number of tweets')"
   ]
  },
  {
   "cell_type": "markdown",
   "metadata": {},
   "source": [
    "## Top 5 language tweet about KCON2019THAILAND."
   ]
  },
  {
   "cell_type": "code",
   "execution_count": 156,
   "metadata": {},
   "outputs": [
    {
     "data": {
      "text/plain": [
       "Text(0, 0.5, 'number of tweets')"
      ]
     },
     "execution_count": 156,
     "metadata": {},
     "output_type": "execute_result"
    },
    {
     "data": {
      "image/png": "[encoded data removed]",
      "text/plain": [
       "<Figure size 432x288 with 1 Axes>"
      ]
     },
     "metadata": {
      "needs_background": "light"
     },
     "output_type": "display_data"
    }
   ],
   "source": [
    "fig = plt.figure()\n",
    "p = df['language'].value_counts()[:5].plot.bar()\n",
    "p.set_title('Top 5 language tweet about \"KCON2019THAILAND\".')\n",
    "p.set_xlabel('Language')\n",
    "p.set_ylabel('number of tweets')"
   ]
  },
  {
   "cell_type": "markdown",
   "metadata": {},
   "source": [
    "## Ranking artist from a hashtag that user tweet [ Raw data ]"
   ]
  },
  {
   "cell_type": "code",
   "execution_count": 157,
   "metadata": {},
   "outputs": [
    {
     "data": {
      "text/plain": [
       "Text(0, 0.5, 'number of hashtag')"
      ]
     },
     "execution_count": 157,
     "metadata": {},
     "output_type": "execute_result"
    },
    {
     "data": {
      "image/png": "[encoded data removed]",
      "text/plain": [
       "<Figure size 432x288 with 1 Axes>"
      ]
     },
     "metadata": {
      "needs_background": "light"
     },
     "output_type": "display_data"
    }
   ],
   "source": [
    "fig = plt.figure()\n",
    "p = artist_df.sort_values(by=['hashtag_count'], ascending=False)['hashtag_count'].plot.bar()\n",
    "p.set_title('Ranking artist from a hashtag that user tweet')\n",
    "p.set_ylabel('number of hashtag')"
   ]
  },
  {
   "cell_type": "markdown",
   "metadata": {},
   "source": [
    "## Ranking artist from a hashtag that user tweet [ Log nomalized ]"
   ]
  },
  {
   "cell_type": "code",
   "execution_count": 158,
   "metadata": {},
   "outputs": [],
   "source": [
    "artist_df['lognorm'] = np.log10(1+artist_df['hashtag_count']) # create  hashtag count nomalized column"
   ]
  },
  {
   "cell_type": "code",
   "execution_count": 159,
   "metadata": {},
   "outputs": [
    {
     "data": {
      "text/plain": [
       "Text(0, 0.5, 'number of hashtag')"
      ]
     },
     "execution_count": 159,
     "metadata": {},
     "output_type": "execute_result"
    },
    {
     "data": {
      "image/png": "[encoded data removed]",
      "text/plain": [
       "<Figure size 432x288 with 1 Axes>"
      ]
     },
     "metadata": {
      "needs_background": "light"
     },
     "output_type": "display_data"
    }
   ],
   "source": [
    "fig = plt.figure()\n",
    "p = artist_df.sort_values(by=['lognorm'], ascending= False)['lognorm'].plot.bar()\n",
    "p.set_title('Ranking artist from a hashtag that user tweet (Log nomalized)')\n",
    "p.set_ylabel('number of hashtag')"
   ]
  },
  {
   "cell_type": "markdown",
   "metadata": {},
   "source": [
    "## Tweets positive or negative"
   ]
  },
  {
   "cell_type": "code",
   "execution_count": 160,
   "metadata": {},
   "outputs": [
    {
     "data": {
      "image/png": "[encoded data removed]",
      "text/plain": [
       "<Figure size 432x432 with 1 Axes>"
      ]
     },
     "metadata": {},
     "output_type": "display_data"
    }
   ],
   "source": [
    "labels = ['Positive', 'Negative']\n",
    "sizes = [pos_neg.count('positive'), pos_neg.count('negative')]\n",
    "fig1, ax1 = plt.subplots(figsize=(6, 6))\n",
    "ax1.pie(sizes, labels=labels, autopct='%1.1f%%', shadow=False)\n",
    "ax1.axis('equal')\n",
    "ax1.set_title('Post sentiment analysis')\n",
    "plt.show()"
   ]
  },
  {
   "cell_type": "code",
   "execution_count": 161,
   "metadata": {},
   "outputs": [
    {
     "data": {
      "text/plain": [
       "0.5533675799086758"
      ]
     },
     "execution_count": 161,
     "metadata": {},
     "output_type": "execute_result"
    }
   ],
   "source": [
    "pos_neg.count('positive')/len(pos_neg)"
   ]
  },
  {
   "cell_type": "code",
   "execution_count": 162,
   "metadata": {},
   "outputs": [
    {
     "data": {
      "text/plain": [
       "0.061691400304414"
      ]
     },
     "execution_count": 162,
     "metadata": {},
     "output_type": "execute_result"
    }
   ],
   "source": [
    "pos_neg.count('negative')/len(pos_neg)"
   ]
  },
  {
   "cell_type": "code",
   "execution_count": 163,
   "metadata": {},
   "outputs": [
    {
     "data": {
      "text/plain": [
       "0.3849410197869102"
      ]
     },
     "execution_count": 163,
     "metadata": {},
     "output_type": "execute_result"
    }
   ],
   "source": [
    "pos_neg.count('other')/len(pos_neg)"
   ]
  },
  {
   "cell_type": "markdown",
   "metadata": {},
   "source": [
    "----------"
   ]
  }
 ],
 "metadata": {
  "kernelspec": {
   "display_name": "Python 3",
   "language": "python",
   "name": "python3"
  },
  "language_info": {
   "codemirror_mode": {
    "name": "ipython",
    "version": 3
   },
   "file_extension": ".py",
   "mimetype": "text/x-python",
   "name": "python",
   "nbconvert_exporter": "python",
   "pygments_lexer": "ipython3",
   "version": "3.7.3"
  }
 },
 "nbformat": 4,
 "nbformat_minor": 4
}
